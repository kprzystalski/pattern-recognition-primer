{
 "cells": [
  {
   "cell_type": "markdown",
   "id": "602116fc",
   "metadata": {},
   "source": [
    "# Decision trees\n",
    "\n",
    "In this section we cover the decision tree methods. We divided it into three parts:\n",
    "- univariate methods,\n",
    "- multivariate methods,\n",
    "- quality metrics.\n",
    "\n",
    "In the first two sections we show two different approaches on building decision trees. The last section is about methods that allow to measure the quality and improve the tree by reducing the number of leafs (pruning)."
   ]
  },
  {
   "cell_type": "markdown",
   "id": "c95661be",
   "metadata": {},
   "source": [
    "## Idea\n",
    "\n",
    "Decision trees are one of the methods that is transparent on the decision it took while prediction. It build a set of leafs at each level based on a rule. It is easy to understand, because it can be also written as a set of rules that are human readable. The tree can be a binary as below or can divide on each level and generate more than two leafs.\n",
    "\n",
    "![](./../images/tree.png)"
   ]
  },
  {
   "cell_type": "markdown",
   "id": "a08c898d",
   "metadata": {},
   "source": [
    "The customer segmentation shown in the lectures looks as following:\n",
    "\n",
    "\n",
    "| Location|Category   | Gender | Product review  | Decision |\n",
    "|---------|-----------|--------|-----------------|--------|\n",
    "| Berlin | Furniture  | Male   | Checked Reviews | True |\n",
    "| London | Furniture  | Male   | Checked Reviews | False |\n",
    "| Berlin | Furniture  | Female | Checked Reviews | False|\n",
    "| Berlin | Textile    | Female | Checked Reviews | True |\n",
    "| London | Electronics| Male   | Checked Reviews | False |\n",
    "| London | Textile    | Female | Checked Reviews | False |\n",
    "| Paris  | Textile    | Male   | Did not checked | True |\n",
    "| Berlin | Electronics| Male   | Checked Reviews | True |\n",
    "| Paris  | Electronics| Male   | Did not checked | True |\n",
    "| London | Electronics| Female | Checked Reviews | True |\n",
    "| Paris  | Furniture  | Female | Did not checked | True |\n",
    "| Berlin | Textile    | Female | Did not checked | True |\n",
    "| London | Electronics| Female | Did not checked | False |\n",
    "| London | Furniture  | Female | Checked Reviews | False |\n",
    "| London | Textile    | Female | Did not checked | False |\n",
    "\n",
    "\n",
    "The data above can be represented as two variables ``labels`` that is the last column and ``data_set`` that represents the other columns."
   ]
  },
  {
   "cell_type": "code",
   "execution_count": null,
   "id": "1c2ecb25",
   "metadata": {},
   "outputs": [],
   "source": [
    "import numpy\n",
    "\n",
    "labels = [1,1,-1,1,-1,-1,1,1,1,1,1,1,-1,-1,-1]\n",
    "data_set = [[1,1,2,2],[2,1,2,2],[1,1,1,2],[1,2,1,2],[2,3,2,2],\n",
    "                [2,2,1,2],[3,2,2,1],[1,3,2,2],[3,3,2,1],[2,3,1,2],\n",
    "                [3,1,1,1],[1,2,1,1],[2,3,1,1],[2,1,1,2],[2,2,1,1]]"
   ]
  },
  {
   "cell_type": "markdown",
   "id": "1cb4b9fb",
   "metadata": {},
   "source": [
    "The data set can be visualized using pandas as shown below."
   ]
  },
  {
   "cell_type": "code",
   "execution_count": null,
   "id": "6c246c27",
   "metadata": {},
   "outputs": [],
   "source": [
    "import pandas as pd\n",
    "\n",
    "pd.DataFrame(data_set, columns=['Location','Category','Gender','Product review'])"
   ]
  },
  {
   "cell_type": "code",
   "execution_count": null,
   "id": "2108e7f0",
   "metadata": {},
   "outputs": [],
   "source": [
    "%store data_set\n",
    "%store labels"
   ]
  },
  {
   "cell_type": "markdown",
   "id": "820fdbb1",
   "metadata": {},
   "source": [
    "# Univariate methods\n",
    "\n",
    "Univariate methods take only one feature into consideration when splitting the node into leafs. In this section we cover two univariate methods:\n",
    "- CART,\n",
    "- C4.5.\n",
    "\n",
    "There are more univariate methods, but show only two examples that use different split methods. In this notebook we show two methods with a different approach to splitting. The first one build a binary tree and the second generates a non-binary tree."
   ]
  },
  {
   "cell_type": "code",
   "execution_count": 1,
   "id": "6d27de0a",
   "metadata": {},
   "outputs": [
    {
     "ename": "ModuleNotFoundError",
     "evalue": "No module named 'pydot'",
     "output_type": "error",
     "traceback": [
      "\u001b[0;31m---------------------------------------------------------------------------\u001b[0m",
      "\u001b[0;31mModuleNotFoundError\u001b[0m                       Traceback (most recent call last)",
      "Input \u001b[0;32mIn [1]\u001b[0m, in \u001b[0;36m<cell line: 3>\u001b[0;34m()\u001b[0m\n\u001b[1;32m      1\u001b[0m \u001b[38;5;28;01mimport\u001b[39;00m \u001b[38;5;21;01mmath\u001b[39;00m\n\u001b[1;32m      2\u001b[0m \u001b[38;5;28;01mimport\u001b[39;00m \u001b[38;5;21;01mnumpy\u001b[39;00m \u001b[38;5;28;01mas\u001b[39;00m \u001b[38;5;21;01mnp\u001b[39;00m\n\u001b[0;32m----> 3\u001b[0m \u001b[38;5;28;01mimport\u001b[39;00m \u001b[38;5;21;01mpydot\u001b[39;00m\n\u001b[1;32m      4\u001b[0m \u001b[38;5;28;01mimport\u001b[39;00m \u001b[38;5;21;01mcopy\u001b[39;00m\n\u001b[1;32m      5\u001b[0m \u001b[38;5;28;01mfrom\u001b[39;00m \u001b[38;5;21;01mmath\u001b[39;00m \u001b[38;5;28;01mimport\u001b[39;00m log\n",
      "\u001b[0;31mModuleNotFoundError\u001b[0m: No module named 'pydot'"
     ]
    }
   ],
   "source": [
    "import math\n",
    "import numpy as np\n",
    "import pydot\n",
    "import copy\n",
    "from math import log"
   ]
  },
  {
   "cell_type": "markdown",
   "id": "aff4feb4",
   "metadata": {},
   "source": [
    "We should restore the ``data_set`` and ``labels`` from the previous notebook."
   ]
  },
  {
   "cell_type": "code",
   "execution_count": null,
   "id": "d128e050",
   "metadata": {},
   "outputs": [],
   "source": [
    "%store -r data_set\n",
    "%store -r labels"
   ]
  },
  {
   "cell_type": "markdown",
   "id": "ddaf107c",
   "metadata": {},
   "source": [
    "## CART\n",
    "\n",
    "CART stands for Classification and Regression Trees. It generates a binary tree and consist of three steps:\n",
    "1. Calculate the gini index for each feature\n",
    "2. Take the lowest value ofωand split the node into two child nodes\n",
    "3. Repeat the steps until we have all child nodes\n",
    "\n",
    "Before we come to the method itself, we should define the leaf."
   ]
  },
  {
   "cell_type": "code",
   "execution_count": null,
   "id": "76340b29",
   "metadata": {},
   "outputs": [],
   "source": [
    "class BinaryLeaf:\n",
    "\n",
    "    def __init__(self, elements, labels, ids):\n",
    "        self.L = None\n",
    "        self.R = None\n",
    "        self.elements = elements\n",
    "        self.split_feature = None\n",
    "        self.labels = labels\n",
    "        self.completed = False\n",
    "        self.ids = ids\n",
    "\n",
    "    def set_R(self, Rleaf):\n",
    "        self.R = Rleaf\n",
    "\n",
    "    def set_L(self, Lleaf):\n",
    "        self.L = Lleaf\n",
    "\n",
    "    def set_elements(self, elements):\n",
    "        self.elements = elements\n",
    "\n",
    "    def get_elements(self):\n",
    "        return self.elements\n",
    "\n",
    "    def set_p(self, threshold):\n",
    "        self.p = threshold\n",
    "\n",
    "    def get_L(self):\n",
    "        return self.L\n",
    "\n",
    "    def get_R(self):\n",
    "        return self.R\n",
    "\n",
    "    def set_completed(self):\n",
    "        self.completed = True\n",
    "\n",
    "    def is_completed(self):\n",
    "        return self.completed\n",
    "\n",
    "    def get_labels(self):\n",
    "        return self.labels\n",
    "\n",
    "    def set_split(self, feature):\n",
    "        self.split_feature = feature\n",
    "\n",
    "    def get_split(self):\n",
    "        return self.split_feature\n",
    "\n",
    "    def set_ids(self, ids):\n",
    "        self.ids = ids\n",
    "\n",
    "    def get_ids(self):\n",
    "        return self.ids"
   ]
  },
  {
   "cell_type": "markdown",
   "id": "68dfd203",
   "metadata": {},
   "source": [
    "The variables that we gonna use is the ``labels_count``, in other words the number of classes. We need ``ids`` to track the split. "
   ]
  },
  {
   "cell_type": "code",
   "execution_count": null,
   "id": "0b98c62b",
   "metadata": {},
   "outputs": [],
   "source": [
    "labels_count = len(np.unique(labels))\n",
    "\n",
    "ids = list(range(len(data_set)))\n",
    "root = BinaryLeaf(data_set, labels, ids)\n",
    "current_node = root"
   ]
  },
  {
   "cell_type": "markdown",
   "id": "6ddabcbe",
   "metadata": {},
   "source": [
    "There are several helper functions that are next used by our CART method. We use the methods to:\n",
    "- ``get_unique_labels`` - return the unique labels in a leaf,\n",
    "- ``get_unique_values`` - return unique values in a leaf,\n",
    "- ``is_leaf_completed`` - check if a leaf needs to be split or not,\n",
    "- ``find_leaf_not_completed`` - returns the leaf that needs to be split."
   ]
  },
  {
   "cell_type": "code",
   "execution_count": null,
   "id": "cf2cae54",
   "metadata": {},
   "outputs": [],
   "source": [
    "def get_unique_labels(labels):\n",
    "    return np.unique(np.array(labels)).tolist()\n",
    "\n",
    "def get_unique_values(elements):\n",
    "    features_number = len(elements[0])\n",
    "    unique = []\n",
    "    for i in range(features_number):\n",
    "        features_list = []\n",
    "        for j in range(len(elements)):\n",
    "            features_list.append(elements[j][i])\n",
    "        unique.append(np.unique(np.array(features_list)))\n",
    "    return unique\n",
    "\n",
    "def is_leaf_completed(node):\n",
    "    if node.is_completed():\n",
    "        if node.get_L() != None and not node.get_L().is_completed():\n",
    "            return node.get_L()\n",
    "        elif node.get_R() != None and not node.get_R().is_completed():\n",
    "            return node.get_R()\n",
    "        elif node.get_L() == None and node.get_R() == None:\n",
    "            return None\n",
    "        elif node.get_L().is_completed() or node.get_R().is_completed():\n",
    "            new_node = is_leaf_completed(node.get_L())\n",
    "            if new_node == None:\n",
    "                return is_leaf_completed(node.get_R())\n",
    "            else:\n",
    "                return new_node\n",
    "        else:\n",
    "            return None\n",
    "    return node\n",
    "\n",
    "def find_leaf_not_completed(root):\n",
    "    return is_leaf_completed(root)"
   ]
  },
  {
   "cell_type": "markdown",
   "id": "ddb16d66",
   "metadata": {},
   "source": [
    "The split method below return possible split leafs."
   ]
  },
  {
   "cell_type": "code",
   "execution_count": null,
   "id": "b07cfa03",
   "metadata": {},
   "outputs": [],
   "source": [
    "def get_split_candidates(unique_values):\n",
    "    split_list = []\n",
    "    for i in range(len(unique_values)):\n",
    "        current_list = []\n",
    "        temp_list = copy.deepcopy(unique_values)\n",
    "        current_list.append(temp_list[i])\n",
    "        del temp_list[i]\n",
    "        current_list.append(temp_list)\n",
    "        split_list.append(current_list)\n",
    "    return split_list"
   ]
  },
  {
   "cell_type": "markdown",
   "id": "789906ea",
   "metadata": {},
   "source": [
    "The methods below return the ``get_number_of_labels_for_value`` return exactly what the name says."
   ]
  },
  {
   "cell_type": "code",
   "execution_count": null,
   "id": "b28d157a",
   "metadata": {},
   "outputs": [],
   "source": [
    "def get_number_of_labels_for_value(elements, column_id, label):\n",
    "    count = 0\n",
    "    if not isinstance(elements, list):\n",
    "        elements_list = [elements]\n",
    "    else:\n",
    "        elements_list = elements\n",
    "\n",
    "    column_elements = get_node_elements_column(column_id)\n",
    "\n",
    "    for i in range(len(elements_list)):\n",
    "        for j in range(len(column_elements)):\n",
    "            if column_elements[j] == elements_list[i]:\n",
    "                if current_node.labels[j] == label:\n",
    "                    count = count + 1\n",
    "    return count"
   ]
  },
  {
   "cell_type": "markdown",
   "id": "c64ff9bc",
   "metadata": {},
   "source": [
    "Get values for feature ``column_id``."
   ]
  },
  {
   "cell_type": "code",
   "execution_count": null,
   "id": "3d0feeb7",
   "metadata": {},
   "outputs": [],
   "source": [
    "def get_node_elements_column(column_id):\n",
    "    return np.array(current_node.elements)[..., column_id].tolist()\n",
    "\n",
    "def count_number_of_elements(elements, column_id):\n",
    "    count = 0\n",
    "    if isinstance(elements, list):\n",
    "        column_elements = get_node_elements_column(column_id)\n",
    "        for i in range(len(elements)):\n",
    "            count = count + column_elements.count(elements[i])\n",
    "    else:\n",
    "        count = count + get_node_elements_column(column_id).count(elements)\n",
    "    return count"
   ]
  },
  {
   "cell_type": "markdown",
   "id": "73d0b4a7",
   "metadata": {},
   "source": [
    "Calculate the $\\phi $ for given feature."
   ]
  },
  {
   "cell_type": "code",
   "execution_count": null,
   "id": "d6bbf78b",
   "metadata": {},
   "outputs": [],
   "source": [
    "def calculate_omega(elements, column_id):\n",
    "    t_l = count_number_of_elements(elements[0], column_id)\n",
    "    t_r = count_number_of_elements(elements[1], column_id)\n",
    "    p_l = t_l * 1.0 / len(current_node.elements) * 1.0\n",
    "    p_r = t_r * 1.0 / len(current_node.elements) * 1.0\n",
    "\n",
    "    sum_p = 0\n",
    "    labels = get_unique_labels(current_node.labels)\n",
    "    for i in range(labels_count):\n",
    "        p_class_t_l = (get_number_of_labels_for_value(elements[0], column_id, labels[i]) * 1.0) / (\n",
    "                count_number_of_elements(elements[0], column_id) * 1.0)\n",
    "        p_class_t_r = (get_number_of_labels_for_value(elements[1], column_id, labels[i]) * 1.0) / (\n",
    "                count_number_of_elements(elements[1], column_id) * 1.0)\n",
    "        sum_p = sum_p + math.fabs(p_class_t_l - p_class_t_r)\n",
    "    return 2.0 * p_l * p_r * sum_p"
   ]
  },
  {
   "cell_type": "markdown",
   "id": "595f10bf",
   "metadata": {},
   "source": [
    "Method that checks if the new leaf does not need to be split again."
   ]
  },
  {
   "cell_type": "code",
   "execution_count": null,
   "id": "2963bcca",
   "metadata": {},
   "outputs": [],
   "source": [
    "def check_completed(labels, elements):\n",
    "    ratio = len(get_unique_labels(labels))\n",
    "    if ratio == 1:\n",
    "        return True\n",
    "    elements = sorted(elements)\n",
    "    duplicated = [elements[i] for i in range(len(elements)) if i == 0 or elements[i] != elements[i - 1]]\n",
    "    if len(duplicated) == 1:\n",
    "        return True\n",
    "    return False"
   ]
  },
  {
   "cell_type": "markdown",
   "id": "9e12b80b",
   "metadata": {},
   "source": [
    "Split method:"
   ]
  },
  {
   "cell_type": "code",
   "execution_count": null,
   "id": "253e7a68",
   "metadata": {},
   "outputs": [],
   "source": [
    "def split_node(current_node, value, split_id, split_history):\n",
    "    left_leaf = []\n",
    "    left_leaf_labels = []\n",
    "    left_leaf_ids = []\n",
    "    right_leaf = []\n",
    "    right_leaf_labels = []\n",
    "    right_leaf_ids = []\n",
    "    for i in range(len(current_node.elements)):\n",
    "        if current_node.elements[i][split_id] == value:\n",
    "            left_leaf.append(current_node.elements[i])\n",
    "            left_leaf_labels.append(current_node.labels[i])\n",
    "            left_leaf_ids.append(current_node.ids[i])\n",
    "        else:\n",
    "            right_leaf.append(current_node.elements[i])\n",
    "            right_leaf_labels.append(current_node.labels[i])\n",
    "            right_leaf_ids.append(current_node.ids[i])\n",
    "    if len(right_leaf_labels) == 0 or len(left_leaf_labels) == 0:\n",
    "        current_node.set_completed()\n",
    "        return current_node, split_history\n",
    "    split_history.append([str(current_node.ids), str(left_leaf_ids)])\n",
    "    split_history.append([str(current_node.ids), str(right_leaf_ids)])\n",
    "    current_node.set_L(BinaryLeaf(left_leaf, left_leaf_labels, left_leaf_ids))\n",
    "    current_node.set_R(BinaryLeaf(right_leaf, right_leaf_labels, right_leaf_ids))\n",
    "    current_node.set_split(split_id)\n",
    "    current_node.set_completed()\n",
    "    if check_completed(left_leaf_labels, left_leaf):\n",
    "        current_node.L.set_completed()\n",
    "    if check_completed(right_leaf_labels, right_leaf):\n",
    "        current_node.R.set_completed()\n",
    "    return current_node, split_history"
   ]
  },
  {
   "cell_type": "markdown",
   "id": "8899045f",
   "metadata": {},
   "source": [
    "Get the current node that needs to be split:"
   ]
  },
  {
   "cell_type": "code",
   "execution_count": null,
   "id": "ea88561b",
   "metadata": {},
   "outputs": [],
   "source": [
    "def get_current_node():\n",
    "    return find_leaf_not_completed()"
   ]
  },
  {
   "cell_type": "markdown",
   "id": "ab8d2bd6",
   "metadata": {},
   "source": [
    "Tree building method:"
   ]
  },
  {
   "cell_type": "code",
   "execution_count": null,
   "id": "6125b501",
   "metadata": {},
   "outputs": [],
   "source": [
    "def build(root_node):\n",
    "    current_node = root_node\n",
    "    stop_criterion = False\n",
    "    split_history = []\n",
    "    while stop_criterion == False:\n",
    "        unique_values = get_unique_values(current_node.get_elements())\n",
    "        max_unique_id = 0\n",
    "        max_split_id = 0\n",
    "        max_value = 0\n",
    "        for i in range(len(unique_values)):\n",
    "            if len(unique_values[i]) == 1:\n",
    "                continue\n",
    "            split_candidates = get_split_candidates(unique_values[i].tolist())\n",
    "            for j in range(len(split_candidates)):\n",
    "                current_value = calculate_omega(split_candidates[j], i)\n",
    "                if max_value < current_value:\n",
    "                    max_unique_id = i\n",
    "                    max_split_id = j\n",
    "                    max_value = current_value\n",
    "        current_node, split_history = split_node(current_node, unique_values[max_unique_id][max_split_id], max_unique_id, split_history)\n",
    "        new_node = find_leaf_not_completed(root_node)\n",
    "        if new_node != None:\n",
    "            current_node = new_node\n",
    "        else:\n",
    "            stop_criterion = True\n",
    "    return root_node, split_history"
   ]
  },
  {
   "cell_type": "markdown",
   "id": "bcc2437a",
   "metadata": {},
   "source": [
    "Execution of the ``build`` method returns the tree and the split history. The second variable can be used to plot the tree."
   ]
  },
  {
   "cell_type": "code",
   "execution_count": null,
   "id": "3bd1fd1a",
   "metadata": {},
   "outputs": [],
   "source": [
    "cart_tree, split_history_cart = build(current_node)"
   ]
  },
  {
   "cell_type": "markdown",
   "id": "acc847d8",
   "metadata": {},
   "source": [
    "We can store the history to use it in other notebooks:"
   ]
  },
  {
   "cell_type": "code",
   "execution_count": null,
   "id": "f1c03a90",
   "metadata": {},
   "outputs": [],
   "source": [
    "%store split_history_cart"
   ]
  },
  {
   "cell_type": "markdown",
   "id": "e55c6af7",
   "metadata": {},
   "source": [
    "The plot function is very simple:"
   ]
  },
  {
   "cell_type": "code",
   "execution_count": null,
   "id": "640c754d",
   "metadata": {},
   "outputs": [],
   "source": [
    "def plot_tree(split_history):\n",
    "    tree = pydot.Dot(graph_type='graph')\n",
    "    for split in split_history:\n",
    "        new_edge = pydot.Edge(split[0], split[1])\n",
    "        tree.add_edge(new_edge)\n",
    "    tree.write('cart_tree.png', format='png')\n",
    "    \n",
    "plot_tree(split_history_cart)"
   ]
  },
  {
   "cell_type": "markdown",
   "id": "09672808",
   "metadata": {},
   "source": [
    "We can display it:"
   ]
  },
  {
   "cell_type": "code",
   "execution_count": null,
   "id": "37ef4d42",
   "metadata": {},
   "outputs": [],
   "source": [
    "from IPython.display import Image\n",
    "Image(filename='cart_tree.png') "
   ]
  },
  {
   "cell_type": "markdown",
   "id": "ae6ee189",
   "metadata": {},
   "source": [
    "## C4.5\n",
    "\n",
    "In C4.5 method we generate a non-binary tree. As in the previous example, we should define the Leaf."
   ]
  },
  {
   "cell_type": "code",
   "execution_count": null,
   "id": "1b75104e",
   "metadata": {},
   "outputs": [],
   "source": [
    "class Leaf:\n",
    "\n",
    "    def __init__(self, elements, labels, ids):\n",
    "        self.child_leafs = []\n",
    "        self.elements = elements\n",
    "        self.labels = labels\n",
    "        self.completed = False\n",
    "        self.ids = ids\n",
    "\n",
    "    def get_elements(self):\n",
    "        return self.elements\n",
    "\n",
    "    def set_child_leafs(self, new_leafs):\n",
    "        self.child_leafs = new_leafs\n",
    "\n",
    "    def set_completed(self):\n",
    "        self.completed = True\n",
    "\n",
    "    def is_completed(self):\n",
    "        return self.completed\n",
    "\n",
    "    def get_labels(self):\n",
    "        return self.labels\n",
    "\n",
    "    def get_child_leafs(self):\n",
    "        return self.child_leafs\n",
    "\n",
    "    def get_ids(self):\n",
    "        return self.ids"
   ]
  },
  {
   "cell_type": "markdown",
   "id": "a8c55f0d",
   "metadata": {},
   "source": [
    "We need ``ids`` to track the split and set the root of the tree."
   ]
  },
  {
   "cell_type": "code",
   "execution_count": null,
   "id": "e5bd820f",
   "metadata": {},
   "outputs": [],
   "source": [
    "ids = list(range(len(data_set)))\n",
    "root = Leaf(data_set, labels, ids)\n",
    "current_node = root"
   ]
  },
  {
   "cell_type": "markdown",
   "id": "cdbd09b6",
   "metadata": {},
   "source": [
    "There are several helper functions that are next used by our CART method. We use the methods to:\n",
    "- ``get_unique_labels`` - return the unique labels in a leaf,\n",
    "- ``get_unique_values`` - return unique values in a leaf,\n",
    "- ``is_leaf_completed`` - check if a leaf needs to be split or not,\n",
    "- ``find_leaf_not_completed`` - returns the leaf that needs to be split,\n",
    "- ``get_current_node`` - return the leaf that we should currently work on (split)."
   ]
  },
  {
   "cell_type": "code",
   "execution_count": null,
   "id": "e4c31a6f",
   "metadata": {},
   "outputs": [],
   "source": [
    "def get_unique_labels(labels):\n",
    "    return np.unique(np.array(labels)).tolist()\n",
    "\n",
    "def get_unique_values(elements):\n",
    "    features_number = len(elements[0])\n",
    "    unique = []\n",
    "    for i in range(features_number):\n",
    "        features_list = []\n",
    "        for j in range(len(elements)):\n",
    "            features_list.append(elements[j][i])\n",
    "        unique.append(np.unique(np.array(features_list)))\n",
    "    return unique\n",
    "\n",
    "def is_leaf_completed(node):\n",
    "    if node.is_completed():\n",
    "        child_nodes = node.get_child_leafs()\n",
    "        if len(child_nodes) == 0:\n",
    "            return None\n",
    "        is_child_to_return = False\n",
    "        for i in range(len(child_nodes)):\n",
    "            if not child_nodes[i].is_completed():\n",
    "                return child_nodes[i]\n",
    "            else:\n",
    "                new_node = is_leaf_completed(child_nodes[i])\n",
    "                if new_node != None:\n",
    "                    is_child_to_return=True\n",
    "        if is_child_to_return:\n",
    "            return new_node\n",
    "    return node\n",
    "\n",
    "def find_leaf_not_completed(root_node):\n",
    "    return is_leaf_completed(root_node)\n",
    "\n",
    "def get_current_node(root):\n",
    "    return find_leaf_not_completed(root)"
   ]
  },
  {
   "cell_type": "markdown",
   "id": "7b901499",
   "metadata": {},
   "source": [
    "We can calcualte the entropy: \n",
    "\\begin{equation}\n",
    "E(X)=-\\sum_{i=1}^{m}p_{i}\\log_{2}p_{i}.\n",
    "\\end{equation}"
   ]
  },
  {
   "cell_type": "code",
   "execution_count": null,
   "id": "8ef3a322",
   "metadata": {},
   "outputs": [],
   "source": [
    "def calculate_entropy(labels):\n",
    "    unique_labels, labels_count = np.unique(labels, return_counts=True)\n",
    "    entropy = 0\n",
    "    size = len(labels)\n",
    "    for i in range(len(unique_labels)):\n",
    "        if labels_count[i] > 0:\n",
    "            log2 = log((labels_count[i] * 1.0) / (size * 1.0), 2)\n",
    "        else:\n",
    "            log2 = 0.0\n",
    "        entropy = entropy - 1.0 * ((labels_count[i] * 1.0) / size) * log2\n",
    "    return entropy"
   ]
  },
  {
   "cell_type": "markdown",
   "id": "d4640f6f",
   "metadata": {},
   "source": [
    "The method below finds the candiate to split using the entropy."
   ]
  },
  {
   "cell_type": "code",
   "execution_count": null,
   "id": "ef81a43d",
   "metadata": {},
   "outputs": [],
   "source": [
    "def calculate_split_candidate_entropy(full_entropy, labels, elements, unique_labels, unique_elements, iter):\n",
    "    split_entropy = 0\n",
    "    for i in range(len(unique_elements)):\n",
    "        indices = np.where(np.array(elements)[..., iter].tolist() == unique_elements[i])\n",
    "        unique_size = len(indices[0].tolist())\n",
    "        filtered_labels = np.array(labels)[indices]\n",
    "        for j in range(len(unique_labels)):\n",
    "            labels_count = filtered_labels.tolist().count(unique_labels[j])\n",
    "            if labels_count > 0:\n",
    "                log2 = log((labels_count * 1.0) / (unique_size * 1.0), 2)\n",
    "            else:\n",
    "                log2 = 0.0\n",
    "            split_entropy = split_entropy - 1.0 * (\n",
    "                    (labels_count * 1.0) / unique_size * 1.0) * log2 * unique_size * 1.0 / len(elements) * 1.0\n",
    "    return (full_entropy - split_entropy)"
   ]
  },
  {
   "cell_type": "markdown",
   "id": "074b7404",
   "metadata": {},
   "source": [
    "Split the leaf:"
   ]
  },
  {
   "cell_type": "code",
   "execution_count": null,
   "id": "fecaccbe",
   "metadata": {},
   "outputs": [],
   "source": [
    "def split(current_node, split_values, column_id, split_history):\n",
    "    new_leafs = []\n",
    "    for i in range(len(split_values)):\n",
    "        indices = np.where(np.array(current_node.get_elements())[..., column_id].tolist() == split_values[i])\n",
    "        new_leaf_elements = np.array(current_node.get_elements())[indices].tolist()\n",
    "        new_leaf_labels   = np.array(current_node.get_labels())[indices].tolist()\n",
    "        new_leaf_ids = np.array(current_node.get_ids())[indices].tolist()\n",
    "        new_leaf = Leaf(new_leaf_elements,new_leaf_labels, new_leaf_ids)\n",
    "        split_history.append([str(current_node.ids), str(new_leaf_ids)])\n",
    "        if len(np.unique(new_leaf_labels)) == 1:\n",
    "            new_leaf.set_completed()\n",
    "        new_leafs.append(new_leaf)\n",
    "    current_node.set_child_leafs(new_leafs)\n",
    "    current_node.set_completed()\n",
    "    return current_node, split_history"
   ]
  },
  {
   "cell_type": "markdown",
   "id": "5ace3c34",
   "metadata": {},
   "source": [
    "Finally, we can build the tree as below:"
   ]
  },
  {
   "cell_type": "code",
   "execution_count": null,
   "id": "8da6bb9d",
   "metadata": {},
   "outputs": [],
   "source": [
    "def build(root):\n",
    "    stop_criterion = False\n",
    "    split_history = []\n",
    "    current_node = root\n",
    "    unique_labels = get_unique_labels(root.get_labels())\n",
    "    while stop_criterion == False:\n",
    "        unique_values = get_unique_values(current_node.get_elements())\n",
    "        full_entropy = calculate_entropy(current_node.get_labels())\n",
    "        max_entropy_id = 0\n",
    "        max_entropy_value = 0\n",
    "        for i in range(len(unique_values)):\n",
    "            split_entropy = calculate_split_candidate_entropy(full_entropy,\n",
    "                                                                      current_node.get_labels(),\n",
    "                                                                      current_node.get_elements(),\n",
    "                                                                      unique_labels,\n",
    "                                                                      unique_values[i], i)\n",
    "            if split_entropy > max_entropy_value:\n",
    "                max_entropy_id = i\n",
    "                max_entropy_value = split_entropy\n",
    "        current_node, split_history = split(current_node, unique_values[max_entropy_id], max_entropy_id, split_history)\n",
    "        new_node = get_current_node(root)\n",
    "        if new_node != None:\n",
    "            current_node = new_node\n",
    "        else:\n",
    "            stop_criterion = True\n",
    "    return root, split_history"
   ]
  },
  {
   "cell_type": "markdown",
   "id": "4ba69b88",
   "metadata": {},
   "source": [
    "The building methods returns the same variables as in the previous example:"
   ]
  },
  {
   "cell_type": "code",
   "execution_count": null,
   "id": "a1a68631",
   "metadata": {},
   "outputs": [],
   "source": [
    "c45_tree, split_history_c45 = build(root)"
   ]
  },
  {
   "cell_type": "markdown",
   "id": "4b737ea6",
   "metadata": {},
   "source": [
    "It is worth to save the history."
   ]
  },
  {
   "cell_type": "code",
   "execution_count": null,
   "id": "936c922f",
   "metadata": {},
   "outputs": [],
   "source": [
    "%store split_history_c45"
   ]
  },
  {
   "cell_type": "markdown",
   "id": "221fb1cf",
   "metadata": {},
   "source": [
    "## Multivariate decision trees\n",
    "\n",
    "In this section we show how to develop the OC1 decision tree method.\n",
    "\n",
    "OC1 classifier is divided into several steps:\n",
    "1. Get all possible hyperplanes $H_{i}$.\n",
    "2. Choose one.\n",
    "3. Perturb and find $v_{j}$.\n",
    "4. Calculate gini index of each $H_{i}$.\n",
    "5. Choose $H_{i}$ with lowest gini index."
   ]
  },
  {
   "cell_type": "markdown",
   "id": "cdf0a294",
   "metadata": {},
   "source": [
    "Let's import required libraries."
   ]
  },
  {
   "cell_type": "code",
   "execution_count": null,
   "id": "fe0b1cd2",
   "metadata": {},
   "outputs": [],
   "source": [
    "import numpy as np\n",
    "from random import randint, random\n",
    "import pydot"
   ]
  },
  {
   "cell_type": "markdown",
   "id": "32551b9d",
   "metadata": {},
   "source": [
    "We should restore the ``data_set`` and ``labels`` from the previous notebook."
   ]
  },
  {
   "cell_type": "code",
   "execution_count": null,
   "id": "03cb4509",
   "metadata": {},
   "outputs": [],
   "source": [
    "%store -r data_set\n",
    "%store -r labels"
   ]
  },
  {
   "cell_type": "markdown",
   "id": "7a34fbf4",
   "metadata": {},
   "source": [
    "The Leaf class is the same as below."
   ]
  },
  {
   "cell_type": "code",
   "execution_count": null,
   "id": "7012e682",
   "metadata": {},
   "outputs": [],
   "source": [
    "class BinaryLeaf:\n",
    "\n",
    "    def __init__(self, elements, labels, ids):\n",
    "        self.L = None\n",
    "        self.R = None\n",
    "        self.elements = elements\n",
    "        self.labels = labels\n",
    "        self.completed = False\n",
    "        self.ids = ids\n",
    "\n",
    "    def set_R(self, Rleaf):\n",
    "        self.R = Rleaf\n",
    "\n",
    "    def set_L(self, Lleaf):\n",
    "        self.L = Lleaf\n",
    "\n",
    "    def set_elements(self, elements):\n",
    "        self.elements = elements\n",
    "\n",
    "    def get_elements(self):\n",
    "        return self.elements\n",
    "\n",
    "    def get_L(self):\n",
    "        return self.L\n",
    "\n",
    "    def get_R(self):\n",
    "        return self.R\n",
    "\n",
    "    def set_completed(self):\n",
    "        self.completed = True\n",
    "\n",
    "    def is_completed(self):\n",
    "        return self.completed\n",
    "\n",
    "    def get_labels(self):\n",
    "        return self.labels\n",
    "\n",
    "    def set_ids(self, ids):\n",
    "        self.ids = ids\n",
    "\n",
    "    def get_ids(self):\n",
    "        return self.ids"
   ]
  },
  {
   "cell_type": "markdown",
   "id": "24ca1db5",
   "metadata": {},
   "source": [
    "Compare to C4.5 and CART we have one more variable ``R`` which is a parameter that is used to set the number of loops to randomly choose the feature to check if feature change can give better split. See ``build_level()``."
   ]
  },
  {
   "cell_type": "code",
   "execution_count": null,
   "id": "3211d5bd",
   "metadata": {},
   "outputs": [],
   "source": [
    "ids = list(range(len(data_set)))\n",
    "root = BinaryLeaf(data_set, labels, ids)\n",
    "current_node = root\n",
    "R = 10"
   ]
  },
  {
   "cell_type": "markdown",
   "id": "a0a022be",
   "metadata": {},
   "source": [
    "In the method below we compute the $V_{j}$ which gives us the knowledge if a given object is above or below the hiperplane. It can be formulated as:\n",
    "$\\sum_{i=1}^{d}a_{i}x_{i}+a_{d+1}>0$, where $a_{1},\\ldots,a_{d+1}$ are coefficients. In our case $a_{d+1}$ is our label."
   ]
  },
  {
   "cell_type": "code",
   "execution_count": null,
   "id": "a37dce1b",
   "metadata": {},
   "outputs": [],
   "source": [
    "def compute_v(element, scv):\n",
    "    return np.sum(np.multiply(element, scv[:-1])) + scv[-1]\n",
    "\n",
    "def compare_two_leafs(leaf1, leaf2):\n",
    "    labels1 = leaf1.labels\n",
    "    labels2 = leaf2.labels\n",
    "    if len(labels1) == len(labels2):\n",
    "        for i in range(len(labels1)):\n",
    "            if labels1[i] != labels2[i]:\n",
    "                return False\n",
    "        return True\n",
    "    return False\n",
    "\n",
    "def is_leaf_completed(node):\n",
    "    if node.is_completed():\n",
    "        if node.get_L() != None and not node.get_L().is_completed():\n",
    "            return node.get_L()\n",
    "        elif node.get_R() != None and not node.get_R().is_completed():\n",
    "            return node.get_R()\n",
    "        elif node.get_L() == None and node.get_R() == None:\n",
    "            return None\n",
    "        elif node.get_L().is_completed() or node.get_R().is_completed():\n",
    "            new_node = is_leaf_completed(node.get_L())\n",
    "            if new_node == None:\n",
    "                return is_leaf_completed(node.get_R())\n",
    "            else:\n",
    "                return new_node\n",
    "        else:\n",
    "            return None\n",
    "    return node"
   ]
  },
  {
   "cell_type": "markdown",
   "id": "04f63539",
   "metadata": {},
   "source": [
    "The gini index can be calculated as shown below. Please keep in mind that it's only the gini index for a given split and need to be subtracted with 1 as shown in ``get_all_possible_splits_by_gini`` method."
   ]
  },
  {
   "cell_type": "code",
   "execution_count": null,
   "id": "96457afe",
   "metadata": {},
   "outputs": [],
   "source": [
    "def calculate_gini(labels):\n",
    "    unique_labels = np.unique(labels)\n",
    "    gini = 0\n",
    "    for label in unique_labels:\n",
    "        found = np.where(labels == label)\n",
    "        gini = gini + len(found)/len(labels)\n",
    "    return np.square(gini)"
   ]
  },
  {
   "cell_type": "markdown",
   "id": "584cfc87",
   "metadata": {},
   "source": [
    "In the method below we calculated all possible hyperplane by calculating the gini indices for each feature. It is kind of similar to what we have done in CART method, but it will be \"fixed\" during the perturb part of the  OC1 method."
   ]
  },
  {
   "cell_type": "code",
   "execution_count": null,
   "id": "c6005f16",
   "metadata": {},
   "outputs": [],
   "source": [
    "def get_all_possible_splits_by_gini(leaf):\n",
    "    leaf_elements = leaf.elements\n",
    "    labels = leaf.labels\n",
    "    ginis = []\n",
    "    for i in range(len(leaf_elements[0])):\n",
    "        feature_ginis = []\n",
    "        feature_column = np.array(leaf_elements)[:, i]\n",
    "        for feature in feature_column:\n",
    "            distinguish = feature_column <= feature\n",
    "            left_labels  = np.array(labels)[distinguish]\n",
    "            right_labels = np.array(labels)[~distinguish]\n",
    "            gini = 1 - calculate_gini(left_labels) - calculate_gini(right_labels)\n",
    "            feature_ginis.append([feature,gini])\n",
    "        ginis.append(min(feature_ginis))\n",
    "    return ginis"
   ]
  },
  {
   "cell_type": "markdown",
   "id": "bf682878",
   "metadata": {},
   "source": [
    "We have also a method to find the current leaf to be splitted. It uses the utils that have implemented above."
   ]
  },
  {
   "cell_type": "code",
   "execution_count": null,
   "id": "34471025",
   "metadata": {},
   "outputs": [],
   "source": [
    "def find_current_level_data(root):\n",
    "    return is_leaf_completed(root)"
   ]
  },
  {
   "cell_type": "markdown",
   "id": "abe58a76",
   "metadata": {},
   "source": [
    "The next step is to divide objects in the leaf into two sets which are above and below the hyperplane."
   ]
  },
  {
   "cell_type": "code",
   "execution_count": null,
   "id": "66eb0249",
   "metadata": {},
   "outputs": [],
   "source": [
    "def divide_data_hiperplane(leaf,scv):\n",
    "    below = []\n",
    "    above = []\n",
    "    below_labels = []\n",
    "    above_labels = []\n",
    "    below_ids = []\n",
    "    above_ids = []\n",
    "    for i in range(len(leaf.elements)):\n",
    "        v = compute_v(leaf.elements[i],scv) > 0\n",
    "        if v:\n",
    "            above.append(leaf.elements[i])\n",
    "            above_labels.append(leaf.labels[i])\n",
    "            above_ids.append(leaf.ids[i])\n",
    "        else:\n",
    "            below.append(leaf.elements[i])\n",
    "            below_labels.append(leaf.labels[i])\n",
    "            below_ids.append(leaf.ids[i])\n",
    "    return np.array(below), np.array(above), np.array(below_labels), np.array(above_labels), below_ids, above_ids"
   ]
  },
  {
   "cell_type": "markdown",
   "id": "9ef49c50",
   "metadata": {},
   "source": [
    "The coefficients that we have used above can be calculated as following:"
   ]
  },
  {
   "cell_type": "code",
   "execution_count": null,
   "id": "fe87816e",
   "metadata": {},
   "outputs": [],
   "source": [
    "def get_coefficiency(splits):\n",
    "    splits = np.array(splits)\n",
    "    scv = np.zeros(len(splits)+1)\n",
    "    min_split_index = np.argmin(splits[:,1])\n",
    "    scv[min_split_index] = 1\n",
    "    scv[-1] = -splits[min_split_index][1]\n",
    "    return scv"
   ]
  },
  {
   "cell_type": "markdown",
   "id": "930f4fef",
   "metadata": {},
   "source": [
    "To compute the assignment array can be calculated as: $U_{j}=\\frac{a_{m}x_{jm}-V_{j}}{x_{jm}}$."
   ]
  },
  {
   "cell_type": "code",
   "execution_count": null,
   "id": "6a241c14",
   "metadata": {},
   "outputs": [],
   "source": [
    "def compute_u(element, scv, feature):\n",
    "    return (scv[feature] * element[feature] - compute_v(element, scv)) / element[feature]"
   ]
  },
  {
   "cell_type": "markdown",
   "id": "8ba00f4f",
   "metadata": {},
   "source": [
    "A short method for sorting the $U$ for the split can be implemented as below. We use it in the perturb function below."
   ]
  },
  {
   "cell_type": "code",
   "execution_count": null,
   "id": "c1c84a82",
   "metadata": {},
   "outputs": [],
   "source": [
    "def sort_u(element):\n",
    "    return np.sort(element)"
   ]
  },
  {
   "cell_type": "markdown",
   "id": "6b399d34",
   "metadata": {},
   "source": [
    "Perturb function is the core part of the OC1 method. It calculates different gini indices for different feature combinations. We get the combination with best gini index. We \"fix\" the previously calculated coefficients."
   ]
  },
  {
   "cell_type": "code",
   "execution_count": null,
   "id": "9b8f8722",
   "metadata": {},
   "outputs": [],
   "source": [
    "def perturb(leaf, scv, feature, old_gini):\n",
    "    u=[]\n",
    "    for element in leaf.elements:\n",
    "        u.append(compute_u(element, scv, feature))\n",
    "    splits = sort_u(np.array(u))\n",
    "    am = []\n",
    "    for split in splits:\n",
    "        new_scv = scv\n",
    "        new_scv[feature] = split\n",
    "        below, above, below_label, above_label, below_ids, above_ids = divide_data_hiperplane(leaf, scv)\n",
    "        gini = 1 - (calculate_gini(below_label) - calculate_gini(above_label))\n",
    "        am.append([new_scv, gini])\n",
    "    am = np.array(am)\n",
    "    best_split_index = np.argmin(am[:,1])\n",
    "    if am[best_split_index][1] < old_gini:\n",
    "        return am[best_split_index][1], am[best_split_index][0]\n",
    "    elif am[best_split_index][1] == old_gini:\n",
    "        if random() < 0.3:\n",
    "            return am[best_split_index][1], am[best_split_index][0]\n",
    "    return old_gini, scv"
   ]
  },
  {
   "cell_type": "markdown",
   "id": "0ce3d2b2",
   "metadata": {},
   "source": [
    "The build_level method combine the above functions and split the data into two leafs, assign it and/or stop building the tree if no more leafs to be divided are found."
   ]
  },
  {
   "cell_type": "code",
   "execution_count": null,
   "id": "0b0f5020",
   "metadata": {},
   "outputs": [],
   "source": [
    "def build_level(root, split_history):\n",
    "    leaf = find_current_level_data(root)\n",
    "    if leaf == None:\n",
    "        return\n",
    "    splits = get_all_possible_splits_by_gini(leaf)\n",
    "    split_coefficiency_vector = get_coefficiency(splits)\n",
    "    below,above, below_label, above_label, below_ids, above_ids = divide_data_hiperplane(leaf,split_coefficiency_vector)\n",
    "    gini = 1 - calculate_gini(below_label) - calculate_gini(above_label)\n",
    "    for c in range(R):\n",
    "        feature = randint(0,len(leaf.elements[0])-1)\n",
    "        gini, split_coefficiency_vector = perturb(leaf, split_coefficiency_vector, feature, gini)\n",
    "        below, above, below_label, above_label, below_ids, above_ids = divide_data_hiperplane(leaf,split_coefficiency_vector)\n",
    "    left_leaf = BinaryLeaf(below, below_label, below_ids)\n",
    "    right_leaf = BinaryLeaf(above, above_label, above_ids)\n",
    "    split_history.append([str(leaf.ids), str(left_leaf.ids)])\n",
    "    split_history.append([str(leaf.ids), str(right_leaf.ids)])\n",
    "    leaf.set_completed()\n",
    "    if len(np.unique(below_label)) == 1:\n",
    "        left_leaf.set_completed()\n",
    "    if len(np.unique(above_label)) == 1:\n",
    "        right_leaf.set_completed()\n",
    "    if compare_two_leafs(leaf, left_leaf) or compare_two_leafs(leaf,right_leaf):\n",
    "        leaf.set_completed()\n",
    "    else:\n",
    "        leaf.set_R(right_leaf)\n",
    "        leaf.set_L(left_leaf)\n",
    "    build_level(root, split_history)\n",
    "    return root, split_history"
   ]
  },
  {
   "cell_type": "markdown",
   "id": "eec6b25e",
   "metadata": {},
   "source": [
    "Execute the level building function."
   ]
  },
  {
   "cell_type": "code",
   "execution_count": null,
   "id": "c2b2eb17",
   "metadata": {},
   "outputs": [],
   "source": [
    "def build(root):\n",
    "    split_history = []\n",
    "    return build_level(root, split_history)"
   ]
  },
  {
   "cell_type": "code",
   "execution_count": null,
   "id": "f42d7bc8",
   "metadata": {},
   "outputs": [],
   "source": [
    "oc1_tree, split_history_oc1 = build(root)"
   ]
  },
  {
   "cell_type": "markdown",
   "id": "d3f24c8c",
   "metadata": {},
   "source": [
    "Plot function is the same as in the previous methods:"
   ]
  },
  {
   "cell_type": "code",
   "execution_count": null,
   "id": "9cf992ba",
   "metadata": {},
   "outputs": [],
   "source": [
    "def plot_tree(split_history):\n",
    "    tree = pydot.Dot(graph_type='graph')\n",
    "    for split in split_history:\n",
    "        new_edge = pydot.Edge(split[0], split[1])\n",
    "        tree.add_edge(new_edge)\n",
    "    tree.write('oc1_tree.png', format='png')\n",
    "    \n",
    "plot_tree(split_history_oc1)    "
   ]
  },
  {
   "cell_type": "markdown",
   "id": "e0cb0f71",
   "metadata": {},
   "source": [
    "And display the tree:"
   ]
  },
  {
   "cell_type": "code",
   "execution_count": null,
   "id": "873279a0",
   "metadata": {},
   "outputs": [],
   "source": [
    "from IPython.display import Image\n",
    "Image(filename='oc1_tree.png') "
   ]
  },
  {
   "cell_type": "markdown",
   "id": "94c0f78a",
   "metadata": {},
   "source": [
    "## Quality metrics\n",
    "\n",
    "There are two different pruning methods:\n",
    "- validation,\n",
    "- direct.\n",
    "\n",
    "The first group works on trees that is already built. The direct method works while building the tree. In both cases we need to set a testing data set to validate the accuracy."
   ]
  },
  {
   "cell_type": "code",
   "execution_count": null,
   "id": "67e2ae8b",
   "metadata": {},
   "outputs": [],
   "source": [
    "%store -r labels\n",
    "%store -r data_set\n",
    "\n",
    "test_labels = [1,1,-1,-1,1,1,1,-1]\n",
    "test_data_set = [[1,1,2,2],[3,2,1,2],[2,3,1,2],\n",
    "                [2,2,1,2],[1,3,2,2],[2,1,1,2],\n",
    "                [3,1,2,1],[2,1,2,2]]"
   ]
  },
  {
   "cell_type": "markdown",
   "id": "95e1b421",
   "metadata": {},
   "source": [
    "### Validation pruning - Reduced Error Pruning\n",
    "\n",
    "This method checks the tree after it's build for leafs that does not impact on the accuracy or impact on the accuracy by reducing it.\n",
    "\n",
    "Let's build the tree first."
   ]
  },
  {
   "cell_type": "code",
   "execution_count": null,
   "id": "eb8ce256",
   "metadata": {},
   "outputs": [],
   "source": [
    "import math\n",
    "import numpy as np\n",
    "import pydot\n",
    "import copy\n",
    "from math import log\n",
    "\n",
    "class BinaryLeaf:\n",
    "\n",
    "    def __init__(self, elements, labels, ids):\n",
    "        self.L = None\n",
    "        self.R = None\n",
    "        self.elements = elements\n",
    "        self.split_feature = None\n",
    "        self.split_value = None\n",
    "        self.labels = labels\n",
    "        self.completed = False\n",
    "        self.ids = ids\n",
    "        self.validated = False\n",
    "\n",
    "    def set_R(self, Rleaf):\n",
    "        self.R = Rleaf\n",
    "\n",
    "    def set_L(self, Lleaf):\n",
    "        self.L = Lleaf\n",
    "\n",
    "    def set_elements(self, elements):\n",
    "        self.elements = elements\n",
    "\n",
    "    def get_elements(self):\n",
    "        return self.elements\n",
    "\n",
    "    def set_p(self, threshold):\n",
    "        self.p = threshold\n",
    "\n",
    "    def get_L(self):\n",
    "        return self.L\n",
    "\n",
    "    def get_R(self):\n",
    "        return self.R\n",
    "\n",
    "    def set_completed(self):\n",
    "        self.completed = True\n",
    "\n",
    "    def is_completed(self):\n",
    "        return self.completed\n",
    "\n",
    "    def get_labels(self):\n",
    "        return self.labels\n",
    "\n",
    "    def set_split(self, feature):\n",
    "        self.split_feature = feature\n",
    "\n",
    "    def get_split(self):\n",
    "        return self.split_feature\n",
    "\n",
    "    def set_split_value(self, value):\n",
    "        self.split_value = value\n",
    "\n",
    "    def get_split_value(self):\n",
    "        return self.split_value\n",
    "\n",
    "    def set_validated(self):\n",
    "        self.validated = True\n",
    "\n",
    "    def is_validated(self):\n",
    "        return self.validated\n",
    "\n",
    "    def set_ids(self, ids):\n",
    "        self.ids = ids\n",
    "\n",
    "    def get_ids(self):\n",
    "        return self.ids\n",
    "    \n",
    "labels_count = len(np.unique(labels))\n",
    "\n",
    "ids = list(range(len(data_set)))\n",
    "root = BinaryLeaf(data_set, labels, ids)\n",
    "current_node = root    \n",
    "\n",
    "def get_unique_labels(labels):\n",
    "    return np.unique(np.array(labels)).tolist()\n",
    "\n",
    "def get_unique_values(elements):\n",
    "    features_number = len(elements[0])\n",
    "    unique = []\n",
    "    for i in range(features_number):\n",
    "        features_list = []\n",
    "        for j in range(len(elements)):\n",
    "            features_list.append(elements[j][i])\n",
    "        unique.append(np.unique(np.array(features_list)))\n",
    "    return unique\n",
    "\n",
    "def is_leaf_completed(node):\n",
    "    if node.is_completed():\n",
    "        if node.get_L() != None and not node.get_L().is_completed():\n",
    "            return node.get_L()\n",
    "        elif node.get_R() != None and not node.get_R().is_completed():\n",
    "            return node.get_R()\n",
    "        elif node.get_L() == None and node.get_R() == None:\n",
    "            return None\n",
    "        elif node.get_L().is_completed() or node.get_R().is_completed():\n",
    "            new_node = is_leaf_completed(node.get_L())\n",
    "            if new_node == None:\n",
    "                return is_leaf_completed(node.get_R())\n",
    "            else:\n",
    "                return new_node\n",
    "        else:\n",
    "            return None\n",
    "    return node\n",
    "\n",
    "def find_leaf_not_completed(root):\n",
    "    return is_leaf_completed(root)\n",
    "\n",
    "def get_split_candidates(unique_values):\n",
    "    split_list = []\n",
    "    for i in range(len(unique_values)):\n",
    "        current_list = []\n",
    "        temp_list = copy.deepcopy(unique_values)\n",
    "        current_list.append(temp_list[i])\n",
    "        del temp_list[i]\n",
    "        current_list.append(temp_list)\n",
    "        split_list.append(current_list)\n",
    "    return split_list\n",
    "\n",
    "\n",
    "def get_number_of_labels_for_value(elements, column_id, label):\n",
    "    count = 0\n",
    "    if not isinstance(elements, list):\n",
    "        elements_list = [elements]\n",
    "    else:\n",
    "        elements_list = elements\n",
    "\n",
    "    column_elements = get_node_elements_column(column_id)\n",
    "\n",
    "    for i in range(len(elements_list)):\n",
    "        for j in range(len(column_elements)):\n",
    "            if column_elements[j] == elements_list[i]:\n",
    "                if current_node.labels[j] == label:\n",
    "                    count = count + 1\n",
    "    return count\n",
    "\n",
    "def get_node_elements_column(column_id):\n",
    "    return np.array(current_node.elements)[..., column_id].tolist()\n",
    "\n",
    "def count_number_of_elements(elements, column_id):\n",
    "    count = 0\n",
    "    if isinstance(elements, list):\n",
    "        column_elements = get_node_elements_column(column_id)\n",
    "        for i in range(len(elements)):\n",
    "            count = count + column_elements.count(elements[i])\n",
    "    else:\n",
    "        count = count + get_node_elements_column(column_id).count(elements)\n",
    "    return count\n",
    "\n",
    "def calculate_omega(elements, column_id):\n",
    "    t_l = count_number_of_elements(elements[0], column_id)\n",
    "    t_r = count_number_of_elements(elements[1], column_id)\n",
    "    p_l = t_l * 1.0 / len(current_node.elements) * 1.0\n",
    "    p_r = t_r * 1.0 / len(current_node.elements) * 1.0\n",
    "\n",
    "    sum_p = 0\n",
    "    labels = get_unique_labels(current_node.labels)\n",
    "    for i in range(labels_count):\n",
    "        p_class_t_l = (get_number_of_labels_for_value(elements[0], column_id, labels[i]) * 1.0) / (\n",
    "                count_number_of_elements(elements[0], column_id) * 1.0)\n",
    "        p_class_t_r = (get_number_of_labels_for_value(elements[1], column_id, labels[i]) * 1.0) / (\n",
    "                count_number_of_elements(elements[1], column_id) * 1.0)\n",
    "        sum_p = sum_p + math.fabs(p_class_t_l - p_class_t_r)\n",
    "    return 2.0 * p_l * p_r * sum_p\n",
    "\n",
    "def check_completed(labels, elements):\n",
    "    ratio = len(get_unique_labels(labels))\n",
    "    if ratio == 1:\n",
    "        return True\n",
    "    elements = sorted(elements)\n",
    "    duplicated = [elements[i] for i in range(len(elements)) if i == 0 or elements[i] != elements[i - 1]]\n",
    "    if len(duplicated) == 1:\n",
    "        return True\n",
    "    return False\n",
    "\n",
    "def split_node(current_node, value, split_id, split_history):\n",
    "    left_leaf = []\n",
    "    left_leaf_labels = []\n",
    "    left_leaf_ids = []\n",
    "    right_leaf = []\n",
    "    right_leaf_labels = []\n",
    "    right_leaf_ids = []\n",
    "    for i in range(len(current_node.elements)):\n",
    "        if current_node.elements[i][split_id] == value:\n",
    "            left_leaf.append(current_node.elements[i])\n",
    "            left_leaf_labels.append(current_node.labels[i])\n",
    "            left_leaf_ids.append(current_node.ids[i])\n",
    "        else:\n",
    "            right_leaf.append(current_node.elements[i])\n",
    "            right_leaf_labels.append(current_node.labels[i])\n",
    "            right_leaf_ids.append(current_node.ids[i])\n",
    "    if len(right_leaf_labels) == 0 or len(left_leaf_labels) == 0:\n",
    "        current_node.set_completed()\n",
    "        return current_node, split_history\n",
    "    split_history.append([str(current_node.ids), str(left_leaf_ids)])\n",
    "    split_history.append([str(current_node.ids), str(right_leaf_ids)])\n",
    "    current_node.set_L(BinaryLeaf(left_leaf, left_leaf_labels, left_leaf_ids))\n",
    "    current_node.set_R(BinaryLeaf(right_leaf, right_leaf_labels, right_leaf_ids))\n",
    "    current_node.set_split(split_id)\n",
    "    current_node.set_completed()\n",
    "    if check_completed(left_leaf_labels, left_leaf):\n",
    "        current_node.L.set_completed()\n",
    "    if check_completed(right_leaf_labels, right_leaf):\n",
    "        current_node.R.set_completed()\n",
    "    return current_node, split_history\n",
    "\n",
    "def get_current_node():\n",
    "    return find_leaf_not_completed()\n",
    "\n",
    "def build(root_node):\n",
    "    current_node = root_node\n",
    "    stop_criterion = False\n",
    "    split_history = []\n",
    "    while stop_criterion == False:\n",
    "        unique_values = get_unique_values(current_node.get_elements())\n",
    "        max_unique_id = 0\n",
    "        max_split_id = 0\n",
    "        max_value = 0\n",
    "        for i in range(len(unique_values)):\n",
    "            if len(unique_values[i]) == 1:\n",
    "                continue\n",
    "            split_candidates = get_split_candidates(unique_values[i].tolist())\n",
    "            for j in range(len(split_candidates)):\n",
    "                current_value = calculate_omega(split_candidates[j], i)\n",
    "                if max_value < current_value:\n",
    "                    max_unique_id = i\n",
    "                    max_split_id = j\n",
    "                    max_value = current_value\n",
    "        current_node, split_history = split_node(current_node, unique_values[max_unique_id][max_split_id], max_unique_id, split_history)\n",
    "        new_node = find_leaf_not_completed(root_node)\n",
    "        if new_node != None:\n",
    "            current_node = new_node\n",
    "        else:\n",
    "            stop_criterion = True\n",
    "    return root_node, split_history"
   ]
  },
  {
   "cell_type": "code",
   "execution_count": null,
   "id": "18791ed5",
   "metadata": {},
   "outputs": [],
   "source": [
    "cart_tree, split_history_cart = build(current_node)"
   ]
  },
  {
   "cell_type": "markdown",
   "id": "c9cef311",
   "metadata": {},
   "source": [
    "The current level methods returns the leafs of a given node:"
   ]
  },
  {
   "cell_type": "code",
   "execution_count": null,
   "id": "489d0948",
   "metadata": {},
   "outputs": [],
   "source": [
    "def get_current_level(node):\n",
    "    if type(node) is not list:\n",
    "        return [node]\n",
    "    level = []\n",
    "    for leaf in node:\n",
    "        if leaf.get_R() != None:\n",
    "            level.append(leaf.get_R())\n",
    "        if leaf.get_L() != None:\n",
    "            level.append(leaf.get_L())\n",
    "    return level"
   ]
  },
  {
   "cell_type": "markdown",
   "id": "466aad72",
   "metadata": {},
   "source": [
    "Accuracy is calcualated on the tree that is temporarly pruned (changed) to check if the accuracy is greater or less compared to the full version of the tree."
   ]
  },
  {
   "cell_type": "code",
   "execution_count": null,
   "id": "f0155e72",
   "metadata": {},
   "outputs": [],
   "source": [
    "def get_accuracy(cart_tree, test_data_set, test_labels):\n",
    "    predictions = []\n",
    "    for sample in test_data_set:\n",
    "        current_node = cart_tree\n",
    "\n",
    "        while current_node.get_R() != None or current_node.get_L() != None:\n",
    "            split_feature = current_node.get_split()\n",
    "            split_value = current_node.get_split_value()\n",
    "\n",
    "            if sample[split_feature] == split_value:\n",
    "                current_node = current_node.get_L()\n",
    "            else:\n",
    "                current_node = current_node.get_R()\n",
    "\n",
    "        prediction = int(np.sign(np.sum(current_node.get_labels())))\n",
    "\n",
    "        if prediction == 0:\n",
    "            prediction = -1\n",
    "        predictions.append(prediction)\n",
    "\n",
    "    accuracy = np.sum(np.array(predictions) == np.array(test_labels))\n",
    "\n",
    "    return predictions, accuracy / len(test_labels)"
   ]
  },
  {
   "cell_type": "markdown",
   "id": "3e573783",
   "metadata": {},
   "source": [
    "The validation method goes through the tree and cut/prune nodes on a given level. Next, it check the accuracy change with such a pruned tree."
   ]
  },
  {
   "cell_type": "code",
   "execution_count": null,
   "id": "521533a7",
   "metadata": {},
   "outputs": [],
   "source": [
    "def validate_rep(cart_tree, test_data_set, test_labels):\n",
    "    old_prediction, old_accuracy = get_accuracy(cart_tree, data_set, labels)\n",
    "    print(\"Train accuracy: \"+ str(old_accuracy))\n",
    "\n",
    "    old_accuracy = 0.0\n",
    "\n",
    "    level = [cart_tree]\n",
    "    levels = [level]\n",
    "\n",
    "    while level != []:\n",
    "        level = get_current_level(levels[-1])\n",
    "        if level != []:\n",
    "            levels.append(level)\n",
    "\n",
    "    for i, level in enumerate(levels):\n",
    "        print(\"level \", i)\n",
    "\n",
    "        for j, leaf in enumerate(level):\n",
    "            print(\" leaf \", j, \", \", leaf.ids)\n",
    "\n",
    "            if leaf.get_L() != None:\n",
    "\n",
    "                right_child = leaf.get_R()\n",
    "                left_child = leaf.get_L()\n",
    "\n",
    "                leaf.set_R(None)\n",
    "                leaf.set_L(None)\n",
    "\n",
    "                prediction, accuracy = get_accuracy(cart_tree, test_data_set, test_labels)\n",
    "\n",
    "                if i != 0:\n",
    "                    print(\"Leaf: \" + str(leaf.ids)+\": post prunning accuracy is greater or equal than pre prunning accuracy: \" + str(accuracy) + \">=\" + str(old_accuracy))\n",
    "                else:\n",
    "                    if accuracy < old_accuracy:\n",
    "                        leaf.set_R(right_child)\n",
    "                        leaf.set_L(left_child)\n",
    "\n",
    "                        prediction, old_accuracy = get_accuracy(cart_tree, test_data_set, test_labels)\n",
    "\n",
    "                    else:\n",
    "                        old_accuracy = accuracy\n",
    "                        leaf.set_completed()"
   ]
  },
  {
   "cell_type": "code",
   "execution_count": null,
   "id": "ee8c3b33",
   "metadata": {},
   "outputs": [],
   "source": [
    "validate_rep(cart_tree, test_data_set, test_labels)"
   ]
  }
 ],
 "metadata": {
  "kernelspec": {
   "display_name": "Python 3 (ipykernel)",
   "language": "python",
   "name": "python3"
  },
  "language_info": {
   "codemirror_mode": {
    "name": "ipython",
    "version": 3
   },
   "file_extension": ".py",
   "mimetype": "text/x-python",
   "name": "python",
   "nbconvert_exporter": "python",
   "pygments_lexer": "ipython3",
   "version": "3.9.10"
  }
 },
 "nbformat": 4,
 "nbformat_minor": 5
}

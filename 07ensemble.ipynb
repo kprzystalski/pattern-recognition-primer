{
 "cells": [
  {
   "cell_type": "markdown",
   "id": "fe6774a7",
   "metadata": {},
   "source": [
    "# Introduction to ensemble methods\n",
    "\n",
    "In this section we learn more about different ways of combined classifier. We cover such methods like:\n",
    "- boosting,\n",
    "- bagging,\n",
    "- stacking.\n",
    "\n",
    "Other methods like xgboost are given only as examples of how to use it."
   ]
  },
  {
   "cell_type": "markdown",
   "id": "1b0e971d",
   "metadata": {},
   "source": [
    "## Bagging\n",
    "\n",
    "Bagging consists of the following steps:\n",
    "1. create a bootstrap samples $S_{i}$,\n",
    "2. for each sample train a classifier,\n",
    "3. vote $f(x)=\\arg\\max\\sum_{i}^{T}(f_{i}(X)=y)$. \n",
    "In other words, we have a list of prediction and set the prediction to the most occurance prediction.\n",
    "\n",
    "Let's load the data set in the first place."
   ]
  },
  {
   "cell_type": "markdown",
   "id": "c0ff2a95",
   "metadata": {},
   "source": [
    "We use the accuracy metric from scikit-learn and the the tree package."
   ]
  },
  {
   "cell_type": "code",
   "execution_count": 119,
   "id": "4686bcf0",
   "metadata": {},
   "outputs": [],
   "source": [
    "from sklearn import tree\n",
    "import numpy as np\n",
    "from sklearn.metrics import accuracy_score\n",
    "\n",
    "decision_tree = tree.DecisionTreeClassifier(max_depth=2)"
   ]
  },
  {
   "cell_type": "markdown",
   "id": "d3829d0f",
   "metadata": {},
   "source": [
    "A boostrap generation method take randomly data from out data set and return is as a bootstrap set."
   ]
  },
  {
   "cell_type": "code",
   "execution_count": 120,
   "id": "bdced373",
   "metadata": {},
   "outputs": [],
   "source": [
    "def create_bootstrap_data(bootstrap_data_set, bootstrap_labels):\n",
    "    bootstrap_ids = np.random.randint(0, len(bootstrap_data_set), size=len(bootstrap_data_set))\n",
    "    return bootstrap_data_set[bootstrap_ids,:],bootstrap_labels[bootstrap_ids]"
   ]
  },
  {
   "cell_type": "markdown",
   "id": "0bccaf9d",
   "metadata": {},
   "source": [
    "We build a classifier based on decision tree that is used later for generation the prediction. We can use different classifiers here."
   ]
  },
  {
   "cell_type": "code",
   "execution_count": 121,
   "id": "cac521b0",
   "metadata": {},
   "outputs": [],
   "source": [
    "def build_classifier(data_set, labels):\n",
    "    decision_tree = tree.DecisionTreeClassifier(max_depth=2)\n",
    "    decision_tree.fit(data_set, labels)\n",
    "    return decision_tree"
   ]
  },
  {
   "cell_type": "markdown",
   "id": "4069fb3f",
   "metadata": {},
   "source": [
    "Based on the number of cases, we build many classifiers where each trains on different bootstrap data set."
   ]
  },
  {
   "cell_type": "code",
   "execution_count": 122,
   "id": "f943d696",
   "metadata": {},
   "outputs": [],
   "source": [
    "def build_classifiers(cases, bootstrap_data_set, bootstrap_labels):\n",
    "    classifiers = []\n",
    "    for case in range(cases):\n",
    "        bset, blabels = create_bootstrap_data(bootstrap_data_set, bootstrap_labels)\n",
    "        classifier = build_classifier(bset, blabels)\n",
    "        classifiers.append(classifier)\n",
    "    return classifiers"
   ]
  },
  {
   "cell_type": "markdown",
   "id": "8b9e58c8",
   "metadata": {},
   "source": [
    "The voting part is just counting on the classified values and get the max occurency of it."
   ]
  },
  {
   "cell_type": "code",
   "execution_count": 123,
   "id": "6dccff36",
   "metadata": {},
   "outputs": [],
   "source": [
    "def vote(classifiers, test_data):\n",
    "    output = []\n",
    "    for classifier in classifiers:\n",
    "        output.append(classifier.predict(test_data))\n",
    "    output = np.array(output)\n",
    "    print(output)\n",
    "    predicted = []\n",
    "    for i in range(len(test_data)):\n",
    "        classified = output[:, i]\n",
    "        counts = np.bincount(classified)\n",
    "        predicted.append(np.argmax(counts))\n",
    "    return predicted"
   ]
  },
  {
   "cell_type": "markdown",
   "id": "1468a624",
   "metadata": {},
   "source": [
    "Finally, we can check the results based on ten classifiers."
   ]
  },
  {
   "cell_type": "code",
   "execution_count": 144,
   "id": "1bc3dbc2",
   "metadata": {},
   "outputs": [
    {
     "name": "stdout",
     "output_type": "stream",
     "text": [
      "[[2 2 0 1 2 2 0 0 1 1 1 0 1 2 0 1 1 0 0 0 0 0 0 0 1 2 0 1 0 1 1 0 2 2 2 2\n",
      "  1 2 1 1 1 1 0 0 1 1 0 1 1 0 0 1 1 2 0 2 2 0 1 1]\n",
      " [2 2 0 1 2 2 0 0 1 1 1 0 1 2 0 1 1 0 0 0 0 0 0 0 1 2 0 1 0 1 1 0 2 2 2 2\n",
      "  1 2 1 1 1 1 0 0 1 1 0 1 1 0 0 1 1 2 0 2 2 0 1 1]\n",
      " [2 2 0 1 2 2 0 0 1 1 1 0 1 2 0 1 1 0 0 0 0 0 0 0 1 2 0 1 0 2 1 0 2 2 2 2\n",
      "  1 2 1 1 1 1 0 0 1 1 0 1 1 0 0 1 1 1 0 2 2 0 1 1]\n",
      " [2 2 0 1 2 2 0 0 1 1 1 0 1 2 0 1 1 0 0 0 0 0 0 0 1 2 0 1 0 1 1 0 2 2 2 2\n",
      "  1 2 1 1 1 1 0 0 1 1 0 1 1 0 0 1 1 2 0 2 2 0 1 1]\n",
      " [2 2 0 1 2 2 0 0 1 1 1 0 1 2 0 1 1 0 0 0 0 0 0 0 1 2 0 1 0 1 1 0 2 2 2 2\n",
      "  1 2 1 1 1 1 0 0 1 1 0 1 1 0 0 1 1 2 0 2 2 0 1 1]\n",
      " [2 2 0 1 2 2 0 0 1 1 1 0 1 2 0 1 1 0 0 0 0 0 0 0 1 2 0 1 0 2 1 0 2 2 2 2\n",
      "  1 2 1 1 1 1 0 0 1 1 0 1 1 0 0 1 1 1 0 2 2 0 1 1]\n",
      " [2 2 0 1 2 2 0 0 1 1 1 0 1 2 0 1 1 0 0 0 0 0 0 0 1 2 0 1 0 2 1 0 2 2 2 2\n",
      "  1 2 1 1 1 1 0 0 1 1 0 1 1 0 0 1 1 1 0 2 2 0 1 1]\n",
      " [2 2 0 1 1 1 0 0 1 1 1 0 1 1 0 1 1 0 0 0 0 0 0 0 1 2 0 1 0 1 1 0 2 2 2 2\n",
      "  1 2 1 1 1 1 0 0 1 1 0 1 1 0 0 1 1 1 0 2 2 0 1 1]]\n",
      "0.9666666666666667\n"
     ]
    }
   ],
   "source": [
    "from sklearn.datasets import load_iris\n",
    "from sklearn.model_selection import train_test_split\n",
    "\n",
    "iris = load_iris()\n",
    "\n",
    "random_objects = np.random.randint(0, 130, size=120)\n",
    "data_set = iris.data[random_objects]\n",
    "labels = iris.target[random_objects]\n",
    "\n",
    "train_set, test_set, train_labels, test_labels = train_test_split(data_set, labels, test_size=0.5, random_state=42)\n",
    "\n",
    "classifiers = build_classifiers(8, train_set, train_labels)\n",
    "predicted = vote(classifiers, test_set)\n",
    "accuracy = accuracy_score(test_labels, predicted)\n",
    "print(accuracy)"
   ]
  },
  {
   "cell_type": "code",
   "execution_count": 205,
   "id": "f835c23a-395f-4631-9512-4695528aa578",
   "metadata": {},
   "outputs": [
    {
     "data": {
      "image/png": "[encoded data removed]",
      "text/plain": [
       "<Figure size 640x480 with 1 Axes>"
      ]
     },
     "metadata": {},
     "output_type": "display_data"
    }
   ],
   "source": [
    "import matplotlib.pyplot as plt\n",
    "import tikzplotlib\n",
    "\n",
    "sizes = np.ones(len(test_set))*5\n",
    "\n",
    "plt.scatter(test_set[:, 1], test_set[:, 2], c=test_labels, cmap='autumn')\n",
    "plt.show()\n",
    "\n",
    "tikzplotlib.save('filename.tex')\n",
    "\n",
    "import matplotlib as mpl\n",
    "\n",
    "plt.close()\n",
    "mpl.rcParams.update(mpl.rcParamsDefault)"
   ]
  },
  {
   "cell_type": "code",
   "execution_count": 173,
   "id": "06dbb6a0-f0be-4b0d-89b7-46ee91c498a5",
   "metadata": {},
   "outputs": [
    {
     "data": {
      "text/plain": [
       "60"
      ]
     },
     "execution_count": 173,
     "metadata": {},
     "output_type": "execute_result"
    }
   ],
   "source": [
    "len(test_set)"
   ]
  },
  {
   "cell_type": "code",
   "execution_count": 202,
   "id": "8db3e5de-521c-446d-be71-1b204fe261d3",
   "metadata": {},
   "outputs": [],
   "source": [
    "a= zip(test_set[np.where(test_labels == 2),1][0],test_set[np.where(test_labels == 2),2][0])"
   ]
  },
  {
   "cell_type": "code",
   "execution_count": 203,
   "id": "f0df6c13-01f6-4e57-8a86-b6363325aff8",
   "metadata": {},
   "outputs": [],
   "source": [
    "b = tuple(a)"
   ]
  },
  {
   "cell_type": "code",
   "execution_count": 204,
   "id": "a55147ce-fe18-4f06-afec-b7a5c5c340ac",
   "metadata": {},
   "outputs": [
    {
     "data": {
      "text/plain": [
       "((2.5, 5.8),\n",
       " (3.6, 6.1),\n",
       " (2.8, 4.9),\n",
       " (3.2, 5.1),\n",
       " (3.0, 4.9),\n",
       " (3.0, 5.8),\n",
       " (2.5, 4.5),\n",
       " (3.0, 5.9),\n",
       " (3.0, 6.6),\n",
       " (3.2, 5.7),\n",
       " (2.5, 5.8),\n",
       " (3.3, 6.0),\n",
       " (2.2, 5.0),\n",
       " (3.0, 5.5),\n",
       " (3.6, 6.1))"
      ]
     },
     "execution_count": 204,
     "metadata": {},
     "output_type": "execute_result"
    }
   ],
   "source": [
    "b"
   ]
  },
  {
   "cell_type": "markdown",
   "id": "4f904856",
   "metadata": {},
   "source": [
    "We can easily compare it to just one tree:"
   ]
  },
  {
   "cell_type": "code",
   "execution_count": 145,
   "id": "0026ef65",
   "metadata": {},
   "outputs": [
    {
     "name": "stdout",
     "output_type": "stream",
     "text": [
      "0.9166666666666666\n"
     ]
    }
   ],
   "source": [
    "tree_data_set, tree_labels = create_bootstrap_data(train_set, train_labels)\n",
    "decision_tree = tree.DecisionTreeClassifier(max_depth=2)\n",
    "decision_tree.fit(tree_data_set, tree_labels)\n",
    "predicted1 = decision_tree.predict(test_set)\n",
    "accuracy1 = accuracy_score(test_labels, predicted1)\n",
    "print(accuracy1)"
   ]
  },
  {
   "cell_type": "code",
   "execution_count": 152,
   "id": "2d26fdee-c6a6-4458-be06-0c4f79bba008",
   "metadata": {},
   "outputs": [
    {
     "name": "stdout",
     "output_type": "stream",
     "text": [
      "4\n",
      "5\n",
      "13\n",
      "29\n",
      "53\n"
     ]
    }
   ],
   "source": [
    "for pred in range(len(predicted1)):\n",
    "    if predicted1[pred] != test_labels[pred]:\n",
    "        print(pred)"
   ]
  },
  {
   "cell_type": "code",
   "execution_count": 164,
   "id": "bf71d1e9-d7bc-4ff0-af23-30a3ded7fbcf",
   "metadata": {},
   "outputs": [
    {
     "data": {
      "text/plain": [
       "array([2.8, 3.2, 3. , 2.5, 2.2])"
      ]
     },
     "execution_count": 164,
     "metadata": {},
     "output_type": "execute_result"
    }
   ],
   "source": [
    "test_set[[4,5,13,29,53]][:,1]"
   ]
  },
  {
   "cell_type": "code",
   "execution_count": 165,
   "id": "c99c5210-1d06-45fc-ad28-83aebe64c8ec",
   "metadata": {},
   "outputs": [
    {
     "data": {
      "text/plain": [
       "array([4.9, 5.1, 4.9, 4.5, 5. ])"
      ]
     },
     "execution_count": 165,
     "metadata": {},
     "output_type": "execute_result"
    }
   ],
   "source": [
    "test_set[[4,5,13,29,53]][:,2]"
   ]
  },
  {
   "cell_type": "code",
   "execution_count": 153,
   "id": "bda45fd5-ba80-4c24-848f-789c297df628",
   "metadata": {},
   "outputs": [
    {
     "name": "stdout",
     "output_type": "stream",
     "text": [
      "29\n",
      "53\n"
     ]
    }
   ],
   "source": [
    "for pred in range(len(predicted1)):\n",
    "    if predicted[pred] != test_labels[pred]:\n",
    "        print(pred)"
   ]
  },
  {
   "cell_type": "code",
   "execution_count": 194,
   "id": "cdf73d32-7a13-4275-a413-a81ca45b6afd",
   "metadata": {},
   "outputs": [
    {
     "data": {
      "text/plain": [
       "array([[5.6, 2.8, 4.9, 2. ],\n",
       "       [6.5, 3.2, 5.1, 2. ],\n",
       "       [6.1, 3. , 4.9, 1.8],\n",
       "       [4.9, 2.5, 4.5, 1.7],\n",
       "       [6. , 2.2, 5. , 1.5]])"
      ]
     },
     "execution_count": 194,
     "metadata": {},
     "output_type": "execute_result"
    }
   ],
   "source": [
    "test_set[[4,5,13,29,53]]"
   ]
  },
  {
   "cell_type": "markdown",
   "id": "81978fd0",
   "metadata": {},
   "source": [
    "## AdaBoost\n",
    "\n",
    "AdaBoost consists of following steps:\n",
    "* initialize weights to $\\frac{1}{N}$, where $N$ is the number of datapoints,\n",
    "* loop until \n",
    "  $\\varepsilon_{t}<\\frac{1}{2}$\n",
    "  or maximum number of iteration is reached,\n",
    "\n",
    "* train classifier on ${S,w^{(t)}}$ and get a hypothesis $h_{t}(x_{n})$ for datapoints $x_{n}$,\n",
    "\n",
    "* compute error $\\varepsilon_{t}=\\sum_{n=1}^{N}w_{n}^{(t)}I(y_{n}\\neq h_{t}(x_{n}))$,       \n",
    "\n",
    "* set $\\alpha_{t}=\\log(\\frac{1-\\varepsilon_{t}}{\\varepsilon_{t}})$.\n",
    "  \n",
    "* update weights $w_{n}^{(t+1)}=\\frac{w_{n}^{(t)}\\exp{\\alpha_{t}I(y_{n}\\neq h_{t}(x_{n}))}}{Z_{t}}$,\n",
    "  where $Z_{t}$ is a normalization constant,\n",
    "\n",
    "* output $f(X)=\\text{sign}(\\sum_{t=1}^{T}\\alpha_{t}h_{t}(x))$."
   ]
  },
  {
   "cell_type": "markdown",
   "id": "817de3d8",
   "metadata": {},
   "source": [
    "Variables that are used by the classifier:"
   ]
  },
  {
   "cell_type": "code",
   "execution_count": 268,
   "id": "0d9033d3",
   "metadata": {},
   "outputs": [],
   "source": [
    "from sklearn.datasets import load_wine\n",
    "import numpy as np\n",
    "from sklearn.model_selection import train_test_split\n",
    "from sklearn.tree import DecisionTreeClassifier\n",
    "\n",
    "wine = load_wine()\n",
    "random_objects = np.random.randint(0, 178, size=140)\n",
    "data_set = wine.data[random_objects]\n",
    "labels = wine.target[random_objects]\n",
    "\n",
    "train_set, test_set, train_labels, test_labels = train_test_split(data_set, labels, test_size=0.5, random_state=42)"
   ]
  },
  {
   "cell_type": "markdown",
   "id": "c6f517fc",
   "metadata": {},
   "source": [
    "Weights initialization:"
   ]
  },
  {
   "cell_type": "code",
   "execution_count": 270,
   "id": "d2224185",
   "metadata": {},
   "outputs": [],
   "source": [
    "number_of_iterations = 10\n",
    "weights = np.ones((len(train_set),)) / len(train_set)"
   ]
  },
  {
   "cell_type": "markdown",
   "id": "3d70d51c",
   "metadata": {},
   "source": [
    "The data set looks as:"
   ]
  },
  {
   "cell_type": "code",
   "execution_count": 271,
   "id": "963c43fa",
   "metadata": {},
   "outputs": [
    {
     "data": {
      "image/png": "[encoded data removed]",
      "text/plain": [
       "<Figure size 640x480 with 1 Axes>"
      ]
     },
     "metadata": {},
     "output_type": "display_data"
    }
   ],
   "source": [
    "import matplotlib.pyplot as plt\n",
    "\n",
    "sizes = np.ones(len(test_set))*5\n",
    "\n",
    "plt.scatter(test_set[:, 1], test_set[:, 2], c=test_labels, s=sizes, cmap='autumn')\n",
    "plt.show()"
   ]
  },
  {
   "cell_type": "code",
   "execution_count": 274,
   "id": "e88bf29a",
   "metadata": {},
   "outputs": [],
   "source": [
    "def train_model(classifier, weights):\n",
    "    return classifier.fit(X=test_set, y=test_labels, sample_weight=weights)"
   ]
  },
  {
   "cell_type": "markdown",
   "id": "f950ad3c",
   "metadata": {},
   "source": [
    "Accuracy vector calculation for the weights: 0 - don't change the weight, 1 - change it."
   ]
  },
  {
   "cell_type": "code",
   "execution_count": 275,
   "id": "a9779485",
   "metadata": {},
   "outputs": [],
   "source": [
    "def calculate_accuracy_vector(predicted, labels):\n",
    "    result = []\n",
    "    for i in range(len(predicted)):\n",
    "        if predicted[i] == labels[i]:\n",
    "            result.append(0)\n",
    "        else:\n",
    "            result.append(1)\n",
    "    return result"
   ]
  },
  {
   "cell_type": "markdown",
   "id": "cb49dc35",
   "metadata": {},
   "source": [
    "Calculate the error rate $\\varepsilon_{t}=\\sum_{n=1}^{N}w_{n}^{(t)}I(y_{n}\\neq h_{t}(x_{n}))$:"
   ]
  },
  {
   "cell_type": "code",
   "execution_count": 276,
   "id": "e32254e6",
   "metadata": {},
   "outputs": [],
   "source": [
    "def calculate_error(weights, model):\n",
    "    predicted = model.predict(test_set)\n",
    "    return np.dot(weights,calculate_accuracy_vector(predicted, test_labels))"
   ]
  },
  {
   "cell_type": "markdown",
   "id": "51335c34",
   "metadata": {},
   "source": [
    "Calculate the $\\alpha_{t}=\\log(\\frac{1-\\varepsilon_{t}}{\\varepsilon_{t}})$:"
   ]
  },
  {
   "cell_type": "code",
   "execution_count": 277,
   "id": "4bf74883",
   "metadata": {},
   "outputs": [],
   "source": [
    "def set_alpha(error_rate):\n",
    "    return np.log((1-error_rate)/error_rate)"
   ]
  },
  {
   "cell_type": "markdown",
   "id": "64979ae9",
   "metadata": {},
   "source": [
    "Calculate the new weights $w_{n}^{(t+1)}=\\frac{w_{n}^{(t)}\\exp{\\alpha_{t}I(y_{n}\\neq h_{t}(x_{n}))}}{Z_{t}}$:"
   ]
  },
  {
   "cell_type": "code",
   "execution_count": 278,
   "id": "62abd5cc",
   "metadata": {},
   "outputs": [],
   "source": [
    "def set_new_weights(old_weights, alpha, model):\n",
    "    new_weights = old_weights * np.exp(np.multiply(alpha,calculate_accuracy_vector(model.predict(test_set), test_labels)))\n",
    "    Zt = np.sum(new_weights)\n",
    "    return new_weights / Zt"
   ]
  },
  {
   "cell_type": "markdown",
   "id": "bca6da7d",
   "metadata": {},
   "source": [
    "Now, it's time to run the code and check the weights:"
   ]
  },
  {
   "cell_type": "code",
   "execution_count": 279,
   "id": "704c00be",
   "metadata": {},
   "outputs": [
    {
     "name": "stdout",
     "output_type": "stream",
     "text": [
      "[0.02380952 0.01020408 0.02380952 0.01020408 0.01020408 0.01020408\n",
      " 0.02380952 0.01020408 0.01020408 0.02380952 0.01020408 0.01020408\n",
      " 0.01020408 0.01020408 0.01020408 0.01020408 0.01020408 0.01020408\n",
      " 0.02380952 0.01020408 0.01020408 0.01020408 0.01020408 0.01020408\n",
      " 0.02380952 0.01020408 0.01020408 0.02380952 0.02380952 0.02380952\n",
      " 0.01020408 0.02380952 0.01020408 0.01020408 0.01020408 0.02380952\n",
      " 0.01020408 0.01020408 0.02380952 0.01020408 0.01020408 0.01020408\n",
      " 0.01020408 0.01020408 0.01020408 0.02380952 0.02380952 0.01020408\n",
      " 0.01020408 0.01020408 0.01020408 0.01020408 0.01020408 0.02380952\n",
      " 0.01020408 0.01020408 0.02380952 0.02380952 0.02380952 0.01020408\n",
      " 0.01020408 0.02380952 0.02380952 0.02380952 0.01020408 0.01020408\n",
      " 0.01020408 0.01020408 0.01020408 0.01020408]\n",
      "[0.01555556 0.00666667 0.01555556 0.02173913 0.02173913 0.00666667\n",
      " 0.01555556 0.00666667 0.00666667 0.01555556 0.00666667 0.02173913\n",
      " 0.00666667 0.02173913 0.00666667 0.00666667 0.02173913 0.02173913\n",
      " 0.01555556 0.00666667 0.02173913 0.00666667 0.02173913 0.00666667\n",
      " 0.01555556 0.02173913 0.00666667 0.01555556 0.01555556 0.01555556\n",
      " 0.00666667 0.01555556 0.00666667 0.00666667 0.00666667 0.01555556\n",
      " 0.02173913 0.02173913 0.01555556 0.02173913 0.00666667 0.00666667\n",
      " 0.00666667 0.02173913 0.00666667 0.01555556 0.01555556 0.00666667\n",
      " 0.02173913 0.02173913 0.02173913 0.02173913 0.00666667 0.01555556\n",
      " 0.00666667 0.02173913 0.01555556 0.01555556 0.01555556 0.02173913\n",
      " 0.00666667 0.01555556 0.01555556 0.01555556 0.00666667 0.02173913\n",
      " 0.02173913 0.02173913 0.02173913 0.00666667]\n",
      "[0.010833   0.01181912 0.010833   0.0385406  0.01513928 0.01181912\n",
      " 0.010833   0.01181912 0.01181912 0.010833   0.01181912 0.01513928\n",
      " 0.01181912 0.01513928 0.01181912 0.01181912 0.01513928 0.01513928\n",
      " 0.010833   0.01181912 0.01513928 0.01181912 0.0385406  0.01181912\n",
      " 0.010833   0.01513928 0.01181912 0.010833   0.010833   0.010833\n",
      " 0.01181912 0.010833   0.01181912 0.01181912 0.01181912 0.010833\n",
      " 0.01513928 0.01513928 0.010833   0.0385406  0.01181912 0.01181912\n",
      " 0.01181912 0.01513928 0.01181912 0.010833   0.010833   0.01181912\n",
      " 0.0385406  0.01513928 0.0385406  0.01513928 0.01181912 0.010833\n",
      " 0.01181912 0.01513928 0.010833   0.010833   0.010833   0.01513928\n",
      " 0.01181912 0.010833   0.010833   0.010833   0.01181912 0.01513928\n",
      " 0.01513928 0.01513928 0.01513928 0.01181912]\n",
      "[0.02380952 0.00764984 0.02380952 0.02494514 0.0097988  0.00764984\n",
      " 0.02380952 0.00764984 0.00764984 0.02380952 0.00764984 0.0097988\n",
      " 0.00764984 0.0097988  0.00764984 0.00764984 0.0097988  0.0097988\n",
      " 0.02380952 0.00764984 0.0097988  0.00764984 0.02494514 0.00764984\n",
      " 0.02380952 0.0097988  0.00764984 0.02380952 0.02380952 0.02380952\n",
      " 0.00764984 0.02380952 0.00764984 0.00764984 0.00764984 0.02380952\n",
      " 0.0097988  0.0097988  0.02380952 0.02494514 0.00764984 0.00764984\n",
      " 0.00764984 0.0097988  0.00764984 0.02380952 0.02380952 0.00764984\n",
      " 0.02494514 0.0097988  0.02494514 0.0097988  0.00764984 0.02380952\n",
      " 0.00764984 0.0097988  0.02380952 0.02380952 0.02380952 0.0097988\n",
      " 0.00764984 0.02380952 0.02380952 0.02380952 0.00764984 0.0097988\n",
      " 0.0097988  0.0097988  0.0097988  0.00764984]\n",
      "[0.01634408 0.00525125 0.01634408 0.01712363 0.01803793 0.00525125\n",
      " 0.04382931 0.00525125 0.00525125 0.01634408 0.00525125 0.01803793\n",
      " 0.00525125 0.01803793 0.00525125 0.00525125 0.01803793 0.01803793\n",
      " 0.01634408 0.00525125 0.01803793 0.00525125 0.01712363 0.00525125\n",
      " 0.04382931 0.01803793 0.00525125 0.01634408 0.01634408 0.01634408\n",
      " 0.00525125 0.01634408 0.00525125 0.00525125 0.00525125 0.01634408\n",
      " 0.01803793 0.01803793 0.04382931 0.01712363 0.00525125 0.00525125\n",
      " 0.00525125 0.01803793 0.00525125 0.01634408 0.01634408 0.00525125\n",
      " 0.01712363 0.01803793 0.01712363 0.01803793 0.00525125 0.01634408\n",
      " 0.00525125 0.01803793 0.04382931 0.01634408 0.01634408 0.01803793\n",
      " 0.00525125 0.01634408 0.01634408 0.01634408 0.00525125 0.01803793\n",
      " 0.01803793 0.01803793 0.01803793 0.00525125]\n",
      "[0.01050594 0.01181912 0.01050594 0.0385406  0.01159474 0.01181912\n",
      " 0.02817339 0.01181912 0.01181912 0.01050594 0.01181912 0.01159474\n",
      " 0.01181912 0.01159474 0.01181912 0.01181912 0.01159474 0.01159474\n",
      " 0.01050594 0.01181912 0.01159474 0.01181912 0.0385406  0.01181912\n",
      " 0.02817339 0.01159474 0.01181912 0.01050594 0.01050594 0.01050594\n",
      " 0.01181912 0.01050594 0.01181912 0.01181912 0.01181912 0.01050594\n",
      " 0.01159474 0.01159474 0.02817339 0.0385406  0.01181912 0.01181912\n",
      " 0.01181912 0.01159474 0.01181912 0.01050594 0.01050594 0.01181912\n",
      " 0.0385406  0.01159474 0.0385406  0.01159474 0.01181912 0.01050594\n",
      " 0.01181912 0.01159474 0.02817339 0.01050594 0.01050594 0.01159474\n",
      " 0.01181912 0.01050594 0.01050594 0.01050594 0.01181912 0.01159474\n",
      " 0.01159474 0.01159474 0.01159474 0.01181912]\n",
      "[0.00740463 0.00833016 0.00740463 0.02716357 0.01995083 0.00833016\n",
      " 0.01985672 0.00833016 0.00833016 0.01807736 0.00833016 0.01995083\n",
      " 0.00833016 0.01995083 0.00833016 0.00833016 0.01995083 0.01995083\n",
      " 0.00740463 0.00833016 0.01995083 0.00833016 0.02716357 0.00833016\n",
      " 0.01985672 0.01995083 0.00833016 0.00740463 0.00740463 0.00740463\n",
      " 0.00833016 0.00740463 0.00833016 0.00833016 0.00833016 0.00740463\n",
      " 0.01995083 0.01995083 0.01985672 0.066316   0.00833016 0.00833016\n",
      " 0.02033691 0.01995083 0.00833016 0.00740463 0.00740463 0.00833016\n",
      " 0.02716357 0.01995083 0.02716357 0.01995083 0.00833016 0.00740463\n",
      " 0.00833016 0.01995083 0.01985672 0.01807736 0.01807736 0.01995083\n",
      " 0.00833016 0.00740463 0.00740463 0.00740463 0.00833016 0.01995083\n",
      " 0.01995083 0.01995083 0.01995083 0.00833016]\n",
      "[0.01560027 0.00546114 0.01560027 0.01780806 0.01307949 0.00546114\n",
      " 0.04183466 0.00546114 0.00546114 0.03808585 0.00546114 0.01307949\n",
      " 0.00546114 0.01307949 0.00546114 0.00546114 0.01307949 0.01307949\n",
      " 0.01560027 0.00546114 0.01307949 0.00546114 0.01780806 0.00546114\n",
      " 0.04183466 0.01307949 0.00546114 0.01560027 0.01560027 0.01560027\n",
      " 0.00546114 0.01560027 0.00546114 0.00546114 0.00546114 0.01560027\n",
      " 0.01307949 0.01307949 0.04183466 0.04347585 0.00546114 0.00546114\n",
      " 0.01333259 0.01307949 0.00546114 0.01560027 0.01560027 0.00546114\n",
      " 0.01780806 0.01307949 0.01780806 0.01307949 0.00546114 0.01560027\n",
      " 0.00546114 0.01307949 0.04183466 0.03808585 0.03808585 0.01307949\n",
      " 0.00546114 0.01560027 0.01560027 0.01560027 0.00546114 0.01307949\n",
      " 0.01307949 0.01307949 0.01307949 0.00546114]\n",
      "[0.01060621 0.01032081 0.01060621 0.03365483 0.0088924  0.01032081\n",
      " 0.02844228 0.01032081 0.01032081 0.02589356 0.01032081 0.0088924\n",
      " 0.01032081 0.0088924  0.01032081 0.01032081 0.0088924  0.0088924\n",
      " 0.01060621 0.01032081 0.0088924  0.01032081 0.03365483 0.01032081\n",
      " 0.02844228 0.0088924  0.01032081 0.01060621 0.01060621 0.01060621\n",
      " 0.01032081 0.01060621 0.01032081 0.01032081 0.01032081 0.01060621\n",
      " 0.0088924  0.0088924  0.02844228 0.0821635  0.01032081 0.01032081\n",
      " 0.02519681 0.0088924  0.01032081 0.01060621 0.01060621 0.01032081\n",
      " 0.03365483 0.0088924  0.03365483 0.0088924  0.01032081 0.01060621\n",
      " 0.01032081 0.0088924  0.02844228 0.02589356 0.02589356 0.0088924\n",
      " 0.01032081 0.01060621 0.01060621 0.01060621 0.01032081 0.0088924\n",
      " 0.0088924  0.0088924  0.0088924  0.01032081]\n",
      "[0.00664956 0.00647063 0.02618972 0.02109989 0.02195784 0.00647063\n",
      " 0.01783188 0.00647063 0.00647063 0.01623397 0.00647063 0.02195784\n",
      " 0.00647063 0.02195784 0.00647063 0.00647063 0.02195784 0.02195784\n",
      " 0.00664956 0.00647063 0.02195784 0.00647063 0.02109989 0.00647063\n",
      " 0.01783188 0.02195784 0.00647063 0.00664956 0.00664956 0.00664956\n",
      " 0.00647063 0.02618972 0.00647063 0.00647063 0.00647063 0.00664956\n",
      " 0.02195784 0.02195784 0.01783188 0.05151239 0.00647063 0.00647063\n",
      " 0.01579713 0.02195784 0.00647063 0.00664956 0.02618972 0.00647063\n",
      " 0.02109989 0.02195784 0.02109989 0.02195784 0.00647063 0.00664956\n",
      " 0.00647063 0.02195784 0.01783188 0.01623397 0.01623397 0.02195784\n",
      " 0.00647063 0.02618972 0.00664956 0.00664956 0.00647063 0.02195784\n",
      " 0.02195784 0.02195784 0.02195784 0.00647063]\n",
      "[0.00664956 0.00647063 0.02618972 0.02109989 0.02195784 0.00647063\n",
      " 0.01783188 0.00647063 0.00647063 0.01623397 0.00647063 0.02195784\n",
      " 0.00647063 0.02195784 0.00647063 0.00647063 0.02195784 0.02195784\n",
      " 0.00664956 0.00647063 0.02195784 0.00647063 0.02109989 0.00647063\n",
      " 0.01783188 0.02195784 0.00647063 0.00664956 0.00664956 0.00664956\n",
      " 0.00647063 0.02618972 0.00647063 0.00647063 0.00647063 0.00664956\n",
      " 0.02195784 0.02195784 0.01783188 0.05151239 0.00647063 0.00647063\n",
      " 0.01579713 0.02195784 0.00647063 0.00664956 0.02618972 0.00647063\n",
      " 0.02109989 0.02195784 0.02109989 0.02195784 0.00647063 0.00664956\n",
      " 0.00647063 0.02195784 0.01783188 0.01623397 0.01623397 0.02195784\n",
      " 0.00647063 0.02618972 0.00664956 0.00664956 0.00647063 0.02195784\n",
      " 0.02195784 0.02195784 0.02195784 0.00647063]\n"
     ]
    }
   ],
   "source": [
    "classifier = DecisionTreeClassifier(max_depth=1, random_state=1)\n",
    "classifier.fit(X=train_set, y=train_labels)\n",
    "alphas = []\n",
    "classifiers = []\n",
    "for iteration in range(number_of_iterations):\n",
    "    model = train_model(classifier, weights)\n",
    "    error_rate = calculate_error(weights, model)\n",
    "    alpha = set_alpha(error_rate)\n",
    "    weights = set_new_weights(weights, alpha, model)\n",
    "    alphas.append(alpha)\n",
    "    classifiers.append(model)"
   ]
  },
  {
   "cell_type": "code",
   "execution_count": 265,
   "id": "63d7cd1d",
   "metadata": {},
   "outputs": [],
   "source": [
    "weights = (weights/np.min(weights))*2"
   ]
  },
  {
   "cell_type": "code",
   "execution_count": 266,
   "id": "4fc3bfa7",
   "metadata": {},
   "outputs": [
    {
     "data": {
      "image/png": "[encoded data removed]",
      "text/plain": [
       "<Figure size 640x480 with 1 Axes>"
      ]
     },
     "metadata": {},
     "output_type": "display_data"
    }
   ],
   "source": [
    "plt.scatter(test_set[:, 1], test_set[:, 2], c=test_labels, s=weights*5, cmap='autumn')\n",
    "\n",
    "\n",
    "plt.show()"
   ]
  },
  {
   "cell_type": "code",
   "execution_count": 308,
   "id": "b5c13a44-af85-4626-8d88-da7ceee45c75",
   "metadata": {},
   "outputs": [
    {
     "name": "stdout",
     "output_type": "stream",
     "text": [
      "addplot[label0, only marks, mark=square*, mark size=1pt] coordinates {\n",
      "(13.72,1.43) (13.29,1.97) (13.51,1.8) (13.16,2.36) (13.73,1.5) (14.39,1.87) (13.68,1.83) (13.41,3.84) };\n",
      "addplot[label1, only marks, mark=square*, mark size=1pt] coordinates {\n",
      "(11.61,1.35) (11.81,2.12) (11.84,0.89) (12.64,1.36) (11.84,0.89) (11.76,2.68) (12.0,1.51) (13.34,0.94) (12.37,1.07) (11.45,2.4) (12.37,0.94) };\n",
      "addplot[label2, only marks, mark=square*, mark size=1pt] coordinates {\n",
      "(13.84,4.12) (13.69,3.26) (12.36,3.83) (12.58,1.29) (12.86,1.35) };\n",
      "addplot[label0, only marks, mark=square*, mark size=1.5pt] coordinates {\n",
      "(13.73,1.5) (14.22,1.7) (13.48,1.81) };\n",
      "addplot[label1, only marks, mark=square*, mark size=1.5pt] coordinates {\n",
      "(12.08,1.39) (12.37,1.17) (12.37,1.21) (12.22,1.29) (12.42,4.43) (11.41,0.74) (12.08,1.39) (12.29,3.17) (12.25,1.73) (11.41,0.74) };\n",
      "addplot[label2, only marks, mark=square*, mark size=1.5pt] coordinates {\n",
      "(12.7,3.55) (12.36,3.83) (12.82,3.37) (14.34,1.68) (13.4,4.6) };\n",
      "addplot[label0, only marks, mark=square*, mark size=2.0pt] coordinates {\n",
      "(14.06,1.63) };\n",
      "addplot[label1, only marks, mark=square*, mark size=2.0pt] coordinates {\n",
      "(12.64,1.36) };\n",
      "addplot[label2, only marks, mark=square*, mark size=2.0pt] coordinates {\n",
      "(12.81,2.31) (13.17,5.19) };\n",
      "addplot[label0, only marks, mark=square*, mark size=2.5pt] coordinates {\n",
      "(14.1,2.16) };\n",
      "addplot[label1, only marks, mark=square*, mark size=2.5pt] coordinates {\n",
      "(12.33,0.99) (12.0,3.43) };\n",
      "addplot[label2, only marks, mark=square*, mark size=2.5pt] coordinates {\n",
      "};\n",
      "addplot[label0, only marks, mark=square*, mark size=3.0pt] coordinates {\n",
      "};\n",
      "addplot[label1, only marks, mark=square*, mark size=3.0pt] coordinates {\n",
      "(12.64,1.36) };\n",
      "addplot[label2, only marks, mark=square*, mark size=3.0pt] coordinates {\n",
      "};\n",
      "addplot[label0, only marks, mark=square*, mark size=3.5pt] coordinates {\n",
      "};\n",
      "addplot[label1, only marks, mark=square*, mark size=3.5pt] coordinates {\n",
      "(12.04,4.3) };\n",
      "addplot[label2, only marks, mark=square*, mark size=3.5pt] coordinates {\n",
      "(13.45,3.7) };\n",
      "addplot[label0, only marks, mark=square*, mark size=4.0pt] coordinates {\n",
      "(13.88,1.89) (13.51,1.8) };\n",
      "addplot[label1, only marks, mark=square*, mark size=4.0pt] coordinates {\n",
      "(13.49,1.66) };\n",
      "addplot[label2, only marks, mark=square*, mark size=4.0pt] coordinates {\n",
      "(13.69,3.26) (13.32,3.24) };\n",
      "addplot[label0, only marks, mark=square*, mark size=4.5pt] coordinates {\n",
      "(13.56,1.73) };\n",
      "addplot[label1, only marks, mark=square*, mark size=4.5pt] coordinates {\n",
      "};\n",
      "addplot[label2, only marks, mark=square*, mark size=4.5pt] coordinates {\n",
      "};\n",
      "addplot[label0, only marks, mark=square*, mark size=5.0pt] coordinates {\n",
      "(14.2,1.76) (14.23,1.71) };\n",
      "addplot[label1, only marks, mark=square*, mark size=5.0pt] coordinates {\n",
      "(12.52,2.43) (11.84,0.89) (12.37,1.21) (12.42,1.61) };\n",
      "addplot[label2, only marks, mark=square*, mark size=5.0pt] coordinates {\n",
      "(13.45,3.7) (12.87,4.61) (13.5,3.12) (12.88,2.99) (13.48,1.67) };\n",
      "addplot[label0, only marks, mark=square*, mark size=5.5pt] coordinates {\n",
      "};\n",
      "addplot[label1, only marks, mark=square*, mark size=5.5pt] coordinates {\n",
      "};\n",
      "addplot[label2, only marks, mark=square*, mark size=5.5pt] coordinates {\n",
      "(13.08,3.9) };\n"
     ]
    }
   ],
   "source": [
    "size = 1\n",
    "unique_weights = np.unique(weights1)\n",
    "for wei in range(len(unique_weights)):\n",
    "    results = test_set[np.where(np.array(weights1) == unique_weights[wei])[0]]\n",
    "    labs = test_labels[np.where(np.array(weights1) == unique_weights[wei])]\n",
    "    for i in [0,1,2]:\n",
    "        print(\"addplot[label\"+str(i)+\", only marks, mark=square*, mark size=\"+str(size)+\"pt] coordinates {\")\n",
    "        selected = np.where(test_labels[np.where(np.array(weights1) == unique_weights[wei])]==i)\n",
    "        if len(selected) > 0:\n",
    "            for res in results[selected]:\n",
    "                print(\"(\"+str(res[0])+\",\"+str(res[1])+\") \", end='')\n",
    "        print(\"};\")\n",
    "    size = size + 0.5"
   ]
  },
  {
   "cell_type": "markdown",
   "id": "937f0cf8",
   "metadata": {},
   "source": [
    "## Stacking\n",
    "\n",
    "\n",
    "Stacking method use several classifiers and use them to generate an input feature matrix for a stacked classifier that do the final prediction. To simplify the notebook, we use methods that are available in scikit-learn package. We load only several, but in the exercise you gonna need to load other methods as well.\n",
    "\n",
    "\n",
    "We have the following steps:    \n",
    "\n",
    "* create $T$ classifiers and learn each to get $m$ predictions (hypothesis $h_{t}$,\n",
    "* construct data set of predictions and construct a new classifier $C_{m}$ for each dataset,\n",
    "* construct a $C_{h}$ classifier that combines all $C_{m}$ classifiers.\n",
    "\n",
    "First of all, let's import required libraries:"
   ]
  },
  {
   "cell_type": "code",
   "execution_count": 330,
   "id": "f5d1ca6b",
   "metadata": {},
   "outputs": [],
   "source": [
    "import numpy as np\n",
    "\n",
    "from sklearn.discriminant_analysis import QuadraticDiscriminantAnalysis\n",
    "from sklearn.naive_bayes import GaussianNB\n",
    "from sklearn.neighbors import KNeighborsClassifier\n",
    "from sklearn.tree import DecisionTreeClassifier\n",
    "\n",
    "from sklearn.metrics import accuracy_score"
   ]
  },
  {
   "cell_type": "markdown",
   "id": "e6a75c50",
   "metadata": {},
   "source": [
    "In the first part we build three different models based on three different classifiers:"
   ]
  },
  {
   "cell_type": "code",
   "execution_count": 402,
   "id": "ca9f2f6c",
   "metadata": {},
   "outputs": [],
   "source": [
    "def build_classifiers(train_set, train_labels):\n",
    "    \n",
    "    neighbors = KNeighborsClassifier()\n",
    "    neighbors.fit(train_set, train_labels)\n",
    "\n",
    "    bayes = GaussianNB()\n",
    "    bayes.fit(train_set, train_labels)\n",
    "\n",
    "    qda = QuadraticDiscriminantAnalysis()\n",
    "    qda.fit(train_set, train_labels)\n",
    "\n",
    "    return neighbors, bayes, qda"
   ]
  },
  {
   "cell_type": "markdown",
   "id": "501989fc",
   "metadata": {},
   "source": [
    "Based on the classifiers prediction, we build a feature vector for the decision tree classifier. Finally, we train and predict with the stacked classifier."
   ]
  },
  {
   "cell_type": "code",
   "execution_count": 405,
   "id": "f732df7a",
   "metadata": {},
   "outputs": [],
   "source": [
    "def build_stacked_classifier(classifiers, train_set, train_labels, test_set, test_labels):\n",
    "    output = []\n",
    "    for classifier in classifiers:\n",
    "        output.append(classifier.predict(train_set))\n",
    "    meta_set = np.stack((output[0],output[1],output[2]), axis = 1)\n",
    "\n",
    "    decision_tree = DecisionTreeClassifier()\n",
    "    decision_tree.fit(meta_set, train_labels)\n",
    "    \n",
    "    output = []\n",
    "    for classifier in classifiers:\n",
    "        output.append(classifier.predict(test_set))\n",
    "    meta_test_set = np.stack((output[0],output[1],output[2]), axis = 1)\n",
    "    predicted = decision_tree.predict(meta_test_set)\n",
    "    return predicted"
   ]
  },
  {
   "cell_type": "markdown",
   "id": "856d2611",
   "metadata": {},
   "source": [
    "Stacked classifier accuracy can be measured as below:"
   ]
  },
  {
   "cell_type": "code",
   "execution_count": 406,
   "id": "de21f237",
   "metadata": {},
   "outputs": [
    {
     "name": "stdout",
     "output_type": "stream",
     "text": [
      "0.9761904761904762\n"
     ]
    }
   ],
   "source": [
    "from sklearn.datasets import load_breast_cancer\n",
    "\n",
    "breast = load_breast_cancer()\n",
    "\n",
    "random_objects = np.random.randint(0, 178, size=140)\n",
    "data_set = breast.data[random_objects]\n",
    "labels = breast.target[random_objects]\n",
    "\n",
    "train_set, test_set, train_labels, test_labels = train_test_split(data_set, labels, test_size=0.3, random_state=42)\n",
    "\n",
    "classifiers = build_classifiers(train_set, train_labels)\n",
    "predicted = build_stacked_classifier(classifiers, train_set, train_labels, test_set, test_labels)\n",
    "accuracy = accuracy_score(test_labels, predicted)\n",
    "print(accuracy)"
   ]
  },
  {
   "cell_type": "markdown",
   "id": "b8316f9d",
   "metadata": {},
   "source": [
    "In this case, the three used classifiers does not give any value, because we get a higher value using just the decision treee classifier."
   ]
  },
  {
   "cell_type": "code",
   "execution_count": 407,
   "id": "5d0d887c",
   "metadata": {},
   "outputs": [
    {
     "name": "stdout",
     "output_type": "stream",
     "text": [
      "0.9047619047619048\n"
     ]
    }
   ],
   "source": [
    "decision_tree = DecisionTreeClassifier()\n",
    "decision_tree.fit(train_set, train_labels)\n",
    "predicted = decision_tree.predict(test_set)\n",
    "accuracy = accuracy_score(test_labels, predicted)\n",
    "print(accuracy)"
   ]
  },
  {
   "cell_type": "markdown",
   "id": "7bff2f37",
   "metadata": {},
   "source": [
    "## Grading\n",
    "\n",
    "Grading is a stacking type where we train a grading classifier that checks if our classifier is good or not on the prediction. We need to build classifiers like we did in the previous example:"
   ]
  },
  {
   "cell_type": "code",
   "execution_count": 411,
   "id": "5afeafa1",
   "metadata": {},
   "outputs": [],
   "source": [
    "def build_grad_classifiers(train_set, train_labels):\n",
    "\n",
    "    neighbors = KNeighborsClassifier()\n",
    "    neighbors.fit(train_set, train_labels)\n",
    "\n",
    "    bayes = GaussianNB()\n",
    "    bayes.fit(train_set, train_labels)\n",
    "\n",
    "    qda = QuadraticDiscriminantAnalysis()\n",
    "    qda.fit(train_set, train_labels)\n",
    "\n",
    "    return neighbors, bayes, qda"
   ]
  },
  {
   "cell_type": "markdown",
   "id": "f2a01210",
   "metadata": {},
   "source": [
    "In the method below we get a vector of model grads:"
   ]
  },
  {
   "cell_type": "code",
   "execution_count": 412,
   "id": "834a4478",
   "metadata": {},
   "outputs": [],
   "source": [
    "def calculate_accuracy_vector(predicted, labels):\n",
    "    result = []\n",
    "    for i in range(len(predicted)):\n",
    "        if predicted[i] == labels[i]:\n",
    "            result.append(1)\n",
    "        else:\n",
    "            result.append(0)\n",
    "    return result"
   ]
  },
  {
   "cell_type": "markdown",
   "id": "702658b5",
   "metadata": {},
   "source": [
    "Finally, we can build our grading meta classifier:"
   ]
  },
  {
   "cell_type": "code",
   "execution_count": 426,
   "id": "fb6adb46",
   "metadata": {},
   "outputs": [],
   "source": [
    "def build_grading_classifier(classifiers, train_set, train_labels):\n",
    "    output = []\n",
    "    matrix = []\n",
    "    for classifier in classifiers:\n",
    "        predicted = classifier.predict(train_set)\n",
    "        output.append(predicted)\n",
    "        matrix.append(calculate_accuracy_vector(predicted, train_labels))\n",
    "\n",
    "    grading_classifiers = []\n",
    "    for i in range(len(classifiers)):\n",
    "        tree = DecisionTreeClassifier()\n",
    "        tree.fit(train_set, matrix[i])\n",
    "        grading_classifiers.append(tree)\n",
    "    return grading_classifiers"
   ]
  },
  {
   "cell_type": "markdown",
   "id": "1fe511f5",
   "metadata": {},
   "source": [
    "Test prediction function takes the model and grading model and return the prediction and grad of the prediction:"
   ]
  },
  {
   "cell_type": "code",
   "execution_count": 427,
   "id": "d62cb5d5",
   "metadata": {},
   "outputs": [],
   "source": [
    "def test_prediction(classifiers, grading_classifiers, test_set, i):\n",
    "    prediction = classifiers[i].predict(test_set)\n",
    "    grad = grading_classifiers[i].predict(test_set)\n",
    "    return prediction, grad"
   ]
  },
  {
   "cell_type": "markdown",
   "id": "4b58bc65",
   "metadata": {},
   "source": [
    "We can test now the output, labels and grads of the output:"
   ]
  },
  {
   "cell_type": "code",
   "execution_count": 446,
   "id": "71f5a6f7",
   "metadata": {},
   "outputs": [
    {
     "name": "stdout",
     "output_type": "stream",
     "text": [
      "[1 0 1 0 1 1 1 1 1 0 1 1 1 0 1 0 0 0 1 0 1 1 1 1 0 0 1 1 0 0 0 0 1 0 1 1 0\n",
      " 1 0 1 0 0 0 0 0 1 1 0 0 0 0 0 1 1 0 1 0 0 0 0 1 1 0 1 1 1 1 0 0 1]\n",
      "[1 1 1 1 1 1 1 1 1 1 1 1 1 1 1 1 1 1 1 1 1 1 1 0 1 1 1 1 1 1 1 1 1 1 1 1 1\n",
      " 1 1 1 0 1 1 1 1 1 1 1 1 1 1 1 1 1 1 1 1 1 1 1 1 1 1 1 1 1 1 1 1 1]\n",
      "[1 0 1 0 1 1 1 1 1 0 1 1 1 0 0 0 0 1 1 0 1 1 1 0 0 0 1 0 0 0 0 0 0 0 1 1 0\n",
      " 1 0 1 1 1 1 0 0 1 0 0 0 0 0 0 1 1 0 1 1 0 0 0 1 1 0 1 1 1 1 0 0 1]\n"
     ]
    },
    {
     "name": "stderr",
     "output_type": "stream",
     "text": [
      "/Users/kprzystalski/miniforge3/lib/python3.9/site-packages/sklearn/discriminant_analysis.py:878: UserWarning: Variables are collinear\n",
      "  warnings.warn(\"Variables are collinear\")\n"
     ]
    }
   ],
   "source": [
    "from sklearn.datasets import load_breast_cancer\n",
    "\n",
    "breast = load_breast_cancer()\n",
    "\n",
    "random_objects = np.random.randint(0, 178, size=140)\n",
    "data_set = breast.data[random_objects]\n",
    "labels = breast.target[random_objects]\n",
    "\n",
    "train_set, test_set, train_labels, test_labels = train_test_split(data_set, \n",
    "                                                                  labels, \n",
    "                                                                  test_size=0.5, \n",
    "                                                                  random_state=42)\n",
    "\n",
    "classifiers = build_grad_classifiers(train_set, train_labels)\n",
    "grading_classifiers = build_grading_classifier(classifiers, train_set, train_labels)\n",
    "prediction, grad = test_prediction(classifiers, grading_classifiers, test_set, 1)\n",
    "\n",
    "print(prediction)\n",
    "print(grad)\n",
    "print(test_labels)"
   ]
  },
  {
   "cell_type": "code",
   "execution_count": 447,
   "id": "02c94253",
   "metadata": {},
   "outputs": [
    {
     "data": {
      "text/plain": [
       "0.8571428571428571"
      ]
     },
     "execution_count": 447,
     "metadata": {},
     "output_type": "execute_result"
    }
   ],
   "source": [
    "accuracy_score(prediction, test_labels)"
   ]
  },
  {
   "cell_type": "code",
   "execution_count": null,
   "id": "10f0be53-3a78-4dce-bf8e-a5436fcd6bd5",
   "metadata": {},
   "outputs": [],
   "source": [
    "for p in range(len(prediction)):\n",
    "    print(str(prediction[p]) + \" & \" + \" "
   ]
  }
 ],
 "metadata": {
  "kernelspec": {
   "display_name": "Python 3 (ipykernel)",
   "language": "python",
   "name": "python3"
  },
  "language_info": {
   "codemirror_mode": {
    "name": "ipython",
    "version": 3
   },
   "file_extension": ".py",
   "mimetype": "text/x-python",
   "name": "python",
   "nbconvert_exporter": "python",
   "pygments_lexer": "ipython3",
   "version": "3.9.10"
  }
 },
 "nbformat": 4,
 "nbformat_minor": 5
}

{
 "cells": [
  {
   "cell_type": "markdown",
   "id": "f44fbe8a-ac39-4c94-95a1-6fb47a998990",
   "metadata": {
    "tags": []
   },
   "source": [
    "# Minimum distance classifier\n",
    "\n",
    "It is a simple classifier that is also used in many other publications to show the big picture of training with machine learning methods. There are a few terms that need to be explained here. We have divided the code into the following sections:\n",
    "\n",
    "- data preparation,\n",
    "- class centers,\n",
    "- discriminant function,\n",
    "- hyperplane,\n",
    "- prediction.\n",
    "\n",
    "Each section describes the next steps to build a minimum distance clasiffier."
   ]
  },
  {
   "cell_type": "markdown",
   "id": "d5a5c79f",
   "metadata": {},
   "source": [
    "## Data preparation\n",
    "\n",
    "We prepared a training data set of 20 feature vectors, ten for each class. It looks like shown in cell below."
   ]
  },
  {
   "cell_type": "code",
   "execution_count": 15,
   "id": "6e88f7fe-49c9-4656-8b8e-278398dd6801",
   "metadata": {},
   "outputs": [],
   "source": [
    "import numpy as np\n",
    "\n",
    "dataset = np.matrix([[-0.95, -0.8], [-0.8, -0.3],[-0.7,0.1],[-0.5,0.2],[0.1,-0.8],[-0.3,-0.3],[-0.25,-0.7],[-0.6,-0.45],[0.25,-0.8],[0.4,-0.7],\n",
    "                    [0.52,0.52],[0.7,0.53],[0.74,0.91],[0.41,0.43],[0.45,0.33],[0.97,0.05],[0.99,0.18],[0.67,0.18],[0.74,0.89],[0.06,0.49]])\n",
    "labels = np.array([-1,-1,-1,-1,-1,-1,-1,-1,-1,-1,1,1,1,1,1,1,1,1,1,1])"
   ]
  },
  {
   "cell_type": "markdown",
   "id": "0bdaba3b",
   "metadata": {},
   "source": [
    "Our feature space looks as shown in Figure below. We don't need to calculate anything to see that it is a linear classification problem. We could easily draw a line between the red and blue points, but how does the classifier do it? Let's figure it out in the next steps."
   ]
  },
  {
   "cell_type": "code",
   "execution_count": 16,
   "id": "44875b64",
   "metadata": {},
   "outputs": [
    {
     "data": {
      "image/png": "[encoded data removed]",
      "text/plain": [
       "<Figure size 432x288 with 1 Axes>"
      ]
     },
     "metadata": {
      "needs_background": "light"
     },
     "output_type": "display_data"
    }
   ],
   "source": [
    "import matplotlib.pyplot as plt\n",
    "\n",
    "x = np.array(dataset[0:10,0]).ravel()\n",
    "y = np.array(dataset[0:10,1]).ravel()\n",
    "plt.scatter(x, y)\n",
    "\n",
    "x = np.array(dataset[10:20,0]).ravel()\n",
    "y = np.array(dataset[10:20,1]).ravel()\n",
    "plt.scatter(x, y)\n",
    "\n",
    "plt.show()"
   ]
  },
  {
   "cell_type": "markdown",
   "id": "66945820-5430-4107-9897-3eb866c36b47",
   "metadata": {},
   "source": [
    "## Class centers\n",
    "\n",
    "We can implement two methods to calculate the centers of two label data sets. In the function `calculate_centers` we calculate the $m_{-1}$ and $m_{1}$ centers. We go through the feature vectors by label and calculate the average values of $x_{i1}$ and $x_{i2}$ of each class."
   ]
  },
  {
   "cell_type": "code",
   "execution_count": 17,
   "id": "71b3a637-91b1-42cc-916d-1aebb6158082",
   "metadata": {},
   "outputs": [],
   "source": [
    "def calculate_centers():\n",
    "    unique_labels = np.unique(labels)\n",
    "    centers = []\n",
    "    for label in unique_labels:\n",
    "           centers.append(dataset[labels==label].mean(axis=0))\n",
    "    return centers"
   ]
  },
  {
   "cell_type": "code",
   "execution_count": 18,
   "id": "cd40e3e5-a014-41b1-af63-fa84fbc6524d",
   "metadata": {},
   "outputs": [],
   "source": [
    "centers = calculate_centers()"
   ]
  },
  {
   "cell_type": "markdown",
   "id": "de69f5d0-55bc-4234-90c3-1051f35b987a",
   "metadata": {},
   "source": [
    "## Discriminant function\n",
    "\n",
    "The next step is to calculate the discriminant functions for both classes. Please, keep in mind that our feature vector $x$ can be written as a matrix of two features $\\begin{bmatrix}x_{1} & x_{2}\\end{bmatrix}$. Discriminant functions for our example are calculated as follows:\n",
    "\n",
    "$g_{k}(x)=2m_{k}^{T}x-m_{k}^{T}m_{k}.$"
   ]
  },
  {
   "cell_type": "code",
   "execution_count": 19,
   "id": "7d5f1172-cb04-4084-a6b1-fa03c471716a",
   "metadata": {},
   "outputs": [],
   "source": [
    "def calculate_discriminant_function():\n",
    "    function_var_values=[]\n",
    "    bias = []\n",
    "    for center in centers:\n",
    "        print(center[0])\n",
    "        function_var_values.append(center[0]*2)\n",
    "        bias.append(np.matmul(center,center.T))\n",
    "    return function_var_values, bias"
   ]
  },
  {
   "cell_type": "markdown",
   "id": "e8831052",
   "metadata": {},
   "source": [
    "For now we have our two discriminant functions and centers calculated. Only the distinguishing function needs to be calculated. Let us put our results into equation:\n",
    "\n",
    "$g(x)=2(m_{i}^{T}-m_{j}^{T})x+m_{j}^{T}m_{j}-m_{i}^{T}m_{i}.$"
   ]
  },
  {
   "cell_type": "code",
   "execution_count": 20,
   "id": "0198ab31-594c-4b98-8b24-d420bdac11b8",
   "metadata": {},
   "outputs": [
    {
     "name": "stdout",
     "output_type": "stream",
     "text": [
      "[[-0.335 -0.455]]\n",
      "[[0.625 0.451]]\n"
     ]
    }
   ],
   "source": [
    "discriminant_variables, bias_variables = calculate_discriminant_function()"
   ]
  },
  {
   "cell_type": "markdown",
   "id": "92968428",
   "metadata": {},
   "source": [
    "## Hyperplane\n",
    "\n",
    "The function $g(x)$ parameters calculation can be implemented as shown in the listing below. We have only one method, called `calculate_hyperplane` in which we take the centers of both labels and calculate the parameters as shown above."
   ]
  },
  {
   "cell_type": "code",
   "execution_count": 23,
   "id": "e1bc1f4b-f29f-4ba9-a169-e160ce43d4b1",
   "metadata": {},
   "outputs": [],
   "source": [
    "def calculate_hyperplane():\n",
    "    hyperplane_variables = centers[0]\n",
    "    for i in range(1,len(centers)):   \n",
    "        hyperplane_variables=np.subtract(hyperplane_variables,centers[i])\n",
    "    hyperplane_bias=np.dot(centers[len(centers)-1],centers[len(centers)-1].T)\n",
    "    for i in reversed(range(0,len(centers)-1)):\n",
    "        hyperplane_bias=np.subtract(hyperplane_bias, np.dot(centers[i], centers[i].T))\n",
    "    return hyperplane_variables*2, hyperplane_bias"
   ]
  },
  {
   "cell_type": "markdown",
   "id": "9b3f2c3a",
   "metadata": {},
   "source": [
    "This method returns two parameters, which in the current example is $[-1.92, -1.812]$ and a bias that is $0.274776$. Later in this book, we explain the hyperplane and decision function in more detail, as both are commonly used as terms that distinguish between classes."
   ]
  },
  {
   "cell_type": "code",
   "execution_count": 24,
   "id": "73b58a53-b7c1-43eb-8f7d-4ff6476f38ee",
   "metadata": {},
   "outputs": [],
   "source": [
    "hyperplane_vars, hyperplane_bias = calculate_hyperplane()"
   ]
  },
  {
   "cell_type": "markdown",
   "id": "f1fb7233",
   "metadata": {},
   "source": [
    "To get the hyperplaines we need to calculate the cut points on both axis."
   ]
  },
  {
   "cell_type": "code",
   "execution_count": 25,
   "id": "9e9d28c9-6fd8-4578-9d25-af8948ff85eb",
   "metadata": {},
   "outputs": [],
   "source": [
    "cut_points_y = [1.0,-1.0]\n",
    "\n",
    "def get_hyperplane():    \n",
    "    denominator = np.array(hyperplane_vars).ravel()[0]\n",
    "    features = np.array(hyperplane_vars).ravel()[1:]\n",
    "    points = []\n",
    "    print(denominator)\n",
    "    for cut_point_id in range(len(cut_points_y)):\n",
    "        numerator = 0\n",
    "        for feature in features:\n",
    "            numerator = numerator + np.dot(feature,cut_points_y[cut_point_id])            \n",
    "        points.append((numerator+hyperplane_bias)/-denominator)\n",
    "    return points"
   ]
  },
  {
   "cell_type": "code",
   "execution_count": 26,
   "id": "f922d735-30b8-4532-be64-b7e4a0c9f93c",
   "metadata": {},
   "outputs": [
    {
     "name": "stdout",
     "output_type": "stream",
     "text": [
      "-1.92\n"
     ]
    }
   ],
   "source": [
    "cut_points_x = get_hyperplane()"
   ]
  },
  {
   "cell_type": "markdown",
   "id": "3c0d4414",
   "metadata": {},
   "source": [
    "Miminum distance example with hiperplane marked with dotted line."
   ]
  },
  {
   "cell_type": "code",
   "execution_count": 29,
   "id": "636f3db7-61d0-4ea6-a74a-8086f29e12b8",
   "metadata": {},
   "outputs": [
    {
     "data": {
      "image/png": "[encoded data removed]",
      "text/plain": [
       "<Figure size 432x288 with 1 Axes>"
      ]
     },
     "metadata": {
      "needs_background": "light"
     },
     "output_type": "display_data"
    }
   ],
   "source": [
    "x = np.array(dataset[0:10,0]).ravel()\n",
    "y = np.array(dataset[0:10,1]).ravel()\n",
    "plt.scatter(x, y)\n",
    "\n",
    "x = np.array(dataset[10:20,0]).ravel()\n",
    "y = np.array(dataset[10:20,1]).ravel()\n",
    "plt.scatter(x, y)\n",
    "\n",
    "plt.plot(cut_points_y, np.array(cut_points_x).ravel(), linestyle = 'dotted', color=\"gray\")\n",
    "\n",
    "plt.show()"
   ]
  },
  {
   "cell_type": "markdown",
   "id": "54f6005e",
   "metadata": {},
   "source": [
    "## Prediction\n",
    "\n",
    "Now let's take two random feature vectors from testing data set: $x_{21}=(0.4,0.1)$ and $x_{22}=(0.1,-0.4)$. To get the prediction, we need to calculate both the discriminant function values. "
   ]
  },
  {
   "cell_type": "code",
   "execution_count": 30,
   "id": "9e457102-c202-48fe-a462-d088a36143c7",
   "metadata": {},
   "outputs": [],
   "source": [
    "test_set = [[0.4, 0.1],[0.1,-0.4]]\n",
    "\n",
    "def predict():\n",
    "    prediction=[]\n",
    "    unique_labels = np.unique(labels)\n",
    "    for test_id in range(len(test_set)):\n",
    "        best = []\n",
    "        for label_id in range(len(unique_labels)):\n",
    "            best.append(np.dot(discriminant_variables[label_id],np.array(test_set[test_id]))-bias_variables[label_id])\n",
    "        prediction.append(unique_labels[np.argmax(best)])\n",
    "    return prediction"
   ]
  },
  {
   "cell_type": "markdown",
   "id": "9d389fbe",
   "metadata": {},
   "source": [
    "For the first vector, we have both discriminant function values as below. For the first vector, we have both discriminant function values as follows:\n",
    "\\begin{equation*}\n",
    "g_{-1}=-0.268-0.091-0.31925=-0.67825,\n",
    "\\end{equation*}\n",
    "\\begin{equation*}\n",
    "g_{1}=0.5+0.0902−0.594026=-0.003826.\n",
    "\\end{equation*}\n",
    "The prediction is the class where the value of the discriminant function is higher. We see that for the vector $x_{21}$ the predicted class is 1. Compare it with our second vector $x_{22}$:\n",
    "\\begin{equation*}\n",
    "g_{-1}=-0.067+0.364-0.31925=-0.02225,\n",
    "\\end{equation*}\n",
    "\\begin{equation*}\n",
    "g_{1}=0.125-0.3608−0.594026=-0.829826.\n",
    "\\end{equation*}\n",
    "In this case, the predicted class is -1."
   ]
  },
  {
   "cell_type": "code",
   "execution_count": 31,
   "id": "39c58686-116a-4903-837d-806246d6f991",
   "metadata": {},
   "outputs": [
    {
     "name": "stdout",
     "output_type": "stream",
     "text": [
      "[1, -1]\n"
     ]
    }
   ],
   "source": [
    "predictions = predict()\n",
    "print(predictions)"
   ]
  },
  {
   "cell_type": "markdown",
   "id": "d27e63d7",
   "metadata": {},
   "source": [
    "We can plot the feature space again, but this time including the testing set points marked with green."
   ]
  },
  {
   "cell_type": "code",
   "execution_count": 34,
   "id": "8a9cefec",
   "metadata": {},
   "outputs": [
    {
     "data": {
      "image/png": "[encoded data removed]",
      "text/plain": [
       "<Figure size 432x288 with 1 Axes>"
      ]
     },
     "metadata": {
      "needs_background": "light"
     },
     "output_type": "display_data"
    }
   ],
   "source": [
    "x = np.array(dataset[0:10,0]).ravel()\n",
    "y = np.array(dataset[0:10,1]).ravel()\n",
    "plt.scatter(x, y)\n",
    "\n",
    "x = np.array(dataset[10:20,0]).ravel()\n",
    "y = np.array(dataset[10:20,1]).ravel()\n",
    "plt.scatter(x, y)\n",
    "\n",
    "plt.plot(cut_points_y, np.array(cut_points_x).ravel(), linestyle = 'dotted')\n",
    "\n",
    "x1 = 0.4\n",
    "y1 = 0.1\n",
    "\n",
    "x2 = 0.1\n",
    "y2 = -0.4\n",
    "\n",
    "plt.scatter(x1, y1, color=\"green\")\n",
    "plt.scatter(x2, y2, color=\"green\")\n",
    "\n",
    "plt.show()"
   ]
  },
  {
   "cell_type": "markdown",
   "id": "cbf2be38-a058-406e-82aa-eef09b2ba279",
   "metadata": {},
   "source": [
    "# Quality metrics\n",
    "\n",
    "There are several metrics to show the quality of our classification model:\n",
    "- ROC which stands for Receiver Operating Characteristic curve,\n",
    "- AUC -- Area Under Curve,\n",
    "- $F_{1}$ score,\n",
    "- Precision,\n",
    "- Recall.\n"
   ]
  },
  {
   "cell_type": "markdown",
   "id": "46614cc6",
   "metadata": {},
   "source": [
    "## Data\n",
    "\n",
    "We use the same data set as in the MDs example from chapter 1."
   ]
  },
  {
   "cell_type": "code",
   "execution_count": 92,
   "id": "e881c41d",
   "metadata": {},
   "outputs": [],
   "source": [
    "doctor_smith = [[1,1],[-1, 1],[1, 1],[-1, -1],[1, 1],[-1, 1],[1, 1],[-1, -1],[1, -1],[-1, -1],[1,1],[-1, 1],\n",
    "                [1,1],[-1, -1],[1, 1],[-1, 1],[1, -1],[-1,-1],[1,1],[-1,1]]\n",
    "doctor_williamson = [[1,1],[1, 1],[1, 1],[-1, -1],[1, 1],[-1, 1],[1,1],[-1, -1],[-1,-1],[-1, -1],[1,1],\n",
    "                     [1, -1],[1,1],[-1, -1],[1,1],[-1,-1],[1, 1],[-1, -1],[-1, -1],[-1, -1]]\n",
    "doctor_simpson = [[1, 1],[1, 1], [1, 1],[1, 1],[1, 1],[1, 1],[1,1],[1, 1],[-1, -1],[-1,-1],[-1,-1],\n",
    "                  [-1, -1],[-1,-1],[-1,-1],[-1, -1],[1, 1],[-1, -1],[-1, -1],[1, 1],[-1,-1]]    \n",
    "\n",
    "import numpy \n",
    "\n",
    "smith_condition = numpy.array(doctor_smith)[:,0]\n",
    "smith_diagnosis = numpy.array(doctor_smith)[:,1]\n",
    "\n",
    "williamson_condition = numpy.array(doctor_williamson)[:,0]\n",
    "williamson_diagnosis = numpy.array(doctor_williamson)[:,1]\n",
    "\n",
    "simpson_condition = numpy.array(doctor_simpson)[:,0]\n",
    "simpson_diagnosis = numpy.array(doctor_simpson)[:,1]"
   ]
  },
  {
   "cell_type": "markdown",
   "id": "8d6ca05a",
   "metadata": {},
   "source": [
    "## Calculate the basic metrics\n",
    "\n",
    "To calculate the metrics we should calculate the basic numbers like true positive, true negative, false positive, and false negative. After we have these, we can calculate the meaningful metrics."
   ]
  },
  {
   "cell_type": "code",
   "execution_count": 94,
   "id": "17a198df",
   "metadata": {},
   "outputs": [],
   "source": [
    "def calculate_quality_metrics(condition, diagnosis):\n",
    "    conditions_count = condition.size\n",
    "    \n",
    "    tp = numpy.sum(diagnosis[numpy.where(diagnosis == 1)] \n",
    "                              == condition[numpy.where(diagnosis == 1)])\n",
    "    tn = numpy.sum(diagnosis[numpy.where(diagnosis == -1)] \n",
    "                              == condition[numpy.where(diagnosis == -1)])\n",
    "    fp = numpy.sum(diagnosis[numpy.where(diagnosis == -1)] \n",
    "                               != condition[numpy.where(diagnosis == -1)])\n",
    "    fn = numpy.sum(diagnosis[numpy.where(diagnosis == 1)] \n",
    "                               != condition[numpy.where(diagnosis == 1)])\n",
    "    \n",
    "    accuracy = (tp+tn)/conditions_count\n",
    "    tpr = tp/(tp+fn)\n",
    "    tnr = tn/(tn+fp)\n",
    "    ppv = tp/(tp+fp)\n",
    "    npv = tn/(tn+fn)\n",
    "    fpr = 1 - tnr\n",
    "    fnr = 1 - tpr\n",
    "    f1_score = 2*((ppv*tpr)/(tpr+ppv))\n",
    "    mcc = (tp*tn-fp*fn)/(numpy.sqrt((tp+fp)*(tp+tn)*(tn+fp)*(tn+fn)))\n",
    "    \n",
    "    return tp, tn, fp, fn, accuracy, tpr, tnr, ppv, npv, fpr, fnr, f1_score, mcc"
   ]
  },
  {
   "cell_type": "markdown",
   "id": "b4d811d1",
   "metadata": {},
   "source": [
    "Below the quality differences between the MDs are shown."
   ]
  },
  {
   "cell_type": "code",
   "execution_count": 95,
   "id": "49189a40",
   "metadata": {},
   "outputs": [
    {
     "name": "stdout",
     "output_type": "stream",
     "text": [
      "Doctor Smith: (8, 5, 2, 5, 0.65, 0.6153846153846154, 0.7142857142857143, 0.8, 0.5, 0.2857142857142857, 0.3846153846153846, 0.6956521739130435, 0.3144854510165755)\n",
      "Doctor Williamson: (9, 9, 1, 1, 0.9, 0.9, 0.9, 0.9, 0.9, 0.09999999999999998, 0.09999999999999998, 0.9, 0.5962847939999439)\n",
      "Doctor Simpson: (10, 10, 0, 0, 1.0, 1.0, 1.0, 1.0, 1.0, 0.0, 0.0, 1.0, 0.7071067811865475)\n"
     ]
    }
   ],
   "source": [
    "print(\"Doctor Smith: \" + str(calculate_quality_metrics(smith_condition,smith_diagnosis)))\n",
    "print(\"Doctor Williamson: \" + str(calculate_quality_metrics(williamson_condition,williamson_diagnosis)))\n",
    "print(\"Doctor Simpson: \" + str(calculate_quality_metrics(simpson_condition,simpson_diagnosis)))"
   ]
  },
  {
   "cell_type": "markdown",
   "id": "f177eac4",
   "metadata": {},
   "source": [
    "## ROC and AUC\n",
    "\n",
    "The ROC and AUC metrics are very popular charts that show the quality of the model. To plot it, we need to calculate the TPR and FPR values for different cut points."
   ]
  },
  {
   "cell_type": "code",
   "execution_count": 118,
   "id": "3ddf2534",
   "metadata": {},
   "outputs": [],
   "source": [
    "def calculate_auc(condition, diagnosis):\n",
    "    \n",
    "    thresholds = [0.1,0.4,0.5,0.6,0.8,1.0]\n",
    "    conditions_count = condition.size \n",
    "    \n",
    "    tprs = [0.0]\n",
    "    fprs = [0.0]\n",
    "    \n",
    "    for threshold in thresholds:\n",
    "        thresh_cond = condition[0:int(conditions_count*threshold)]\n",
    "        thresh_diag = diagnosis[0:int(conditions_count*threshold)] \n",
    "    \n",
    "        tp = numpy.sum(diagnosis[numpy.where(diagnosis == 1)] \n",
    "                              == condition[numpy.where(diagnosis == 1)])\n",
    "        tn = numpy.sum(diagnosis[numpy.where(diagnosis == -1)] \n",
    "                              == condition[numpy.where(diagnosis == -1)])\n",
    "        fp = numpy.sum(diagnosis[numpy.where(diagnosis == -1)] \n",
    "                               != condition[numpy.where(diagnosis == -1)])\n",
    "        fn = numpy.sum(diagnosis[numpy.where(diagnosis == 1)] \n",
    "                               != condition[numpy.where(diagnosis == 1)])\n",
    "    \n",
    "        tpr = tp/(tp+fn)  \n",
    "        tnr = tn/(tn+fp)\n",
    "        fpr = 1 - tnr\n",
    "        tprs.append(tpr)\n",
    "        fprs.append(fpr)\n",
    "    tprs.append(1.0)\n",
    "    fprs.append(1.0)\n",
    "    auc = trapz(tprs, fprs)\n",
    "    return tprs, fprs, auc"
   ]
  },
  {
   "cell_type": "markdown",
   "id": "aaa978b4",
   "metadata": {},
   "source": [
    "The values for Dr. Simpson looks as follows:"
   ]
  },
  {
   "cell_type": "code",
   "execution_count": 119,
   "id": "0a60448a",
   "metadata": {},
   "outputs": [],
   "source": [
    "tprs, fprs, auc = calculate_auc(simpson_condition,simpson_diagnosis)"
   ]
  },
  {
   "cell_type": "markdown",
   "id": "5b30af33",
   "metadata": {},
   "source": [
    "The ROC can be plot as below."
   ]
  },
  {
   "cell_type": "code",
   "execution_count": 124,
   "id": "238a10fe",
   "metadata": {},
   "outputs": [
    {
     "data": {
      "image/png": "[encoded data removed]",
      "text/plain": [
       "<Figure size 432x288 with 1 Axes>"
      ]
     },
     "metadata": {
      "needs_background": "light"
     },
     "output_type": "display_data"
    }
   ],
   "source": [
    "import matplotlib.pyplot as plt\n",
    "\n",
    "x_axis = fprs\n",
    "y_axis = tprs\n",
    "\n",
    "plt.plot(x_axis, y_axis)\n",
    "plt.title('title name')\n",
    "plt.xlabel('x_axis name')\n",
    "plt.ylabel('y_axis name')\n",
    "plt.show()"
   ]
  },
  {
   "cell_type": "markdown",
   "id": "54466e34",
   "metadata": {},
   "source": [
    "The AUC value for Dr. Simpson is:"
   ]
  },
  {
   "cell_type": "code",
   "execution_count": 123,
   "id": "c55f2ca0",
   "metadata": {},
   "outputs": [
    {
     "data": {
      "text/plain": [
       "0.6648351648351649"
      ]
     },
     "execution_count": 123,
     "metadata": {},
     "output_type": "execute_result"
    }
   ],
   "source": [
    "auc"
   ]
  }
 ],
 "metadata": {
  "kernelspec": {
   "display_name": "Python 3 (ipykernel)",
   "language": "python",
   "name": "python3"
  },
  "language_info": {
   "codemirror_mode": {
    "name": "ipython",
    "version": 3
   },
   "file_extension": ".py",
   "mimetype": "text/x-python",
   "name": "python",
   "nbconvert_exporter": "python",
   "pygments_lexer": "ipython3",
   "version": "3.9.10"
  }
 },
 "nbformat": 4,
 "nbformat_minor": 5
}

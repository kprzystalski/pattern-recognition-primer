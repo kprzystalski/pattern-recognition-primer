{
 "cells": [
  {
   "cell_type": "markdown",
   "metadata": {},
   "source": [
    "# Introduction to shallow supervised methods\n",
    "\n",
    "In this section, we explain a few basic methods. Explaining the simple machine learning methods done in the first place makes it easier to understand the more complex ones. All the methods presented in this notebook are supervised methods. We start with linear classifiers, such as the Fisher classifier. To understand the linearity of the classifiers, we discuss the k nearest neighborhood method that is not linear by design and compare it to the Fisher's Linear Discriminant method. The last part of the linear section is dedicated to two regression methods: linear and logistic regression."
   ]
  },
  {
   "cell_type": "markdown",
   "metadata": {},
   "source": [
    "## Fisher classifier\n",
    "\n",
    "The Fisher classifier use the linear discriminant analysis to classify the object into a class. The main idea of this classifier is to use the LDA to reduce the dimensionality and classify on the reduced feature space. In this notebook we use the Iris dataset to show how it works."
   ]
  },
  {
   "cell_type": "code",
   "execution_count": 1,
   "metadata": {},
   "outputs": [
    {
     "data": {
      "text/html": [
       "<div>\n",
       "<style scoped>\n",
       "    .dataframe tbody tr th:only-of-type {\n",
       "        vertical-align: middle;\n",
       "    }\n",
       "\n",
       "    .dataframe tbody tr th {\n",
       "        vertical-align: top;\n",
       "    }\n",
       "\n",
       "    .dataframe thead th {\n",
       "        text-align: right;\n",
       "    }\n",
       "</style>\n",
       "<table border=\"1\" class=\"dataframe\">\n",
       "  <thead>\n",
       "    <tr style=\"text-align: right;\">\n",
       "      <th></th>\n",
       "      <th>sepal length (cm)</th>\n",
       "      <th>sepal width (cm)</th>\n",
       "      <th>petal length (cm)</th>\n",
       "      <th>petal width (cm)</th>\n",
       "    </tr>\n",
       "  </thead>\n",
       "  <tbody>\n",
       "    <tr>\n",
       "      <th>0</th>\n",
       "      <td>5.1</td>\n",
       "      <td>3.5</td>\n",
       "      <td>1.4</td>\n",
       "      <td>0.2</td>\n",
       "    </tr>\n",
       "    <tr>\n",
       "      <th>1</th>\n",
       "      <td>4.9</td>\n",
       "      <td>3.0</td>\n",
       "      <td>1.4</td>\n",
       "      <td>0.2</td>\n",
       "    </tr>\n",
       "    <tr>\n",
       "      <th>2</th>\n",
       "      <td>4.7</td>\n",
       "      <td>3.2</td>\n",
       "      <td>1.3</td>\n",
       "      <td>0.2</td>\n",
       "    </tr>\n",
       "    <tr>\n",
       "      <th>3</th>\n",
       "      <td>4.6</td>\n",
       "      <td>3.1</td>\n",
       "      <td>1.5</td>\n",
       "      <td>0.2</td>\n",
       "    </tr>\n",
       "    <tr>\n",
       "      <th>4</th>\n",
       "      <td>5.0</td>\n",
       "      <td>3.6</td>\n",
       "      <td>1.4</td>\n",
       "      <td>0.2</td>\n",
       "    </tr>\n",
       "  </tbody>\n",
       "</table>\n",
       "</div>"
      ],
      "text/plain": [
       "   sepal length (cm)  sepal width (cm)  petal length (cm)  petal width (cm)\n",
       "0                5.1               3.5                1.4               0.2\n",
       "1                4.9               3.0                1.4               0.2\n",
       "2                4.7               3.2                1.3               0.2\n",
       "3                4.6               3.1                1.5               0.2\n",
       "4                5.0               3.6                1.4               0.2"
      ]
     },
     "execution_count": 1,
     "metadata": {},
     "output_type": "execute_result"
    }
   ],
   "source": [
    "import pandas as pd\n",
    "import numpy as np\n",
    "import matplotlib.pyplot as plt\n",
    "from sklearn.datasets import load_iris\n",
    "\n",
    "# Loading the dataset with pandas\n",
    "iris_data = load_iris()\n",
    "iris_df = pd.DataFrame(iris_data.data,columns=iris_data.feature_names)\n",
    "iris_df.head()"
   ]
  },
  {
   "cell_type": "markdown",
   "metadata": {},
   "source": [
    "The LDA is implemented in scikit-learn and can be used for comparison as shown below."
   ]
  },
  {
   "cell_type": "code",
   "execution_count": 2,
   "metadata": {},
   "outputs": [
    {
     "name": "stdout",
     "output_type": "stream",
     "text": [
      "[0]\n"
     ]
    }
   ],
   "source": [
    "from sklearn.discriminant_analysis import LinearDiscriminantAnalysis\n",
    "\n",
    "x = iris_df[['sepal width (cm)','sepal length (cm)']].values.reshape(-1, 2)\n",
    "\n",
    "clf = LinearDiscriminantAnalysis()\n",
    "clf.fit(x,iris_data.target)\n",
    "LinearDiscriminantAnalysis()\n",
    "\n",
    "print(clf.predict([[5.0, 3.5]]))"
   ]
  },
  {
   "cell_type": "markdown",
   "metadata": {},
   "source": [
    "## Fisher's classifier from scratch\n",
    "\n",
    "We can implement the Fisher's classifier calculating the mean values."
   ]
  },
  {
   "cell_type": "code",
   "execution_count": 3,
   "metadata": {},
   "outputs": [],
   "source": [
    "x = iris_df['sepal width (cm)'].values\n",
    "y = iris_df['sepal length (cm)'].values\n",
    "\n",
    "dataset_size = np.size(x)\n",
    "\n",
    "mean_x, mean_y = np.mean(x), np.mean(y)\n",
    "\n",
    "SS_xy = np.sum(y * x) - dataset_size * mean_y * mean_x\n",
    "SS_xx = np.sum(x * x) - dataset_size * mean_x * mean_x\n",
    "\n",
    "a = SS_xy / SS_xx\n",
    "b = mean_y - a * mean_x\n",
    "\n",
    "\n",
    "y_pred = a * x + b"
   ]
  },
  {
   "cell_type": "markdown",
   "metadata": {},
   "source": [
    "The data for the method developed from scratch needs to be normalized to eliminate scale factors."
   ]
  },
  {
   "cell_type": "code",
   "execution_count": 7,
   "metadata": {},
   "outputs": [],
   "source": [
    "from sklearn import preprocessing\n",
    "\n",
    "iris_data, iris_labels = load_iris(return_X_y=True)\n",
    "iris_data = np.array(preprocessing.normalize(iris_data))"
   ]
  },
  {
   "cell_type": "markdown",
   "metadata": {},
   "source": [
    "The goal of the Fisher's classifier is to calculate the between-class variance with the class means ($m_{1}, m_{2}$), and the within-class variance ($S_{w}, S_{i}$). The means can be calculated as follows:\n",
    "\\begin{equation}\n",
    "m_{i}=\\frac{1}{n_{i}}\\sum_{x\\in i}x.\n",
    "\\end{equation}\n",
    "The within-class variance can be calculated as follows:\n",
    "\\begin{equation}\n",
    "S_w = \\sum_{k=1}^{K}\\sum_{n=1}^{C_k}N_k(x_n-m_k)(x_{n}-m_k)^{T}\n",
    "\\end{equation}\n",
    "and\n",
    "\\begin{equation}\n",
    "S_b = \\sum_{k=1}^{K}(m_k - m)(m_k-m)^{T}.\n",
    "\\end{equation}\n",
    "Finally, the weights can be calculated as follows:\n",
    "\\begin{equation}\n",
    "w=S_{1}^{-1}(m_{+1}-m_{-1}).\n",
    "\\end{equation}\n",
    "The discriminant function can be written as\n",
    "\\begin{equation}\n",
    "\\hat{g}(x)=w^{T}_{F}x=(m_{+1}-m_{-1})^{T}S_{W}^{-1}x,\n",
    "\\end{equation}\n",
    "where:\n",
    "\\begin{equation}\n",
    "w_{0}=\\frac{1}{2}(w^{T}m_{+1}+w^{T}m_{-1}).\n",
    "\\end{equation}"
   ]
  },
  {
   "cell_type": "code",
   "execution_count": 8,
   "metadata": {},
   "outputs": [],
   "source": [
    "x1 = iris_data[np.where(iris_labels == 1)][:,[0,1]]\n",
    "x2 = iris_data[np.where(iris_labels == 2)][:,[0,1]]\n",
    "y = iris_labels\n",
    "\n",
    "mean_x1, mean_x2 = np.mean(x1,axis=0), np.mean(x2,axis=0)\n",
    "mean = np.mean(np.append(x1,x2))\n",
    "\n",
    "dataset_size = np.size(y)\n",
    "\n",
    "Sb = np.sum((mean_x1-mean)*(mean_x2-mean))\n",
    "\n",
    "Sw=np.dot((x1-mean_x1).T, (x1-mean_x1))+np.dot((x2-mean_x2).T, (x2-mean_x2))\n",
    "w=np.dot(np.linalg.inv(Sw), (mean_x2-mean_x1))\n",
    "\n",
    "cov = np.cov(np.concatenate((x1.T,x2.T)),ddof=0)\n",
    "cov_inv = np.linalg.inv(cov)"
   ]
  },
  {
   "cell_type": "markdown",
   "metadata": {},
   "source": [
    "We can now plot the same set, but with one dimension less."
   ]
  },
  {
   "cell_type": "code",
   "execution_count": 12,
   "metadata": {},
   "outputs": [
    {
     "data": {
      "image/png": "[encoded data removed]",
      "text/plain": [
       "<Figure size 432x288 with 1 Axes>"
      ]
     },
     "metadata": {
      "needs_background": "light"
     },
     "output_type": "display_data"
    }
   ],
   "source": [
    "plt.plot(np.dot(x1, w), [0]*x1.shape[0], \"bo\", label=\"Iris-setosa\")\n",
    "plt.plot(np.dot(x2, w), [0]*x2.shape[0], \"go\", label=\"Iris-virginica\")\n",
    "plt.legend()\n",
    "plt.show()"
   ]
  },
  {
   "cell_type": "markdown",
   "metadata": {},
   "source": [
    "## Nearest neighbourhood classifier\n",
    "\n",
    "In one sentence, kNN looks for other objects in the neighborhood and assigns the most popular label to new objects. The $k$ in the name is the number of objects that we look for labels in the neighborhood."
   ]
  },
  {
   "cell_type": "code",
   "execution_count": 5,
   "metadata": {},
   "outputs": [
    {
     "name": "stdout",
     "output_type": "stream",
     "text": [
      "0.6\n"
     ]
    }
   ],
   "source": [
    "import numpy as np\n",
    "import tensorflow_datasets as tfds\n",
    "import pandas as pd\n",
    "from math import sqrt\n",
    "from sklearn.metrics import accuracy_score\n",
    "\n",
    "# Construct a tf.data.Dataset\n",
    "ds = tfds.load('titanic', split='train', shuffle_files=True)\n",
    "titanic_df = tfds.as_dataframe(ds)\n",
    "\n",
    "#titanic_df = pd.read_csv(\"titanic-train.csv\")\n",
    "titanic_df.drop(\"name\", axis=1, inplace=True)\n",
    "titanic_df.head()\n",
    "\n",
    "columns = ['survived','age','fare']\n",
    "features = columns[1:]\n",
    "titanic_df = titanic_df[columns].replace([np.inf, -np.inf], np.nan).dropna()\n",
    "\n",
    "titanic_df = titanic_df[titanic_df['fare'] > 30]\n",
    "\n",
    "survivded_df = titanic_df[titanic_df['survived']==1].sample(50, random_state=12345)\n",
    "not_survivded_df = titanic_df[titanic_df['survived']==0].sample(50, random_state=12345)\n",
    "\n",
    "train_set = survivded_df.sample(40, random_state=12345)\n",
    "train_set = pd.concat([train_set, not_survivded_df.sample(40, random_state=12345)])\n",
    "plot_train_set = train_set\n",
    "train_set_labels = train_set['survived']\n",
    "train_set = train_set[features]\n",
    "\n",
    "\n",
    "test_set = survivded_df.sample(10, random_state=12345)\n",
    "test_set = pd.concat([test_set, not_survivded_df.sample(10, random_state=12345)])\n",
    "plot_test_set = test_set\n",
    "test_set_labels = test_set['survived']\n",
    "test_set = test_set[features]\n",
    "\n",
    "k = 5\n",
    "\n",
    "def calculate_distance(x, v):\n",
    "    \"\"\"\n",
    "    This method calculates the Euclidean distance between object x and v.\n",
    "\n",
    "    :param x: first object\n",
    "    :param v: second object\n",
    "    :return: Euclidean distance\n",
    "    \"\"\"\n",
    "    return sqrt((x[0] - v[0]) ** 2 + (x[1] - v[1]) ** 2)\n",
    "\n",
    "def calculate_distance_matrix():\n",
    "    \"\"\"\n",
    "    This method calculates the distance matrix between all objects.\n",
    "\n",
    "    :return: A matrix of distances\n",
    "    \"\"\"    \n",
    "    distance_matrix = np.zeros((len(data_set),len(data_set)))\n",
    "    for i in range(len(data_set)):\n",
    "        for j in range(len(data_set)):\n",
    "            distance_matrix[i, j] = calculate_distance(data_set[i], data_set[j])\n",
    "    return distance_matrix\n",
    "\n",
    "def find_closest_objects(x, k):\n",
    "    \"\"\"\n",
    "    Finds k closts objects to x.\n",
    "\n",
    "    :return: A list of objects' ids.\n",
    "    \"\"\"        \n",
    "    distances = []\n",
    "    i = 0\n",
    "    for item in train_set.values:\n",
    "        distances.append([i, calculate_distance(x, item)])\n",
    "        i = i + 1\n",
    "    distances=np.array(distances)\n",
    "    label_ids = distances[distances[:, 1].argsort()][:k,0]\n",
    "    return [int(item) for item in label_ids]\n",
    "\n",
    "\n",
    "def predict():\n",
    "    \"\"\"\n",
    "    Assign a label of the most common label in the list of closest objects.\n",
    "\n",
    "    :return: A list of predictions.\n",
    "    \"\"\"        \n",
    "    predictions = []\n",
    "    for item in test_set.values:\n",
    "        label_ids = find_closest_objects(item, k)\n",
    "        counts = np.bincount(train_set_labels.values[label_ids])\n",
    "        label = np.argmax(counts)\n",
    "        predictions.append(label)\n",
    "    return predictions\n",
    "\n",
    "\n",
    "\n",
    "predictions = predict()\n",
    "acc = accuracy_score(predictions, test_set_labels)\n",
    "print(acc)"
   ]
  },
  {
   "cell_type": "code",
   "execution_count": 6,
   "metadata": {},
   "outputs": [],
   "source": [
    "plot_train_set.loc[plot_train_set[\"survived\"] == 1, \"survived\"] = \"green\"\n",
    "plot_train_set.loc[plot_train_set[\"survived\"] == 0, \"survived\"] = \"red\""
   ]
  },
  {
   "cell_type": "code",
   "execution_count": 7,
   "metadata": {},
   "outputs": [],
   "source": [
    "plot_test_set['predicted'] = predictions"
   ]
  },
  {
   "cell_type": "code",
   "execution_count": 8,
   "metadata": {},
   "outputs": [
    {
     "data": {
      "text/html": [
       "<div>\n",
       "<style scoped>\n",
       "    .dataframe tbody tr th:only-of-type {\n",
       "        vertical-align: middle;\n",
       "    }\n",
       "\n",
       "    .dataframe tbody tr th {\n",
       "        vertical-align: top;\n",
       "    }\n",
       "\n",
       "    .dataframe thead th {\n",
       "        text-align: right;\n",
       "    }\n",
       "</style>\n",
       "<table border=\"1\" class=\"dataframe\">\n",
       "  <thead>\n",
       "    <tr style=\"text-align: right;\">\n",
       "      <th></th>\n",
       "      <th>survived</th>\n",
       "      <th>age</th>\n",
       "      <th>fare</th>\n",
       "    </tr>\n",
       "  </thead>\n",
       "  <tbody>\n",
       "    <tr>\n",
       "      <th>152</th>\n",
       "      <td>blue</td>\n",
       "      <td>24.0</td>\n",
       "      <td>69.300003</td>\n",
       "    </tr>\n",
       "    <tr>\n",
       "      <th>872</th>\n",
       "      <td>blue</td>\n",
       "      <td>23.0</td>\n",
       "      <td>82.266701</td>\n",
       "    </tr>\n",
       "    <tr>\n",
       "      <th>479</th>\n",
       "      <td>blue</td>\n",
       "      <td>44.0</td>\n",
       "      <td>57.979198</td>\n",
       "    </tr>\n",
       "    <tr>\n",
       "      <th>1102</th>\n",
       "      <td>black</td>\n",
       "      <td>34.0</td>\n",
       "      <td>32.500000</td>\n",
       "    </tr>\n",
       "    <tr>\n",
       "      <th>227</th>\n",
       "      <td>blue</td>\n",
       "      <td>48.0</td>\n",
       "      <td>76.729202</td>\n",
       "    </tr>\n",
       "    <tr>\n",
       "      <th>478</th>\n",
       "      <td>black</td>\n",
       "      <td>52.0</td>\n",
       "      <td>30.500000</td>\n",
       "    </tr>\n",
       "    <tr>\n",
       "      <th>1031</th>\n",
       "      <td>black</td>\n",
       "      <td>4.0</td>\n",
       "      <td>39.000000</td>\n",
       "    </tr>\n",
       "    <tr>\n",
       "      <th>1149</th>\n",
       "      <td>black</td>\n",
       "      <td>48.0</td>\n",
       "      <td>65.000000</td>\n",
       "    </tr>\n",
       "    <tr>\n",
       "      <th>881</th>\n",
       "      <td>black</td>\n",
       "      <td>27.0</td>\n",
       "      <td>76.729202</td>\n",
       "    </tr>\n",
       "    <tr>\n",
       "      <th>821</th>\n",
       "      <td>black</td>\n",
       "      <td>53.0</td>\n",
       "      <td>51.479198</td>\n",
       "    </tr>\n",
       "    <tr>\n",
       "      <th>1023</th>\n",
       "      <td>purple</td>\n",
       "      <td>50.0</td>\n",
       "      <td>106.425003</td>\n",
       "    </tr>\n",
       "    <tr>\n",
       "      <th>1024</th>\n",
       "      <td>orange</td>\n",
       "      <td>28.0</td>\n",
       "      <td>33.000000</td>\n",
       "    </tr>\n",
       "    <tr>\n",
       "      <th>1045</th>\n",
       "      <td>orange</td>\n",
       "      <td>4.0</td>\n",
       "      <td>31.275000</td>\n",
       "    </tr>\n",
       "    <tr>\n",
       "      <th>416</th>\n",
       "      <td>orange</td>\n",
       "      <td>49.0</td>\n",
       "      <td>65.000000</td>\n",
       "    </tr>\n",
       "    <tr>\n",
       "      <th>118</th>\n",
       "      <td>orange</td>\n",
       "      <td>-1.0</td>\n",
       "      <td>39.599998</td>\n",
       "    </tr>\n",
       "    <tr>\n",
       "      <th>904</th>\n",
       "      <td>orange</td>\n",
       "      <td>18.0</td>\n",
       "      <td>73.500000</td>\n",
       "    </tr>\n",
       "    <tr>\n",
       "      <th>776</th>\n",
       "      <td>orange</td>\n",
       "      <td>-1.0</td>\n",
       "      <td>221.779205</td>\n",
       "    </tr>\n",
       "    <tr>\n",
       "      <th>580</th>\n",
       "      <td>purple</td>\n",
       "      <td>39.0</td>\n",
       "      <td>71.283302</td>\n",
       "    </tr>\n",
       "    <tr>\n",
       "      <th>814</th>\n",
       "      <td>orange</td>\n",
       "      <td>61.0</td>\n",
       "      <td>262.375000</td>\n",
       "    </tr>\n",
       "    <tr>\n",
       "      <th>1072</th>\n",
       "      <td>orange</td>\n",
       "      <td>71.0</td>\n",
       "      <td>49.504200</td>\n",
       "    </tr>\n",
       "  </tbody>\n",
       "</table>\n",
       "</div>"
      ],
      "text/plain": [
       "     survived   age        fare\n",
       "152      blue  24.0   69.300003\n",
       "872      blue  23.0   82.266701\n",
       "479      blue  44.0   57.979198\n",
       "1102    black  34.0   32.500000\n",
       "227      blue  48.0   76.729202\n",
       "478     black  52.0   30.500000\n",
       "1031    black   4.0   39.000000\n",
       "1149    black  48.0   65.000000\n",
       "881     black  27.0   76.729202\n",
       "821     black  53.0   51.479198\n",
       "1023   purple  50.0  106.425003\n",
       "1024   orange  28.0   33.000000\n",
       "1045   orange   4.0   31.275000\n",
       "416    orange  49.0   65.000000\n",
       "118    orange  -1.0   39.599998\n",
       "904    orange  18.0   73.500000\n",
       "776    orange  -1.0  221.779205\n",
       "580    purple  39.0   71.283302\n",
       "814    orange  61.0  262.375000\n",
       "1072   orange  71.0   49.504200"
      ]
     },
     "execution_count": 8,
     "metadata": {},
     "output_type": "execute_result"
    }
   ],
   "source": [
    "plot_test_set.loc[(plot_test_set[\"survived\"] == 1) & (plot_test_set[\"predicted\"] == 0), \"survived\"] = \"black\"\n",
    "plot_test_set.loc[(plot_test_set[\"survived\"] == 1) & (plot_test_set[\"predicted\"] == 1), \"survived\"] = \"blue\"\n",
    "plot_test_set.loc[(plot_test_set[\"survived\"] == 0) & (plot_test_set[\"predicted\"] == 0), \"survived\"] = \"orange\"\n",
    "plot_test_set.loc[(plot_test_set[\"survived\"] == 0) & (plot_test_set[\"predicted\"] == 1), \"survived\"] = \"purple\"\n",
    "plot_test_set.drop(['predicted'],axis=1)"
   ]
  },
  {
   "cell_type": "code",
   "execution_count": 10,
   "metadata": {},
   "outputs": [],
   "source": [
    "plot_set = pd.concat([plot_test_set, plot_train_set])"
   ]
  },
  {
   "cell_type": "code",
   "execution_count": 11,
   "metadata": {},
   "outputs": [
    {
     "data": {
      "image/png": "[encoded data removed]",
      "text/plain": [
       "<Figure size 432x288 with 1 Axes>"
      ]
     },
     "metadata": {
      "needs_background": "light"
     },
     "output_type": "display_data"
    }
   ],
   "source": [
    "res = plot_set.plot.scatter(x='age',y='fare',c='survived').get_figure()"
   ]
  },
  {
   "cell_type": "code",
   "execution_count": 13,
   "metadata": {},
   "outputs": [
    {
     "data": {
      "image/png": "[encoded data removed]",
      "text/plain": [
       "<Figure size 432x288 with 1 Axes>"
      ]
     },
     "metadata": {
      "needs_background": "light"
     },
     "output_type": "display_data"
    }
   ],
   "source": [
    "res = plot_test_set.plot.scatter(x='age',y='fare',c='survived').get_figure()"
   ]
  },
  {
   "cell_type": "markdown",
   "metadata": {
    "tags": []
   },
   "source": [
    "# Linear regression\n",
    "\n",
    "Linear regression is the simplest linear method used for modelling the relationship between the independent variables and the dependent ones. It tries to estimate it by finding a line which is as close as possible to all the data points. \n",
    "\n",
    "\\begin{equation}\n",
    "y=ax+b\n",
    "\\end{equation}"
   ]
  },
  {
   "cell_type": "code",
   "execution_count": null,
   "metadata": {},
   "outputs": [],
   "source": [
    "boston_housing_df.plot(x=\"CRIM\", y=\"MEDV\", kind=\"scatter\")\n",
    "\n",
    "from sklearn.linear_model import LinearRegression\n",
    "\n",
    "# Create an instance of LinearRegression and find the coeffs\n",
    "linear_regression = LinearRegression()\n",
    "linear_regression.fit(X=boston_housing_df[[\"CRIM\"]], \n",
    "                      y=boston_housing_df[\"MEDV\"])\n",
    "linear_regression.coef_, linear_regression.intercept_ "
   ]
  },
  {
   "cell_type": "markdown",
   "metadata": {},
   "source": [
    "We can try to draw the linear regression $y$ using matplotlib. In the code below we take the MEDV features as $y$ and CRIM as $x$."
   ]
  },
  {
   "cell_type": "code",
   "execution_count": null,
   "metadata": {},
   "outputs": [],
   "source": [
    "# Create a polynomial to be drawn on the plot\n",
    "coefficients = np.append(linear_regression.coef_, \n",
    "                         linear_regression.intercept_)\n",
    "polynomial = np.poly1d(coefficients)\n",
    "\n",
    "# Calculate the values for a selected range\n",
    "x_values = np.linspace(0, boston_housing_df[\"CRIM\"].max())\n",
    "y_values = polynomial(x_values)\n",
    "\n",
    "# Display a scatter plot: crim vs medv and regressed line\n",
    "boston_housing_df.plot(x=\"CRIM\", y=\"MEDV\", kind=\"scatter\")\n",
    "plt.plot(x_values, y_values, color=\"red\", linestyle=\"dashed\")\n",
    "\n",
    "from sklearn.metrics import mean_squared_error\n",
    "\n",
    "y_pred = linear_regression.predict(boston_housing_df[[\"CRIM\"]]) \n",
    "y_true = boston_housing_df[\"MEDV\"]\n",
    "mean_squared_error(y_true, y_pred)"
   ]
  },
  {
   "cell_type": "code",
   "execution_count": null,
   "metadata": {},
   "outputs": [],
   "source": [
    "# Calculate the Pearson correlation coefficients\n",
    "boston_housing_df.corr()[\"MEDV\"]"
   ]
  },
  {
   "cell_type": "markdown",
   "metadata": {},
   "source": [
    "The absolute value of correlation coefficients is highest for *rm* (0.689598) and *lstat* (-0.738600). That means, these values are possibly the best predictors for the target variable and we can consider them in a 3D regression."
   ]
  },
  {
   "cell_type": "code",
   "execution_count": null,
   "metadata": {},
   "outputs": [],
   "source": [
    "from mpl_toolkits.mplot3d import Axes3D\n",
    "\n",
    "# Display 3D scatter: rm, lstat vs medv\n",
    "fig = plt.figure()\n",
    "ax = fig.add_subplot(111, projection=\"3d\")\n",
    "ax.scatter(boston_housing_df[\"RM\"], boston_housing_df[\"LSTAT\"], \n",
    "           boston_housing_df[\"MEDV\"], c=\"blue\")\n",
    "plt.show()"
   ]
  },
  {
   "cell_type": "markdown",
   "metadata": {},
   "source": [
    "Let's find the coefficiencies and build a linear regression instance."
   ]
  },
  {
   "cell_type": "code",
   "execution_count": null,
   "metadata": {},
   "outputs": [],
   "source": [
    "linear_regression = LinearRegression()\n",
    "linear_regression.fit(X=boston_housing_df[[\"RM\", \"LSTAT\"]], \n",
    "                      y=boston_housing_df[\"MEDV\"])\n",
    "linear_regression.coef_, linear_regression.intercept_ "
   ]
  },
  {
   "cell_type": "markdown",
   "metadata": {},
   "source": [
    "For a three-dimensional case we need to calculate three values. We get three coeffiencies that are used to get the $z$ values."
   ]
  },
  {
   "cell_type": "code",
   "execution_count": null,
   "metadata": {},
   "outputs": [],
   "source": [
    "# Calculate coefficients of 2d polynomial\n",
    "coefficients = np.append(linear_regression.coef_, \n",
    "                         linear_regression.intercept_)\n",
    "\n",
    "# Calculate the values for a selected range\n",
    "x = np.linspace(0, boston_housing_df[\"RM\"].max())\n",
    "y = np.linspace(0, boston_housing_df[\"LSTAT\"].max())\n",
    "x_values, y_values = np.meshgrid(x, y)\n",
    "z_values = coefficients[0] * x_values + coefficients[1] * y_values + coefficients[2]\n",
    "\n",
    "# Display 3D scatter: rm, lstat vs medv and regressed line\n",
    "fig = plt.figure()\n",
    "ax = fig.add_subplot(111, projection=\"3d\")\n",
    "ax.scatter(boston_housing_df[\"RM\"], boston_housing_df[\"LSTAT\"], \n",
    "           boston_housing_df[\"MEDV\"], c=\"blue\")\n",
    "ax.plot_surface(x_values, y_values, z_values, linewidth=0.2, \n",
    "                color=\"red\", alpha=0.5)\n",
    "angle=30\n",
    "ax.view_init(30, angle)\n",
    "plt.show()"
   ]
  },
  {
   "cell_type": "markdown",
   "metadata": {},
   "source": [
    "The prediction of linear regression can be done with the ``predict`` method. The cost function of a linear regression is calculated with mean squared error function."
   ]
  },
  {
   "cell_type": "code",
   "execution_count": null,
   "metadata": {},
   "outputs": [],
   "source": [
    "y_pred = linear_regression.predict(boston_housing_df[[\"RM\", \"LSTAT\"]]) \n",
    "y_true = boston_housing_df[\"MEDV\"]\n",
    "mean_squared_error(y_true, y_pred)"
   ]
  },
  {
   "cell_type": "markdown",
   "metadata": {},
   "source": [
    "To understand the method in more details we use a simple example of humans heights and weights values."
   ]
  },
  {
   "cell_type": "code",
   "execution_count": 16,
   "metadata": {},
   "outputs": [],
   "source": [
    "heights = np.array([188, 181, 197, 168, 167, 187, 178, 194, 140, 176, 168, 192, 173, 142, 176]).reshape(-1, 1)\n",
    "weights = np.array([141, 106, 149, 59, 79, 136, 65, 136, 52, 87, 115, 140, 82, 69, 121]).reshape(-1, 1)"
   ]
  },
  {
   "cell_type": "markdown",
   "metadata": {},
   "source": [
    "For comparison, we use the linear regression available in sklearn library. "
   ]
  },
  {
   "cell_type": "code",
   "execution_count": 19,
   "metadata": {},
   "outputs": [
    {
     "data": {
      "text/plain": [
       "LinearRegression()"
      ]
     },
     "execution_count": 19,
     "metadata": {},
     "output_type": "execute_result"
    }
   ],
   "source": [
    "from sklearn import linear_model\n",
    "import numpy as np\n",
    "import matplotlib.pyplot as plt\n",
    "\n",
    "regr = linear_model.LinearRegression()\n",
    "regr.fit(heights, weights)"
   ]
  },
  {
   "cell_type": "markdown",
   "metadata": {},
   "source": [
    "As in the previous example, we can plot the slope."
   ]
  },
  {
   "cell_type": "code",
   "execution_count": 20,
   "metadata": {},
   "outputs": [
    {
     "data": {
      "image/png": "[encoded data removed]",
      "text/plain": [
       "<Figure size 432x288 with 1 Axes>"
      ]
     },
     "metadata": {
      "needs_background": "light"
     },
     "output_type": "display_data"
    }
   ],
   "source": [
    "plt.scatter(heights, weights,color='g')\n",
    "plt.plot(heights, regr.predict(heights),color='k')\n",
    "\n",
    "plt.show()"
   ]
  },
  {
   "cell_type": "markdown",
   "metadata": {},
   "source": [
    "The coeffieciencies are calculated as:"
   ]
  },
  {
   "cell_type": "code",
   "execution_count": 21,
   "metadata": {},
   "outputs": [
    {
     "name": "stdout",
     "output_type": "stream",
     "text": [
      "[[1.61814247]]\n",
      "[-180.92401772]\n"
     ]
    }
   ],
   "source": [
    "print(regr.coef_)\n",
    "print(regr.intercept_)"
   ]
  },
  {
   "cell_type": "markdown",
   "metadata": {},
   "source": [
    "If we calcualte the $y$ value for $x=150$:"
   ]
  },
  {
   "cell_type": "code",
   "execution_count": 22,
   "metadata": {},
   "outputs": [
    {
     "data": {
      "image/png": "[encoded data removed]",
      "text/plain": [
       "<Figure size 432x288 with 1 Axes>"
      ]
     },
     "metadata": {
      "needs_background": "light"
     },
     "output_type": "display_data"
    }
   ],
   "source": [
    "plt.scatter(heights, weights,color='g')\n",
    "plt.plot(heights, regr.predict(heights),color='k')\n",
    "\n",
    "x= 150\n",
    "y = 61.797\n",
    "plt.scatter(x, y,color='r')\n",
    "\n",
    "plt.show()"
   ]
  },
  {
   "cell_type": "markdown",
   "metadata": {},
   "source": [
    "## Linear regression from scratch\n",
    "\n",
    "And now we can use the data set to implement the linear regression from scratch."
   ]
  },
  {
   "cell_type": "code",
   "execution_count": 23,
   "metadata": {},
   "outputs": [],
   "source": [
    "x = heights.reshape(15,1)\n",
    "y = weights.reshape(15,1)"
   ]
  },
  {
   "cell_type": "markdown",
   "metadata": {},
   "source": [
    "We should add the bias column before doing the calculation. "
   ]
  },
  {
   "cell_type": "code",
   "execution_count": 24,
   "metadata": {},
   "outputs": [],
   "source": [
    "x = np.append(x, np.ones((15,1)), axis = 1)"
   ]
  },
  {
   "cell_type": "markdown",
   "metadata": {},
   "source": [
    "The equation for calculating the weights is \n",
    "\\begin{equation}\n",
    "(X^{T}X)^{-1}X^{T}y\n",
    "\\end{equation}"
   ]
  },
  {
   "cell_type": "code",
   "execution_count": 25,
   "metadata": {},
   "outputs": [],
   "source": [
    "w = np.dot(np.linalg.inv(np.dot(np.transpose(x),x)),np.dot(np.transpose(x),y))"
   ]
  },
  {
   "cell_type": "markdown",
   "metadata": {},
   "source": [
    "The weitghs we can as the output are exaclty the same as we get using sklearn implementation of the linear regression method."
   ]
  },
  {
   "cell_type": "code",
   "execution_count": 26,
   "metadata": {},
   "outputs": [
    {
     "data": {
      "text/plain": [
       "array([[   1.61814247],\n",
       "       [-180.92401772]])"
      ]
     },
     "execution_count": 26,
     "metadata": {},
     "output_type": "execute_result"
    }
   ],
   "source": [
    "w"
   ]
  },
  {
   "cell_type": "markdown",
   "metadata": {},
   "source": [
    "To make the prediction a bit easier, we can implement a short function where the arguments are: \n",
    "- inputs - feature $x$ of objects,\n",
    "- w - weights,\n",
    "- b - bias.\n",
    "The calculation is easy and use the linear regression equation $y=wx+b$."
   ]
  },
  {
   "cell_type": "code",
   "execution_count": 27,
   "metadata": {},
   "outputs": [],
   "source": [
    "def reg_predict(inputs, w, b):\n",
    "    results = []\n",
    "    for inp in inputs:\n",
    "        results.append(inp*w+b)\n",
    "    return results"
   ]
  },
  {
   "cell_type": "markdown",
   "metadata": {},
   "source": [
    "Finally, we can plot the predicted values using the function above."
   ]
  },
  {
   "cell_type": "code",
   "execution_count": 28,
   "metadata": {},
   "outputs": [
    {
     "data": {
      "image/png": "[encoded data removed]",
      "text/plain": [
       "<Figure size 432x288 with 1 Axes>"
      ]
     },
     "metadata": {
      "needs_background": "light"
     },
     "output_type": "display_data"
    }
   ],
   "source": [
    "plt.scatter(heights.flatten(), weights.flatten(),color='g')\n",
    "plt.plot(heights.flatten(), reg_predict(heights.flatten(), w[0], w[1]) ,color='k')\n",
    "\n",
    "x1 = 150\n",
    "y = reg_predict([x1], w[0], w[1])[0]\n",
    "plt.scatter(x1, y,color='r')\n",
    "\n",
    "plt.show()"
   ]
  },
  {
   "cell_type": "code",
   "execution_count": 29,
   "metadata": {},
   "outputs": [
    {
     "data": {
      "text/plain": [
       "[array([-34012.0971882]),\n",
       " array([-179.30587525]),\n",
       " array([-32745.62906419]),\n",
       " array([-179.30587525]),\n",
       " array([-35640.41334765]),\n",
       " array([-179.30587525]),\n",
       " array([-30393.61683388]),\n",
       " array([-179.30587525]),\n",
       " array([-30212.69281616]),\n",
       " array([-179.30587525]),\n",
       " array([-33831.17317049]),\n",
       " array([-179.30587525]),\n",
       " array([-32202.85701104]),\n",
       " array([-179.30587525]),\n",
       " array([-35097.6412945]),\n",
       " array([-179.30587525]),\n",
       " array([-25327.74433782]),\n",
       " array([-179.30587525]),\n",
       " array([-31841.00897561]),\n",
       " array([-179.30587525]),\n",
       " array([-30393.61683388]),\n",
       " array([-179.30587525]),\n",
       " array([-34735.79325907]),\n",
       " array([-179.30587525]),\n",
       " array([-31298.23692246]),\n",
       " array([-179.30587525]),\n",
       " array([-25689.59237325]),\n",
       " array([-179.30587525]),\n",
       " array([-31841.00897561]),\n",
       " array([-179.30587525])]"
      ]
     },
     "execution_count": 29,
     "metadata": {},
     "output_type": "execute_result"
    }
   ],
   "source": [
    "reg_predict(x.flatten(), w[1], w[0])"
   ]
  },
  {
   "cell_type": "markdown",
   "metadata": {},
   "source": [
    "# Ridge regression\n",
    "\n",
    "Ridge regression use a regularizer and the equation is a bit more complex compare to the regular linear regression:\n",
    "\\begin{equation}\n",
    " \\sum_{i=1}^{M}(y_{i}-\\sum_{j=0}^{p}w_{j}\\dot x_{ij})^{2} + \\lambda\\sum_{j=0}^{p}w^{2}_{j}.\n",
    "\\end{equation}\n",
    "We have an additional parameter $\\lambda$ that is known in sklearn as $\\alpha$. It's the regularizer that together with $w^{2}_{j}$ is known as the L2 regularizator."
   ]
  },
  {
   "cell_type": "code",
   "execution_count": 30,
   "metadata": {},
   "outputs": [
    {
     "name": "stderr",
     "output_type": "stream",
     "text": [
      "/Users/kprzystalski/miniforge3/lib/python3.9/site-packages/sklearn/utils/validation.py:593: FutureWarning: np.matrix usage is deprecated in 1.0 and will raise a TypeError in 1.2. Please convert to a numpy array with np.asarray. For more information see: https://numpy.org/doc/stable/reference/generated/numpy.matrix.html\n",
      "  warnings.warn(\n"
     ]
    },
    {
     "data": {
      "text/plain": [
       "(array([[-101.72397081,    1.16978757]]), 0.0)"
      ]
     },
     "execution_count": 30,
     "metadata": {},
     "output_type": "execute_result"
    }
   ],
   "source": [
    "from sklearn.linear_model import Ridge\n",
    "\n",
    "alpha = 0.1\n",
    "\n",
    "heights1 = np.asmatrix(np.c_[np.ones((15,1)), heights])\n",
    "\n",
    "ridge_regression = Ridge(alpha=alpha, fit_intercept=False)\n",
    "ridge_regression.fit(X=heights1, \n",
    "                      y=weights)\n",
    "ridge_regression.coef_, ridge_regression.intercept_ "
   ]
  },
  {
   "cell_type": "markdown",
   "metadata": {},
   "source": [
    "Similar to the regular linear regression, the slop can be drawn as below."
   ]
  },
  {
   "cell_type": "code",
   "execution_count": 31,
   "metadata": {},
   "outputs": [
    {
     "name": "stderr",
     "output_type": "stream",
     "text": [
      "/Users/kprzystalski/miniforge3/lib/python3.9/site-packages/sklearn/utils/validation.py:593: FutureWarning: np.matrix usage is deprecated in 1.0 and will raise a TypeError in 1.2. Please convert to a numpy array with np.asarray. For more information see: https://numpy.org/doc/stable/reference/generated/numpy.matrix.html\n",
      "  warnings.warn(\n"
     ]
    },
    {
     "data": {
      "image/png": "[encoded data removed]",
      "text/plain": [
       "<Figure size 432x288 with 1 Axes>"
      ]
     },
     "metadata": {
      "needs_background": "light"
     },
     "output_type": "display_data"
    }
   ],
   "source": [
    "plt.scatter(heights, weights,color='g')\n",
    "plt.plot(heights, ridge_regression.predict(heights1),color='k')\n",
    "\n",
    "x = 150\n",
    "y = reg_predict([150], ridge_regression.coef_[0][1], ridge_regression.coef_[0][0])[0]\n",
    "plt.scatter(x, y,color='r')\n",
    "\n",
    "y = ridge_regression.coef_[0][1] * 150 + ridge_regression.coef_[0][0]\n",
    "\n",
    "plt.show()"
   ]
  },
  {
   "cell_type": "markdown",
   "metadata": {},
   "source": [
    "For $x_{1}=150$ the result is a bit different compared to the regression without the regularization."
   ]
  },
  {
   "cell_type": "code",
   "execution_count": 34,
   "metadata": {},
   "outputs": [],
   "source": [
    "w=w.ravel()"
   ]
  },
  {
   "cell_type": "markdown",
   "metadata": {},
   "source": [
    "The plot looks as below. We see the the slope start with higer $y$ values compared to the regular linear regression."
   ]
  },
  {
   "cell_type": "markdown",
   "metadata": {},
   "source": [
    "# Lasso regression\n",
    "\n",
    "Lasso regression uses the L1 regularization. The equation is very similar to the Ridge one, but instead of $w^{2}$ we use the magnitude of $w$. \n",
    "\n",
    "\\begin{equation}\n",
    " \\sum_{i=1}^{M}(y_{i}-\\sum_{j=0}^{p}w_{j}\\dot x_{ij})^{2} + \\lambda\\sum_{j=0}^{p}|w_{j}|.\n",
    "\\end{equation}"
   ]
  },
  {
   "cell_type": "code",
   "execution_count": 36,
   "metadata": {},
   "outputs": [
    {
     "data": {
      "text/plain": [
       "(array([1.61776499]), array([-180.8579086]))"
      ]
     },
     "execution_count": 36,
     "metadata": {},
     "output_type": "execute_result"
    }
   ],
   "source": [
    "from sklearn.linear_model import Lasso\n",
    "\n",
    "alpha = 0.1\n",
    "heights1 = np.asmatrix(np.c_[np.ones((15,1)), heights])\n",
    "\n",
    "lasso_regression = Lasso(alpha=alpha)\n",
    "lasso_regression.fit(X=heights, \n",
    "                      y=weights)\n",
    "lasso_regression.coef_, lasso_regression.intercept_ "
   ]
  },
  {
   "cell_type": "markdown",
   "metadata": {},
   "source": [
    "We can plot the slope as in the previous example."
   ]
  },
  {
   "cell_type": "code",
   "execution_count": 37,
   "metadata": {},
   "outputs": [
    {
     "data": {
      "image/png": "[encoded data removed]",
      "text/plain": [
       "<Figure size 432x288 with 1 Axes>"
      ]
     },
     "metadata": {
      "needs_background": "light"
     },
     "output_type": "display_data"
    }
   ],
   "source": [
    "plt.scatter(heights, weights,color='g')\n",
    "plt.plot(heights, lasso_regression.predict(heights),color='k')\n",
    "\n",
    "plt.show()"
   ]
  },
  {
   "cell_type": "markdown",
   "metadata": {},
   "source": [
    "### Stochastic Gradient Decent (SGD) \n",
    "\n",
    "The way of calculating the linear regression as shown in the previous section is simple, but for many cases not efficient. A different way and one of the most popular methods to find the proper weights are the mean squared error and the stochastic gradient descent, where the first is formulated as:\n",
    "\\begin{equation}\n",
    "  MSE = \\frac{1}{n}\\sum_{i=1}^{n}(y-\\hat{y})^{2}.\n",
    "\\end{equation}\n",
    "MSE or modification of it can be used to implement a stochastic gradient descent (SGD). A cost function in linear regression is defined as following:\n",
    "\\begin{equation}\n",
    "\\sum_{i=1}^{M}(y_{i}-\\sum_{j=0}^{p}w_{j}\\dot x_{ij})^{2}.\n",
    "\\end{equation}\n",
    "\n",
    "The SGD implementation is given below."
   ]
  },
  {
   "cell_type": "code",
   "execution_count": 51,
   "metadata": {},
   "outputs": [],
   "source": [
    "def sgd(coeffs, x, y, epochs, rate = 0.1, l1 = 0.1):\n",
    "    norm = np.linalg.norm(x, axis = 0)\n",
    "    w = coeffs[0]\n",
    "    b = coeffs[1\n",
    "    m = y.shape[0]\n",
    "    n = x.shape[1]\n",
    "    for i in range(epochs):\n",
    "        x_in = x[:,1].reshape(-1, 1)\n",
    "        y_pred = x_in * w + b\n",
    "        if w > 0:\n",
    "            dW = (- (2 * x_in.T.dot(y - y_pred)) + l1 ) / norm[1] ** 2\n",
    "        else:\n",
    "            dW = (- (2 * x_in.T.dot(y - y_pred)) - l1 ) / norm[1] ** 2\n",
    "        db = - 2 * np.sum(y - y_pred) // norm[0] ** 2\n",
    "        w = w - rate * dW\n",
    "        b = b - rate * db\n",
    "    coeffs[0] = b\n",
    "    coeffs[1] = w\n",
    "    return coeffs"
   ]
  },
  {
   "cell_type": "markdown",
   "metadata": {},
   "source": [
    "We use the same BMI data set, but the execution it slightly different. "
   ]
  },
  {
   "cell_type": "code",
   "execution_count": 56,
   "metadata": {},
   "outputs": [],
   "source": [
    "x = np.array([188, 181, 197, 168, 167, 187, 178, 194, 140, 176, 168, 192, 173, 142, 176]).reshape(-1, 1).reshape(15,1)\n",
    "y = np.array([141, 106, 149, 59, 79, 136, 65, 136, 52, 87, 115, 140, 82, 69, 121]).reshape(-1, 1).reshape(15,1)\n",
    "\n",
    "x = np.asmatrix(np.c_[np.ones((len(x),1)),x])\n",
    "\n",
    "I = np.identity(2)\n",
    "alpha = 0.1 \n",
    "\n",
    "init_c = np.zeros((2,1))\n",
    "results = []\n",
    "\n",
    "w2 = sgd(init_c, x, y, 10, 0.1, alpha)\n",
    "w2 = w2.ravel()\n",
    "results.append(w2)\n",
    "\n",
    "w1 = np.linalg.inv(x.T * x + alpha * I) * x.T * y\n",
    "w1 = w1.ravel()\n",
    "w1 = np.squeeze(np.asarray(w1))\n",
    "results.append(w1)"
   ]
  },
  {
   "cell_type": "markdown",
   "metadata": {},
   "source": [
    "The plot is similar to the previous example, becauce of small data set. The weigths and bias are slightly different comapred to previous."
   ]
  },
  {
   "cell_type": "code",
   "execution_count": 57,
   "metadata": {},
   "outputs": [
    {
     "data": {
      "image/png": "[encoded data removed]",
      "text/plain": [
       "<Figure size 432x288 with 1 Axes>"
      ]
     },
     "metadata": {
      "needs_background": "light"
     },
     "output_type": "display_data"
    }
   ],
   "source": [
    "plt.scatter(heights, weights,color='g')\n",
    "plt.plot(heights.flatten(), reg_predict(heights.flatten(), w.item(1), w.item(0)) ,label='bmi',color='red')\n",
    "plt.legend(loc='best')\n",
    "plt.show()"
   ]
  },
  {
   "cell_type": "markdown",
   "metadata": {},
   "source": [
    "## Naive Bayes\n",
    "\n",
    "The Iris data set consits of three classes. To simplify the usage of Naive Bayes method we use only two. The data preparation is given below."
   ]
  },
  {
   "cell_type": "code",
   "execution_count": null,
   "metadata": {},
   "outputs": [],
   "source": [
    "from sklearn.model_selection import train_test_split\n",
    "\n",
    "iris = load_iris()\n",
    "data_set = iris.data\n",
    "labels = iris.target\n",
    "data_set = data_set[:,:2]\n",
    "\n",
    "data_set = data_set[labels!=2]\n",
    "labels = labels[labels!=2]\n",
    "\n",
    "train_data_set, test_data_set, train_labels, test_labels = train_test_split(\n",
    "    data_set, labels, test_size=0.2, random_state=15)\n",
    "\n",
    "train_labels[train_labels<1] = -1\n",
    "test_labels[test_labels<1] = -1\n",
    "\n",
    "train_size = len(train_labels)\n",
    "test_size = len(test_labels)\n",
    "label_count = 2\n",
    "feature_count = 2\n",
    "\n",
    "mean_label0 = np.mean(train_data_set[[np.where(train_labels==-1)]][0],axis=1)\n",
    "mean_label1 = np.mean(train_data_set[[np.where(train_labels==1)]][0],axis=1)\n",
    "\n",
    "std0 = np.std(train_data_set[[np.where(train_labels==-1)]][0],axis=1)\n",
    "std1 = np.std(train_data_set[[np.where(train_labels==1)]][0],axis=1)"
   ]
  },
  {
   "cell_type": "markdown",
   "metadata": {},
   "source": [
    "The functions are next limited to two classes in the `naive_bayes_classifier` function. We changed the classes to 1 and -1 to simplify the classification. The other function are changes slightly to get the means from a list"
   ]
  },
  {
   "cell_type": "code",
   "execution_count": 154,
   "metadata": {},
   "outputs": [],
   "source": [
    "from math import exp\n",
    "from math import pi\n",
    "\n",
    "def naive_bayes_classifier(x):\n",
    "    probabilities = []\n",
    "\n",
    "    label = -1\n",
    "    class_probability = train_size / (train_size * label_count)\n",
    "\n",
    "    label_zero_probability = calculate_probability(x, class_probability, mean_label0, std0)\n",
    "    probabilities.append(label_zero_probability)\n",
    "\n",
    "    label_one_probability = calculate_probability(x, class_probability, mean_label1, std1)\n",
    "    if label_one_probability > label_zero_probability:\n",
    "        label = 1\n",
    "    probabilities.append(label_one_probability)\n",
    "\n",
    "    return label, probabilities\n",
    "\n",
    "\n",
    "def gaussian_pdf(x, mean, stdev):\n",
    "    exponent = exp(-((x-mean)**2 / (2 * stdev**2)))\n",
    "    return (1 / (sqrt(2 * pi) * stdev)) * exponent\n",
    "\n",
    "\n",
    "def calculate_probability(x, class_probability, mean, stdev):\n",
    "    probability = class_probability\n",
    "    i = 0\n",
    "    for feature in range(feature_count):\n",
    "        probability *= gaussian_pdf(x[i], mean[0][feature], stdev[0][feature])\n",
    "        i = i + 1\n",
    "    return probability"
   ]
  },
  {
   "cell_type": "markdown",
   "metadata": {},
   "source": [
    "It is interesting that for many randomly chosen test and train sets, this method achieves an accuracy of 100%."
   ]
  },
  {
   "cell_type": "code",
   "execution_count": 167,
   "metadata": {},
   "outputs": [
    {
     "name": "stdout",
     "output_type": "stream",
     "text": [
      "1.0\n"
     ]
    }
   ],
   "source": [
    "results_prob = []\n",
    "prediction = []\n",
    "for x in  test_data_set:\n",
    "    pred, probabilities = naive_bayes_classifier(x)\n",
    "    results_prob.append(probabilities)\n",
    "    prediction.append(pred)\n",
    "\n",
    "print(accuracy_score(prediction, test_labels))"
   ]
  }
 ],
 "metadata": {
  "kernelspec": {
   "display_name": "Python 3 (ipykernel)",
   "language": "python",
   "name": "python3"
  },
  "language_info": {
   "codemirror_mode": {
    "name": "ipython",
    "version": 3
   },
   "file_extension": ".py",
   "mimetype": "text/x-python",
   "name": "python",
   "nbconvert_exporter": "python",
   "pygments_lexer": "ipython3",
   "version": "3.9.10"
  }
 },
 "nbformat": 4,
 "nbformat_minor": 4
}

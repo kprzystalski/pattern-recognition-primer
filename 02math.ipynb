{
 "cells": [
  {
   "cell_type": "markdown",
   "id": "9cfdd84e-b524-4d16-924b-b3f384901de5",
   "metadata": {},
   "source": [
    "# Math basics\n",
    "\n",
    "In the book we use the student's weight and student's exam examples. The data used to calculate simple statistics are loaded below. In the next section we cover the following topics:\n",
    "\n",
    "- statistics,\n",
    "- probability theory,\n",
    "- linear algebra,\n",
    "- derivatives,\n",
    "- fuzzy sets,\n",
    "- similarity measures."
   ]
  },
  {
   "cell_type": "markdown",
   "id": "b2016da0",
   "metadata": {},
   "source": [
    "## Statistical\n",
    "\n",
    "Two of the examples used in the book are based on student's weights and on hours spent on learning by the students, and how it impacts on the final score. The data can be saved as three lists:"
   ]
  },
  {
   "cell_type": "code",
   "execution_count": 5,
   "id": "345a0520-1c72-43dd-be09-13599aef2d33",
   "metadata": {},
   "outputs": [],
   "source": [
    "students_weight = [89, 67, 110, 92, 75, 95]\n",
    "\n",
    "students_exam_hours = [10, 22, 30, 38, 44, 48]\n",
    "students_exam_points = [40, 52, 61, 75, 88, 95]"
   ]
  },
  {
   "cell_type": "markdown",
   "id": "eae502b4",
   "metadata": {},
   "source": [
    "#### Variance\n",
    "\n",
    "Numpy has a variance method implemented as `var` and for our example it can be calculated as follows:"
   ]
  },
  {
   "cell_type": "code",
   "execution_count": 2,
   "id": "897af755-d868-4ce5-bc7f-73eda570dc2e",
   "metadata": {},
   "outputs": [
    {
     "data": {
      "text/plain": [
       "193.33333333333334"
      ]
     },
     "execution_count": 2,
     "metadata": {},
     "output_type": "execute_result"
    }
   ],
   "source": [
    "import numpy as np\n",
    "\n",
    "np.var(students_weight)"
   ]
  },
  {
   "cell_type": "markdown",
   "id": "66709a67",
   "metadata": {},
   "source": [
    "####  Average mean deviation \n",
    "\n",
    "There is no method implemented in the numpy library specifically for the average mean deviation. We need to calculate the mean of the student's weight using the `abs` and `mean` methods."
   ]
  },
  {
   "cell_type": "code",
   "execution_count": 3,
   "id": "b845b777-500d-44d5-b999-0218b4a9311e",
   "metadata": {},
   "outputs": [
    {
     "data": {
      "text/plain": [
       "88.0"
      ]
     },
     "execution_count": 3,
     "metadata": {},
     "output_type": "execute_result"
    }
   ],
   "source": [
    "np.mean(students_weight)"
   ]
  },
  {
   "cell_type": "code",
   "execution_count": 4,
   "id": "7fa1814a-0743-484f-b800-0d2f11bc7614",
   "metadata": {},
   "outputs": [
    {
     "data": {
      "text/plain": [
       "11.333333333333334"
      ]
     },
     "execution_count": 4,
     "metadata": {},
     "output_type": "execute_result"
    }
   ],
   "source": [
    "np.mean(abs(students_weight-np.mean(students_weight)))"
   ]
  },
  {
   "cell_type": "markdown",
   "id": "509bcdb6",
   "metadata": {},
   "source": [
    "#### Standard deviation\n",
    "\n",
    "Standard deviation as one of the most popular statistics method has a numpy implementation and can be used as follows:"
   ]
  },
  {
   "cell_type": "code",
   "execution_count": 5,
   "id": "f8a2d88f-1b04-402a-8c57-d02bf3886898",
   "metadata": {},
   "outputs": [
    {
     "data": {
      "text/plain": [
       "13.90443574307614"
      ]
     },
     "execution_count": 5,
     "metadata": {},
     "output_type": "execute_result"
    }
   ],
   "source": [
    "np.std(students_weight)"
   ]
  },
  {
   "cell_type": "markdown",
   "id": "06eff858",
   "metadata": {},
   "source": [
    "#### Pearson correlation\n",
    "\n",
    "The Pearson correlation implementation returns by default a matrix, but for our example we just take value that is not on the diagonal of the matrix. In this specific case the correlation value would be 0.98745162."
   ]
  },
  {
   "cell_type": "code",
   "execution_count": 6,
   "id": "ada1d19a-0351-4b0b-a489-f8f6b381ba53",
   "metadata": {},
   "outputs": [
    {
     "data": {
      "text/plain": [
       "array([[1.        , 0.98745162],\n",
       "       [0.98745162, 1.        ]])"
      ]
     },
     "execution_count": 6,
     "metadata": {},
     "output_type": "execute_result"
    }
   ],
   "source": [
    "np.corrcoef(students_exam_hours, students_exam_points)"
   ]
  },
  {
   "cell_type": "markdown",
   "id": "22291904",
   "metadata": {},
   "source": [
    "## Probability\n",
    "\n",
    "The probability section is divided into two parts: combinatorics and probability distribution function. In the first one, we explain the basics of the probability theory like permutation or variation. The second part is dedicated to the PDF that is used in almost all probability-based machine learning methods."
   ]
  },
  {
   "cell_type": "markdown",
   "id": "413faebc-ea17-4fec-8eb4-923d5746cc1b",
   "metadata": {},
   "source": [
    "### Combinatorics\n",
    "\n",
    "We have six combinatorics methods that can be used in more complex methods as the basis:\n",
    "\n",
    "- permutation,\n",
    "- permutation with repetition,\n",
    "- variation,\n",
    "- variation with repetition,\n",
    "- combination,\n",
    "- combination with repetition.\n",
    "\n",
    "#### Permutation\n",
    "\n",
    "Permutation is the simplest combinatorics method and the implementation of this method is part of standard Python `math` library and is called `factorial` as the result of the factorial and permutation is the same."
   ]
  },
  {
   "cell_type": "code",
   "execution_count": 7,
   "id": "27e40019",
   "metadata": {},
   "outputs": [
    {
     "data": {
      "text/plain": [
       "24"
      ]
     },
     "execution_count": 7,
     "metadata": {},
     "output_type": "execute_result"
    }
   ],
   "source": [
    "from math import factorial\n",
    "\n",
    "factorial(4)"
   ]
  },
  {
   "cell_type": "markdown",
   "id": "80addb40",
   "metadata": {},
   "source": [
    "#### Permutation with repetition\n",
    "\n",
    "The version of permutation with repetition is also a part of the standard `math` libary. Use the `perm` method to calculate it."
   ]
  },
  {
   "cell_type": "code",
   "execution_count": 8,
   "id": "7f098d41",
   "metadata": {},
   "outputs": [
    {
     "data": {
      "text/plain": [
       "24"
      ]
     },
     "execution_count": 8,
     "metadata": {},
     "output_type": "execute_result"
    }
   ],
   "source": [
    "import math\n",
    "\n",
    "math.perm(4, 3)"
   ]
  },
  {
   "cell_type": "markdown",
   "id": "320c683d",
   "metadata": {},
   "source": [
    "#### Variation\n",
    "\n",
    "Variation is not implemented in `math`, but we can calculate it using with the `factorial` method as follows:"
   ]
  },
  {
   "cell_type": "code",
   "execution_count": 9,
   "id": "4ddbd2c3",
   "metadata": {},
   "outputs": [
    {
     "data": {
      "text/plain": [
       "24.0"
      ]
     },
     "execution_count": 9,
     "metadata": {},
     "output_type": "execute_result"
    }
   ],
   "source": [
    "factorial(4)/factorial(4-3)"
   ]
  },
  {
   "cell_type": "markdown",
   "id": "358d32c2",
   "metadata": {},
   "source": [
    "#### Variation with repetition\n",
    "\n",
    "Variation with repetition can be calculated just using the power operator `**`:"
   ]
  },
  {
   "cell_type": "code",
   "execution_count": 10,
   "id": "91463111",
   "metadata": {},
   "outputs": [
    {
     "data": {
      "text/plain": [
       "32"
      ]
     },
     "execution_count": 10,
     "metadata": {},
     "output_type": "execute_result"
    }
   ],
   "source": [
    "2**5"
   ]
  },
  {
   "cell_type": "markdown",
   "id": "b7cfc233",
   "metadata": {},
   "source": [
    "#### Combination\n",
    "\n",
    "Combination has a implementation within the `math` library:"
   ]
  },
  {
   "cell_type": "code",
   "execution_count": 11,
   "id": "03fafbe9",
   "metadata": {},
   "outputs": [
    {
     "data": {
      "text/plain": [
       "11238513"
      ]
     },
     "execution_count": 11,
     "metadata": {},
     "output_type": "execute_result"
    }
   ],
   "source": [
    "math.comb(69, 5)"
   ]
  },
  {
   "cell_type": "markdown",
   "id": "8a798171",
   "metadata": {},
   "source": [
    "#### Combination with repetition\n",
    "\n",
    "The version with repetition is just the same method as above, but the arguments needs to be calculated befoe we calculate it:"
   ]
  },
  {
   "cell_type": "code",
   "execution_count": 12,
   "id": "b65bede3",
   "metadata": {},
   "outputs": [
    {
     "data": {
      "text/plain": [
       "56"
      ]
     },
     "execution_count": 12,
     "metadata": {},
     "output_type": "execute_result"
    }
   ],
   "source": [
    "math.comb(8, 3)"
   ]
  },
  {
   "cell_type": "markdown",
   "id": "cc095ae6",
   "metadata": {},
   "source": [
    "## Linear algebra\n",
    "\n",
    "Linear algebra is the basis of all machine learning methods. We can easily load or save data into a txt or csv files as below."
   ]
  },
  {
   "cell_type": "code",
   "execution_count": 23,
   "id": "44d60441-313a-466f-b0fb-e4d8a60ef0f2",
   "metadata": {},
   "outputs": [],
   "source": [
    "np.loadtxt('matrix.txt')"
   ]
  },
  {
   "cell_type": "code",
   "execution_count": null,
   "id": "1ec14e7a-b776-4ba3-8081-ceb8f1a73d3b",
   "metadata": {},
   "outputs": [],
   "source": [
    "np.genfromtxt('matrix.csv', delimiter=';')"
   ]
  },
  {
   "cell_type": "markdown",
   "id": "808d6790-06f8-413d-8cc4-053c9b943d68",
   "metadata": {},
   "source": [
    "We use vectors and matrices to generate specific matrices as below"
   ]
  },
  {
   "cell_type": "code",
   "execution_count": 10,
   "id": "327a5272-2852-4a23-83b2-c3afd74935d1",
   "metadata": {},
   "outputs": [
    {
     "data": {
      "text/plain": [
       "array([[1., 1., 1.],\n",
       "       [1., 1., 1.]])"
      ]
     },
     "execution_count": 10,
     "metadata": {},
     "output_type": "execute_result"
    }
   ],
   "source": [
    "np.ones((2,3))"
   ]
  },
  {
   "cell_type": "code",
   "execution_count": 11,
   "id": "6e095870-37d0-4b9d-90ca-7accb20ed7bb",
   "metadata": {},
   "outputs": [
    {
     "data": {
      "text/plain": [
       "array([[0., 0., 0.],\n",
       "       [0., 0., 0.]])"
      ]
     },
     "execution_count": 11,
     "metadata": {},
     "output_type": "execute_result"
    }
   ],
   "source": [
    "np.zeros((2,3))"
   ]
  },
  {
   "cell_type": "code",
   "execution_count": 12,
   "id": "cced1b6c-e316-42bb-895f-22bb2dc52672",
   "metadata": {},
   "outputs": [
    {
     "data": {
      "text/plain": [
       "array([[1., 0., 0., 0.],\n",
       "       [0., 1., 0., 0.],\n",
       "       [0., 0., 1., 0.],\n",
       "       [0., 0., 0., 1.]])"
      ]
     },
     "execution_count": 12,
     "metadata": {},
     "output_type": "execute_result"
    }
   ],
   "source": [
    "np.eye(4)"
   ]
  },
  {
   "cell_type": "code",
   "execution_count": 26,
   "id": "64e366fc-1aa6-4405-b5b0-59adea31312e",
   "metadata": {},
   "outputs": [
    {
     "name": "stdout",
     "output_type": "stream",
     "text": [
      "[[0.27906132 0.13397507 0.51355623 0.28818007]\n",
      " [0.95089323 0.95641556 0.50542803 0.96245987]]\n"
     ]
    }
   ],
   "source": [
    "matrix = np.random.rand(2,4)\n",
    "print(arr)"
   ]
  },
  {
   "cell_type": "markdown",
   "id": "f0ac10fc",
   "metadata": {},
   "source": [
    "We can add or modify the matrices using like the following matrics:"
   ]
  },
  {
   "cell_type": "code",
   "execution_count": 16,
   "id": "414dd442-3490-4a38-9d98-e47e26cb25be",
   "metadata": {},
   "outputs": [
    {
     "data": {
      "text/plain": [
       "array([0.27906132, 0.13397507, 0.51355623, 0.28818007, 0.95089323,\n",
       "       0.95641556, 0.50542803, 0.96245987, 0.        , 1.        ])"
      ]
     },
     "execution_count": 16,
     "metadata": {},
     "output_type": "execute_result"
    }
   ],
   "source": [
    "values = [0,1]\n",
    "np.append(matrix,values)"
   ]
  },
  {
   "cell_type": "code",
   "execution_count": 27,
   "id": "6585a277-6626-4bc4-8b00-79122ca12946",
   "metadata": {},
   "outputs": [
    {
     "data": {
      "text/plain": [
       "array([0.97092532, 0.        , 1.        , 0.99867389, 0.62479118,\n",
       "       0.2850075 , 0.24181981, 0.11072991, 0.47234904, 0.31011502])"
      ]
     },
     "execution_count": 27,
     "metadata": {},
     "output_type": "execute_result"
    }
   ],
   "source": [
    "np.insert(matrix,1,values)"
   ]
  },
  {
   "cell_type": "code",
   "execution_count": 28,
   "id": "c093e1b7-8352-4cf9-8781-020941e843cf",
   "metadata": {},
   "outputs": [
    {
     "data": {
      "text/plain": [
       "array([[0.24181981, 0.11072991, 0.47234904, 0.31011502]])"
      ]
     },
     "execution_count": 28,
     "metadata": {},
     "output_type": "execute_result"
    }
   ],
   "source": [
    "np.delete(matrix,0,axis=0)"
   ]
  },
  {
   "cell_type": "code",
   "execution_count": 29,
   "id": "7191ed23-5657-49c2-bf7f-6a641e664c4c",
   "metadata": {},
   "outputs": [
    {
     "data": {
      "text/plain": [
       "array([[0.99867389, 0.62479118, 0.2850075 ],\n",
       "       [0.11072991, 0.47234904, 0.31011502]])"
      ]
     },
     "execution_count": 29,
     "metadata": {},
     "output_type": "execute_result"
    }
   ],
   "source": [
    "np.delete(matrix,0,axis=1)"
   ]
  },
  {
   "cell_type": "code",
   "execution_count": 30,
   "id": "1da65e89-e03d-4921-8de4-9d51fa833375",
   "metadata": {},
   "outputs": [
    {
     "data": {
      "text/plain": [
       "array([[1.94185065, 1.99734778, 1.24958236, 0.570015  ],\n",
       "       [0.48363961, 0.22145982, 0.94469807, 0.62023004]])"
      ]
     },
     "execution_count": 30,
     "metadata": {},
     "output_type": "execute_result"
    }
   ],
   "source": [
    "np.add(matrix,matrix)"
   ]
  },
  {
   "cell_type": "code",
   "execution_count": 31,
   "id": "596c6561-cd93-4659-9d99-aac195105bd2",
   "metadata": {},
   "outputs": [
    {
     "data": {
      "text/plain": [
       "array([[0.94269599, 0.99734954, 0.39036402, 0.08122927],\n",
       "       [0.05847682, 0.01226111, 0.22311361, 0.09617133]])"
      ]
     },
     "execution_count": 31,
     "metadata": {},
     "output_type": "execute_result"
    }
   ],
   "source": [
    "np.multiply(matrix,matrix)"
   ]
  },
  {
   "cell_type": "code",
   "execution_count": 23,
   "id": "abd030a3-e346-4d94-80e3-84fdb50f38cd",
   "metadata": {},
   "outputs": [
    {
     "data": {
      "text/plain": [
       "array([[1., 1., 1., 1.],\n",
       "       [1., 1., 1., 1.]])"
      ]
     },
     "execution_count": 23,
     "metadata": {},
     "output_type": "execute_result"
    }
   ],
   "source": [
    "np.divide(matrix,matrix)"
   ]
  },
  {
   "cell_type": "code",
   "execution_count": 25,
   "id": "1b5e9411-4d50-4f7b-b8ad-9a87c66ab877",
   "metadata": {},
   "outputs": [
    {
     "data": {
      "text/plain": [
       "array([[0.44261229, 0.93042083],\n",
       "       [0.93042083, 3.00071515]])"
      ]
     },
     "execution_count": 25,
     "metadata": {},
     "output_type": "execute_result"
    }
   ],
   "source": [
    "np.dot(matrix,matrix.T)"
   ]
  },
  {
   "cell_type": "code",
   "execution_count": 32,
   "id": "68d74bf6-4d77-4a6a-9f0d-48e90932baef",
   "metadata": {},
   "outputs": [
    {
     "data": {
      "text/plain": [
       "array([[0., 0., 0., 0.],\n",
       "       [0., 0., 0., 0.]])"
      ]
     },
     "execution_count": 32,
     "metadata": {},
     "output_type": "execute_result"
    }
   ],
   "source": [
    "np.subtract(matrix,matrix)"
   ]
  },
  {
   "cell_type": "markdown",
   "id": "34566a7d",
   "metadata": {},
   "source": [
    "We can also modify the size or return as a Python list."
   ]
  },
  {
   "cell_type": "code",
   "execution_count": 36,
   "id": "ebd32b22-6437-4e92-bf1c-2caffc77740d",
   "metadata": {},
   "outputs": [
    {
     "name": "stdout",
     "output_type": "stream",
     "text": [
      "[[0.81592002 0.27706366]\n",
      " [0.21795057 0.74534573]\n",
      " [0.35019381 0.61328726]\n",
      " [0.93885162 0.53898698]]\n"
     ]
    }
   ],
   "source": [
    "matrix = np.random.rand(2,4)\n",
    "matrix.resize((4,2))\n",
    "print(matrix)"
   ]
  },
  {
   "cell_type": "code",
   "execution_count": 39,
   "id": "b0c98153-3d45-4c26-be61-05e759be948e",
   "metadata": {},
   "outputs": [
    {
     "name": "stdout",
     "output_type": "stream",
     "text": [
      "[[0.8159200184880483, 0.27706366133824156], [0.21795056680054137, 0.7453457339547729], [0.3501938090346943, 0.613287259410005], [0.9388516230658535, 0.5389869793698621]]\n"
     ]
    }
   ],
   "source": [
    "array = matrix.tolist()\n",
    "print(array)"
   ]
  },
  {
   "cell_type": "markdown",
   "id": "4da4571b",
   "metadata": {},
   "source": [
    "## Derivatives\n",
    "\n",
    "Numpy method `poly1d` generatesa a function. For example, `poly(2,1,1)` generates a function $2x^2+x+1$. The derivative can be calculated using the `deriv` function as following:"
   ]
  },
  {
   "cell_type": "code",
   "execution_count": 41,
   "id": "fb2d15b9-d161-4942-bfc8-c3603e0c608e",
   "metadata": {},
   "outputs": [
    {
     "name": "stdout",
     "output_type": "stream",
     "text": [
      "Derivative:   \n",
      "4 x + 1\n",
      "For x=2 the derivative: 9\n"
     ]
    }
   ],
   "source": [
    "# 2x^2+x+1\n",
    "poly = np.poly1d([2, 1, 1])\n",
    "\n",
    "derivative = poly.deriv()\n",
    "print(\"Derivative: \", derivative)\n",
    "  \n",
    "print(\"For x=2 the derivative:\", derivative(2))"
   ]
  },
  {
   "cell_type": "markdown",
   "id": "9a3c30a9",
   "metadata": {},
   "source": [
    "The gradients can be calculated using the `gradient` method from the Numpy package. To calculate gradients for specific points, we need to set the points on the axis first and the change on $x$ ($dx$)."
   ]
  },
  {
   "cell_type": "code",
   "execution_count": 56,
   "id": "230bc713-b6d2-4ed9-95ff-3e4a62b8fcb8",
   "metadata": {},
   "outputs": [
    {
     "name": "stdout",
     "output_type": "stream",
     "text": [
      "[0.  1.5 3. ]\n"
     ]
    }
   ],
   "source": [
    "x = np.linspace(0,3,3)\n",
    "print(x)"
   ]
  },
  {
   "cell_type": "code",
   "execution_count": 57,
   "id": "a0cccb4a",
   "metadata": {},
   "outputs": [
    {
     "name": "stdout",
     "output_type": "stream",
     "text": [
      "1.5\n"
     ]
    }
   ],
   "source": [
    "dx = x[1]-x[0]\n",
    "print(dx)"
   ]
  },
  {
   "cell_type": "markdown",
   "id": "82020dd6",
   "metadata": {},
   "source": [
    "The function $y$ can be calculated using the points from the $x$ axis. In our examples, it is $y=x^2+1$."
   ]
  },
  {
   "cell_type": "code",
   "execution_count": 60,
   "id": "309c6e63",
   "metadata": {},
   "outputs": [
    {
     "name": "stdout",
     "output_type": "stream",
     "text": [
      "[ 1.    3.25 10.  ]\n"
     ]
    }
   ],
   "source": [
    "y = x**2 + 1\n",
    "print(y)"
   ]
  },
  {
   "cell_type": "code",
   "execution_count": 61,
   "id": "2d18bd2d",
   "metadata": {},
   "outputs": [
    {
     "name": "stdout",
     "output_type": "stream",
     "text": [
      "[1.5 3.  4.5]\n"
     ]
    }
   ],
   "source": [
    "gradients = np.gradient(y, dx)\n",
    "print(gradients)"
   ]
  },
  {
   "cell_type": "markdown",
   "id": "294b1705",
   "metadata": {},
   "source": [
    "## Similarity measures\n",
    "\n",
    "The Euclidean distance is one of the most popular distance metric. A specific method does not exists in numpy to measure it, but it can be easily calculated using the `square` and `sum` methods:"
   ]
  },
  {
   "cell_type": "code",
   "execution_count": 30,
   "id": "2fbc11f8-6d7c-4557-8eda-da3404f7ef7b",
   "metadata": {},
   "outputs": [
    {
     "name": "stdout",
     "output_type": "stream",
     "text": [
      "0.22250000000000003\n"
     ]
    }
   ],
   "source": [
    "point_1 = np.array((0.5, 0.5))\n",
    "point_2 = np.array((0.25, 0.1))\n",
    " \n",
    "euclidean_distance = np.sum(np.square(point_1 - point_2))\n",
    "\n",
    "print(euclidean_distance)"
   ]
  },
  {
   "cell_type": "markdown",
   "id": "e5c43f85",
   "metadata": {},
   "source": [
    "## Fuzzy sets\n",
    "\n",
    "There are different fuzzy membership function, in Python there are a few libraries that implements a few types of these functions. One of such library is `simpful`. An example of thr triangle membership function example."
   ]
  },
  {
   "cell_type": "code",
   "execution_count": 91,
   "id": "14576f4e",
   "metadata": {},
   "outputs": [
    {
     "data": {
      "image/png": "[encoded data removed]",
      "text/plain": [
       "<Figure size 432x288 with 1 Axes>"
      ]
     },
     "metadata": {
      "needs_background": "light"
     },
     "output_type": "display_data"
    }
   ],
   "source": [
    "import simpful as sf\n",
    "\n",
    "triangle_fs = sf.TriangleFuzzySet(a=0, b=5, c=10, term=\"Traingle Membership Function\")\n",
    "trapezoid_fs = sf.TrapezoidFuzzySet(a=0, b=0, c=2, d=4, term=\"Trapezoid Membership Function\")\n",
    "sf.LinguisticVariable([triangle_fs, trapezoid_fs], universe_of_discourse=[0, 10]).plot()"
   ]
  }
 ],
 "metadata": {
  "kernelspec": {
   "display_name": "Python 3 (ipykernel)",
   "language": "python",
   "name": "python3"
  },
  "language_info": {
   "codemirror_mode": {
    "name": "ipython",
    "version": 3
   },
   "file_extension": ".py",
   "mimetype": "text/x-python",
   "name": "python",
   "nbconvert_exporter": "python",
   "pygments_lexer": "ipython3",
   "version": "3.9.10"
  }
 },
 "nbformat": 4,
 "nbformat_minor": 5
}
